{
 "cells": [
  {
   "cell_type": "markdown",
   "metadata": {},
   "source": [
    "# Code formatting and Tools"
   ]
  },
  {
   "cell_type": "markdown",
   "metadata": {},
   "source": [
    "- Follow PEP-8 and have a coding style for your team (it could be an extension/modification o PEP-8).\n",
    "- Use docstrings whenever possible. They can also help generating automatic documentation (using Sphynx, for example). Problem with docstrings: they need to be manually updated and can be long."
   ]
  },
  {
   "cell_type": "markdown",
   "metadata": {},
   "source": [
    "## Docstrings and Annotations"
   ]
  },
  {
   "cell_type": "code",
   "execution_count": null,
   "metadata": {
    "ExecuteTime": {
     "end_time": "2020-07-15T14:06:56.509241Z",
     "start_time": "2020-07-15T14:06:56.504254Z"
    }
   },
   "outputs": [],
   "source": [
    "class Point:\n",
    "    def __init__(self, lat, long):\n",
    "        self.lat = lat\n",
    "        self.long = long\n",
    " \n",
    " \n",
    "def locate(latitude: float, longitude: float) -> Point:\n",
    "    \"\"\"Find an object in the map by its coordinates\"\"\""
   ]
  },
  {
   "cell_type": "code",
   "execution_count": null,
   "metadata": {
    "ExecuteTime": {
     "end_time": "2020-07-15T14:10:10.813259Z",
     "start_time": "2020-07-15T14:10:10.809267Z"
    }
   },
   "outputs": [],
   "source": [
    "locate.__doc__"
   ]
  },
  {
   "cell_type": "markdown",
   "metadata": {},
   "source": [
    "We can get a dictionary with all the annotations:"
   ]
  },
  {
   "cell_type": "code",
   "execution_count": null,
   "metadata": {
    "ExecuteTime": {
     "end_time": "2020-07-15T14:06:49.254575Z",
     "start_time": "2020-07-15T14:06:49.249589Z"
    }
   },
   "outputs": [],
   "source": [
    "locate.__annotations__"
   ]
  },
  {
   "cell_type": "markdown",
   "metadata": {},
   "source": [
    "Docstring don't need to have datatypes if we are using annotations, but it is a good idea to include examples of input and output for complex data types (lik dynamic and nested)."
   ]
  },
  {
   "cell_type": "code",
   "execution_count": null,
   "metadata": {
    "ExecuteTime": {
     "end_time": "2020-07-15T14:40:09.679115Z",
     "start_time": "2020-07-15T14:40:09.674158Z"
    }
   },
   "outputs": [],
   "source": [
    "def data_from_response(response: dict) -> dict:\n",
    "    \"\"\"If the response is OK, return its payload.\n",
    " \n",
    "    - response: A dict like::\n",
    " \n",
    "    {\n",
    "        \"status\": 200, # <int>\n",
    "        \"timestamp\": \"....\", # ISO format string of the current\n",
    "        date time\n",
    "        \"payload\": { ... } # dict with the returned data\n",
    "    }\n",
    " \n",
    "    - Returns a dictionary like::\n",
    " \n",
    "    {\"data\": { .. } }\n",
    " \n",
    "    - Raises:\n",
    "    - ValueError if the HTTP status is != 200\n",
    "    \"\"\"\n",
    "    if response[\"status\"] != 200:\n",
    "        raise ValueError\n",
    "    return {\"data\": response[\"payload\"]}"
   ]
  },
  {
   "cell_type": "markdown",
   "metadata": {},
   "source": [
    "## Tools / Packages"
   ]
  },
  {
   "cell_type": "markdown",
   "metadata": {},
   "source": [
    "- MyPy\n",
    "- Pylint\n",
    "- Makefile for typehint, lint, and test. The build should fail if any of these don't pass.\n",
    "- Code formatter: Black (https://github.com/psf/black)"
   ]
  },
  {
   "cell_type": "markdown",
   "metadata": {},
   "source": [
    "# Pythonic Code"
   ]
  },
  {
   "cell_type": "markdown",
   "metadata": {},
   "source": [
    "## Creating your own sequences"
   ]
  },
  {
   "cell_type": "markdown",
   "metadata": {},
   "source": [
    "Delegate as much as possible to existing functionalities (encapsulation). Every sequence object in Python has the methods \\_\\_len\\_\\_ and \\_\\_getitem\\_\\_:"
   ]
  },
  {
   "cell_type": "code",
   "execution_count": null,
   "metadata": {
    "ExecuteTime": {
     "end_time": "2020-07-15T18:57:41.844415Z",
     "start_time": "2020-07-15T18:57:41.839428Z"
    }
   },
   "outputs": [],
   "source": [
    "class Items:\n",
    "    def __init__(self, *values):\n",
    "        self._values = list(values)\n",
    "        \n",
    "    def __len__(self):\n",
    "        return len(self._values)\n",
    "    \n",
    "    def __getitem(self, item):\n",
    "        return self._values.__getitem(item)\n",
    "        "
   ]
  },
  {
   "cell_type": "markdown",
   "metadata": {},
   "source": [
    "If you need to build your own, follow these rules:\n",
    "- When indexing by range, it should return an instance of the same type of the class\n",
    "- Respect the semantics of a slice, like excluding the last element."
   ]
  },
  {
   "cell_type": "markdown",
   "metadata": {},
   "source": [
    "## Context Managers"
   ]
  },
  {
   "cell_type": "markdown",
   "metadata": {},
   "source": [
    "Context managers consist of two magic methods: \\_\\_enter\\_\\_ and \\_\\_exit\\_\\_. The with statement call the enter method and assigns whatever it returns to the variable after as. After the code in the context, Python runs the exit method (even if there is an error or exception)."
   ]
  },
  {
   "cell_type": "code",
   "execution_count": null,
   "metadata": {
    "ExecuteTime": {
     "end_time": "2020-07-15T19:22:46.231614Z",
     "start_time": "2020-07-15T19:22:46.226652Z"
    }
   },
   "outputs": [],
   "source": [
    "def stop_database():\n",
    "    run(\"systemctl stop postgresql.service\")\n",
    "\n",
    "\n",
    "def start_database():\n",
    "    run(\"systemctl start postgresql.service\")\n",
    "\n",
    "\n",
    "class DBHandler:\n",
    "    def __enter__(self):\n",
    "        stop_database()\n",
    "        return self\n",
    "\n",
    "    def __exit__(self, exc_type, ex_value, ex_traceback):\n",
    "        start_database()\n",
    "\n",
    "\n",
    "def db_backup():\n",
    "    run(\"pg_dump database\")\n",
    "\n",
    "\n",
    "def main():\n",
    "    with DBHandler():\n",
    "        db_backup()"
   ]
  },
  {
   "cell_type": "markdown",
   "metadata": {},
   "source": [
    "We can also build context managers using a decorator. This is useful when we don't want to add more responsabilities (the magic methods) to an existing class."
   ]
  },
  {
   "cell_type": "code",
   "execution_count": null,
   "metadata": {
    "ExecuteTime": {
     "end_time": "2020-07-15T19:22:53.451329Z",
     "start_time": "2020-07-15T19:22:53.445860Z"
    }
   },
   "outputs": [],
   "source": [
    "import contextlib\n",
    "\n",
    "@contextlib.contextmanager\n",
    "def db_handler():\n",
    "    stop_database() # Everything before yield is __enter__\n",
    "    yield  # Whatever is yielded here will be assigned to as ...\n",
    "    start_database() # Everything after is __exit__\n",
    "    \n",
    "with db_handler():\n",
    "    db_backup()"
   ]
  },
  {
   "cell_type": "markdown",
   "metadata": {},
   "source": [
    "Using a decorator without the with is also an option. In the example below, offline_backup is runs inside a context manager. Disvantage: we don't have access to an object inside the context (with ... as ...)."
   ]
  },
  {
   "cell_type": "code",
   "execution_count": null,
   "metadata": {},
   "outputs": [],
   "source": [
    "class dbhandler_decorator(contextlib.ContextDecorator):\n",
    "    def __enter__(self):\n",
    "        stop_database()\n",
    "\n",
    "    def __exit__(self, ext_type, ex_value, ex_traceback):\n",
    "        start_database()\n",
    "\n",
    "# offl\n",
    "@dbhandler_decorator()\n",
    "def offline_backup():\n",
    "    run(\"pg_dump database\")"
   ]
  },
  {
   "cell_type": "markdown",
   "metadata": {},
   "source": [
    "## Underscores (and interfaces)"
   ]
  },
  {
   "cell_type": "markdown",
   "metadata": {},
   "source": [
    "Everythin that is not strictly part on an object's interface (internal use only) should be kept prefixed with a single underscore. This is only a convention, as Python does not enforce it."
   ]
  },
  {
   "cell_type": "code",
   "execution_count": null,
   "metadata": {
    "ExecuteTime": {
     "end_time": "2020-07-15T19:44:23.558904Z",
     "start_time": "2020-07-15T19:44:23.553913Z"
    }
   },
   "outputs": [],
   "source": [
    "class Connector:\n",
    "    def __init__(self, source):\n",
    "        self.source = source\n",
    "        self._timeout = 60\n",
    "        # Common misconception: __ does not make it private\n",
    "        # This is just name mangling: _<class-name.__attribute-name>\n",
    "        # Do not use double underscores\n",
    "        self.__timeout = 60\n",
    "        \n",
    "conn = Connector(\"postgresql://localhost\")"
   ]
  },
  {
   "cell_type": "code",
   "execution_count": null,
   "metadata": {
    "ExecuteTime": {
     "end_time": "2020-07-15T19:43:29.670849Z",
     "start_time": "2020-07-15T19:43:29.666825Z"
    }
   },
   "outputs": [],
   "source": [
    "conn.__dict__"
   ]
  },
  {
   "cell_type": "code",
   "execution_count": null,
   "metadata": {
    "ExecuteTime": {
     "end_time": "2020-07-15T19:43:37.416451Z",
     "start_time": "2020-07-15T19:43:37.411464Z"
    }
   },
   "outputs": [],
   "source": [
    "conn._Connector__timeout"
   ]
  },
  {
   "cell_type": "markdown",
   "metadata": {},
   "source": [
    "## Properties"
   ]
  },
  {
   "cell_type": "markdown",
   "metadata": {},
   "source": [
    "Useful for establishing different rules for retrieving an attribute and setting an attribute.  \n",
    "\n",
    "Good to achieve command and query separation: @property is the query and @<property_name>.setter is the command that will do something.\n",
    "\n",
    "**Advice**: Methods should do one thing (break action and check in separate methods)."
   ]
  },
  {
   "cell_type": "code",
   "execution_count": null,
   "metadata": {
    "ExecuteTime": {
     "end_time": "2020-07-15T20:00:33.296043Z",
     "start_time": "2020-07-15T20:00:33.287099Z"
    }
   },
   "outputs": [],
   "source": [
    "import re\n",
    "\n",
    "EMAIL_FORMAT = re.compile(r\"[^@]+@[^@]+\\.[^@]+\")\n",
    "\n",
    "\n",
    "def is_valid_email(potentially_valid_email: str):\n",
    "    return re.match(EMAIL_FORMAT, potentially_valid_email) is not None\n",
    "\n",
    "\n",
    "class User:\n",
    "    def __init__(self, username):\n",
    "        self.username = username\n",
    "        self._email = None\n",
    "\n",
    "    # This is called by <user>.email (retrieval logic)\n",
    "    @property\n",
    "    def email(self):\n",
    "        return self._email\n",
    "    \n",
    "    # This will be run when we do <user>.email = <new_email> (modification logic)\n",
    "    @email.setter\n",
    "    def email(self, new_email):\n",
    "        if not is_valid_email(new_email):\n",
    "            raise ValueError(f\"Can't set {new_email} as it's not a valid email\")\n",
    "        self._email = new_email"
   ]
  },
  {
   "cell_type": "code",
   "execution_count": null,
   "metadata": {
    "ExecuteTime": {
     "end_time": "2020-07-15T19:59:43.472061Z",
     "start_time": "2020-07-15T19:59:43.458130Z"
    }
   },
   "outputs": [],
   "source": [
    "u1 = User(\"jsmith\")\n",
    "u1.email = 'asas'"
   ]
  },
  {
   "cell_type": "code",
   "execution_count": null,
   "metadata": {
    "ExecuteTime": {
     "end_time": "2020-07-15T19:59:51.618081Z",
     "start_time": "2020-07-15T19:59:51.615091Z"
    }
   },
   "outputs": [],
   "source": [
    "u1.email = \"jsmith@g.co\""
   ]
  },
  {
   "cell_type": "markdown",
   "metadata": {},
   "source": [
    "## Iterable objects"
   ]
  },
  {
   "cell_type": "markdown",
   "metadata": {},
   "source": [
    "When we iterate on an object, Python calls the iter() function over it. If there is a \\_\\_iter\\_\\_ method, Python will execute it."
   ]
  },
  {
   "cell_type": "code",
   "execution_count": null,
   "metadata": {
    "ExecuteTime": {
     "end_time": "2020-07-15T20:21:07.817014Z",
     "start_time": "2020-07-15T20:21:07.809029Z"
    }
   },
   "outputs": [],
   "source": [
    "from datetime import timedelta\n",
    "from datetime import date\n",
    "\n",
    "class DateRangeIterable:\n",
    "    \"\"\"An iterable that contains its own iterator object.\"\"\"\n",
    "\n",
    "    def __init__(self, start_date, end_date):\n",
    "        self.start_date = start_date\n",
    "        self.end_date = end_date\n",
    "        self._present_day = start_date\n",
    "\n",
    "    # By returning self, Python is saying that the object is\n",
    "    # an iterable, and the task of generating values is delegated\n",
    "    # to __next__ \n",
    "    # Python is returning an iterator, so it will work only\n",
    "    # for one loop before it is exhausted\n",
    "    def __iter__(self):\n",
    "        return self\n",
    "\n",
    "    def __next__(self):\n",
    "        if self._present_day >= self.end_date:\n",
    "            raise StopIteration\n",
    "        today = self._present_day\n",
    "        self._present_day += timedelta(days=1)\n",
    "        return today"
   ]
  },
  {
   "cell_type": "markdown",
   "metadata": {},
   "source": [
    "If we need to use the object multiple times, we can create a **generator** every time:"
   ]
  },
  {
   "cell_type": "code",
   "execution_count": null,
   "metadata": {
    "ExecuteTime": {
     "end_time": "2020-07-15T20:20:10.829669Z",
     "start_time": "2020-07-15T20:20:10.824694Z"
    }
   },
   "outputs": [],
   "source": [
    "class DateRangeContainerIterable:\n",
    "    def __init__(self, start_date, end_date):\n",
    "        self.start_date = start_date\n",
    "        self.end_date = end_date\n",
    "\n",
    "    def __iter__(self):\n",
    "        current_day = self.start_date\n",
    "        while current_day < self.end_date:\n",
    "            yield current_day\n",
    "            current_day += timedelta(days=1)"
   ]
  },
  {
   "cell_type": "markdown",
   "metadata": {},
   "source": [
    "The first approach returns an iterator with its own \\_\\_next\\_\\_ method. The second approach creates a generator every time that \\_\\_iter\\_\\_ is called (a generator is also an iterator)."
   ]
  },
  {
   "cell_type": "code",
   "execution_count": null,
   "metadata": {
    "ExecuteTime": {
     "end_time": "2020-07-15T20:22:56.833220Z",
     "start_time": "2020-07-15T20:22:56.830204Z"
    }
   },
   "outputs": [],
   "source": [
    "r0 = DateRangeIterable(date(2018, 1, 1), date(2018, 1, 5))\n",
    "r1 = DateRangeContainerIterable(date(2018, 1, 1), date(2018, 1, 5))"
   ]
  },
  {
   "cell_type": "markdown",
   "metadata": {},
   "source": [
    "## Sequences"
   ]
  },
  {
   "cell_type": "markdown",
   "metadata": {},
   "source": [
    "If our object does not have the \\_\\_iter\\_\\_ method, the iter() function will look for a \\_\\_getitem\\_\\_ method. A sequence is an object that implements \\_\\_getiitem\\_\\_ and \\_\\_len\\_\\_. It also expects to be able to get elements one at a time, by index, starting with index 0.  \n",
    "\n",
    "**Note**: generators are O(n) to get the nth item, but use less memory. Sequences have all the elements in memory, but they are O(1) for retrieval."
   ]
  },
  {
   "cell_type": "code",
   "execution_count": null,
   "metadata": {
    "ExecuteTime": {
     "end_time": "2020-07-15T20:36:05.761227Z",
     "start_time": "2020-07-15T20:36:05.756240Z"
    }
   },
   "outputs": [],
   "source": [
    "class DateRangeSequence:\n",
    "    def __init__(self, start_date, end_date):\n",
    "        self.start_date = start_date\n",
    "        self.end_date = end_date\n",
    "        self._range = self._create_range()\n",
    "        \n",
    "    # Notice that we don't have yield this time\n",
    "    # The method returns the whole sequence\n",
    "    def _create_range(self):\n",
    "        # Using a list here allows us to use several properties\n",
    "        # without explicit definition (like negative indexes)\n",
    "        days = []\n",
    "        current_day = self.start_date\n",
    "        while current_day < self.end_date:\n",
    "            days.append(current_day)\n",
    "            current_day += timedelta(days=1)\n",
    "        return days\n",
    "\n",
    "    def __getitem__(self, day_no):\n",
    "        return self._range[day_no]\n",
    "\n",
    "    def __len__(self):\n",
    "        return len(self._range)"
   ]
  },
  {
   "cell_type": "markdown",
   "metadata": {},
   "source": [
    "## Callable objects"
   ]
  },
  {
   "cell_type": "markdown",
   "metadata": {},
   "source": [
    "The magic method \\_\\_call\\_\\_ will be called wjen we try to execute our object as a regular function.  \n",
    "**Advantage**: objects have states, so we can maintain information across calls (functions with memory)."
   ]
  },
  {
   "cell_type": "code",
   "execution_count": null,
   "metadata": {},
   "outputs": [],
   "source": [
    "from collections import defaultdict\n",
    "\n",
    "class CallCount:\n",
    "\n",
    "    def __init__(self):\n",
    "        self._counts = defaultdict(int)\n",
    "\n",
    "    def __call__(self, argument):\n",
    "        self._counts[argument] += 1\n",
    "        return self._counts[argument]"
   ]
  },
  {
   "cell_type": "markdown",
   "metadata": {},
   "source": [
    "## Caveats"
   ]
  },
  {
   "cell_type": "markdown",
   "metadata": {},
   "source": [
    "These are probably never justified, so refactor them when found."
   ]
  },
  {
   "cell_type": "markdown",
   "metadata": {},
   "source": [
    "**Mutable default arguments**  \n",
    "In the example below, the call works only on the first time."
   ]
  },
  {
   "cell_type": "code",
   "execution_count": null,
   "metadata": {
    "ExecuteTime": {
     "end_time": "2020-07-15T21:14:59.240977Z",
     "start_time": "2020-07-15T21:14:59.237026Z"
    }
   },
   "outputs": [],
   "source": [
    "def func(a=list([1,2,3])):\n",
    "    a.remove(1)\n",
    "    return a"
   ]
  },
  {
   "cell_type": "code",
   "execution_count": null,
   "metadata": {
    "ExecuteTime": {
     "end_time": "2020-07-15T21:14:59.748510Z",
     "start_time": "2020-07-15T21:14:59.742500Z"
    }
   },
   "outputs": [],
   "source": [
    "func()"
   ]
  },
  {
   "cell_type": "markdown",
   "metadata": {},
   "source": [
    "Do this instead:"
   ]
  },
  {
   "cell_type": "code",
   "execution_count": null,
   "metadata": {
    "ExecuteTime": {
     "end_time": "2020-07-15T21:15:37.176561Z",
     "start_time": "2020-07-15T21:15:37.172569Z"
    }
   },
   "outputs": [],
   "source": [
    "def func(a=None):\n",
    "    a= [1,2,3]\n",
    "    \n",
    "    return a"
   ]
  },
  {
   "cell_type": "code",
   "execution_count": null,
   "metadata": {
    "ExecuteTime": {
     "end_time": "2020-07-15T21:15:41.900512Z",
     "start_time": "2020-07-15T21:15:41.895522Z"
    }
   },
   "outputs": [],
   "source": [
    "func()"
   ]
  },
  {
   "cell_type": "markdown",
   "metadata": {},
   "source": [
    "**Extending built-in types**"
   ]
  },
  {
   "cell_type": "markdown",
   "metadata": {},
   "source": [
    "Instead of using inheritance, use the collections module."
   ]
  },
  {
   "cell_type": "code",
   "execution_count": null,
   "metadata": {
    "ExecuteTime": {
     "end_time": "2020-07-15T21:18:32.555988Z",
     "start_time": "2020-07-15T21:18:32.550973Z"
    }
   },
   "outputs": [],
   "source": [
    "from collections import UserList\n",
    "\n",
    "class GoodList(UserList):\n",
    "    def __getitem__(self, index):\n",
    "        value = super().__getitem__(index)\n",
    "        if index % 2 == 0:\n",
    "            prefix = \"even\"\n",
    "        else:\n",
    "            prefix = \"odd\"\n",
    "        return f\"[{prefix}] {value}\""
   ]
  },
  {
   "cell_type": "markdown",
   "metadata": {},
   "source": [
    "# General Traits of Good Code"
   ]
  },
  {
   "cell_type": "markdown",
   "metadata": {},
   "source": [
    "## Design by Contract"
   ]
  },
  {
   "cell_type": "markdown",
   "metadata": {},
   "source": [
    "**Preconditions**: this goes besides cheking types (like when using MyPy). Functions should have a proper validation for the information that is is going to handle.  \n",
    "\n",
    "Important question: where should we place the validation logic? Should the client validate all the data before calling the function? Or should the function itself validate is?\n",
    "\n",
    "**Postconditions**: check and validate for everything that a client might need.\n",
    "\n",
    "**Pythonic way**: not very well defined (PEP is deferred). Maybe using exceptions like RuntimeError or ValueError."
   ]
  },
  {
   "cell_type": "markdown",
   "metadata": {},
   "source": [
    "## Defensive Programming / Error Handling"
   ]
  },
  {
   "cell_type": "markdown",
   "metadata": {},
   "source": [
    "**Value Substitution**  \n",
    "Replace the wrong value with something else.  \n",
    "Trade-off between robustness and correctness.   \n",
    "Not recommended for critical applications.  \n",
    "Good use: default value when data is not provided."
   ]
  },
  {
   "cell_type": "markdown",
   "metadata": {},
   "source": [
    "**Exception Handling**  \n",
    "Raise exceptions when there is actually something wrong with the code that callers need to be aware of. DO NOT use as a go-to for business logic.  \n",
    "\n",
    "*Tip*: If a function raises too many exceptions, maybe it has too many responsabilities and it needs to be broken into smaller functions.  \n",
    "\n",
    "Observations: be careful about exposing tracebacks (privacy and security). Be specific when specifying except blocks (avoid empty except blocks).\n",
    "\n",
    "Example using logger:"
   ]
  },
  {
   "cell_type": "code",
   "execution_count": null,
   "metadata": {
    "ExecuteTime": {
     "end_time": "2020-07-16T13:06:46.864105Z",
     "start_time": "2020-07-16T13:06:46.858089Z"
    }
   },
   "outputs": [],
   "source": [
    "def connect_with_retry(connector, retry_n_times, retry_threshold=5):\n",
    "    \"\"\"Tries to establish the connection of <connector> retrying\n",
    "    <retry_n_times>.\n",
    "\n",
    "    If it can connect, returns the connection object.\n",
    "    If it's not possible after the retries, raises ConnectionError\n",
    "\n",
    "    :param connector: An object with a `.connect()` method.\n",
    "    :param retry_n_times int: The number of times to try to call\n",
    "                                ``connector.connect()``.\n",
    "    :param retry_threshold int: The time lapse between retry calls.\n",
    "\n",
    "    \"\"\"\n",
    "    for _ in range(retry_n_times):\n",
    "        try:\n",
    "            return connector.connect()\n",
    "        except ConnectionError as e:\n",
    "            logger.info(\n",
    "                \"%s: attempting new connection in %is\", e, retry_threshold\n",
    "            )\n",
    "            time.sleep(retry_threshold)\n",
    "    exc = ConnectionError(f\"Couldn't connect after {retry_n_times} times\")\n",
    "    logger.exception(exc)"
   ]
  },
  {
   "cell_type": "markdown",
   "metadata": {},
   "source": [
    "Using the syntax below, the message retains the original exceptions (\"The above exception was the direct cause of the following exception\"):"
   ]
  },
  {
   "cell_type": "code",
   "execution_count": null,
   "metadata": {
    "ExecuteTime": {
     "end_time": "2020-07-16T13:32:25.920033Z",
     "start_time": "2020-07-16T13:32:25.916003Z"
    }
   },
   "outputs": [],
   "source": [
    "class InternalDataError(Exception):\n",
    "    \"\"\"An exception with the data of our domain problem.\"\"\"\n",
    "\n",
    "\n",
    "def process(data_dictionary, record_id):\n",
    "    try:\n",
    "        return data_dictionary[record_id]\n",
    "    except KeyError as e:\n",
    "        raise InternalDataError(\"Record not present\") from e"
   ]
  },
  {
   "cell_type": "code",
   "execution_count": null,
   "metadata": {
    "ExecuteTime": {
     "end_time": "2020-07-16T13:32:26.617911Z",
     "start_time": "2020-07-16T13:32:26.605909Z"
    }
   },
   "outputs": [],
   "source": [
    "process(dictionary, 'z')"
   ]
  },
  {
   "cell_type": "markdown",
   "metadata": {},
   "source": [
    "## Separation of Concerns"
   ]
  },
  {
   "cell_type": "markdown",
   "metadata": {},
   "source": [
    "- Different responsabilities should go into different components, layers, or modules of the application.  \n",
    "- If we have to modify or refactor some part of the code that has to have minimal impact on the rest of the application.\n",
    "- Well-defined software will achieve high cohesion and low coupling."
   ]
  },
  {
   "cell_type": "markdown",
   "metadata": {},
   "source": [
    "## Acronyms to Live By"
   ]
  },
  {
   "cell_type": "markdown",
   "metadata": {},
   "source": [
    "**DRY / OAOO**  \n",
    "**Don't repeat yourself / Once and Only Once**  \n",
    "One of the causes is doing computations on the fly, and not registering that operation as knowledge and assigning it to a variable, method, etc.  \n",
    "\n",
    "**YAGNI**  \n",
    "**You Ain't Gonna Need It**  \n",
    "Focus on the current requirements and don't try to guess what will be needed in the future. \n",
    "\n",
    "**KIS**  \n",
    "**Keep It Simple**  \n",
    "Similar to YAGNI.\n",
    "\n",
    "**EAFP / LBYL**  \n",
    "**Easier to Ask Forgiveness than Permission / Look Before You Leap**  \n",
    "EAFP: perform the action and take care of the consequences in case it doesn't work. This typically means catching exceptions.  \n",
    "LBYL: checking before doing the action (using an if before opening a file, for example).  \n",
    "\n",
    "For Python, prefer EAFP (this is more explicit, as it raises the error instead of just not working).\n",
    "\n"
   ]
  },
  {
   "cell_type": "markdown",
   "metadata": {},
   "source": [
    "## Composition and Inheritance"
   ]
  },
  {
   "cell_type": "markdown",
   "metadata": {},
   "source": [
    "**Problem with inheritance**: every time that we extend a base class, we are creating a new one that is coupled with the parent (remember that low coupling is better). Inheritance should not be used only to reuse code.\n",
    "\n",
    "**When inheritance is a good decision** (specialization)\n",
    "- Good heuristic: are we going to use all the inherited methods? \n",
    "- If not, the superclass might have too much responsability. Or it could mean that the subclass is not a proper specialization.\n",
    "- **Very good use**: designing interfaces. This enforces that all the subclasses will have the necessary methods (think scikit-learn).\n",
    "- Another good use: defining new exceptions.  "
   ]
  },
  {
   "cell_type": "markdown",
   "metadata": {},
   "source": [
    "## Arguments in Functions and Methods"
   ]
  },
  {
   "cell_type": "markdown",
   "metadata": {},
   "source": [
    "- If a function needs too many parameters to work properly, consider it a code smell.\n",
    "- Work with immutable objects, and avoid side effects as much as possible."
   ]
  },
  {
   "cell_type": "markdown",
   "metadata": {},
   "source": [
    "Be careful when modifying mutable arguments in functions. In general, it might be a good idea to not change parameters at all. The changes will persist outside of the scope of the function:"
   ]
  },
  {
   "cell_type": "code",
   "execution_count": 94,
   "metadata": {
    "ExecuteTime": {
     "end_time": "2020-07-21T00:10:07.180867Z",
     "start_time": "2020-07-21T00:10:07.176913Z"
    }
   },
   "outputs": [],
   "source": [
    "def function(argument):\n",
    "    argument += \" added\"\n",
    "    print(argument)"
   ]
  },
  {
   "cell_type": "code",
   "execution_count": 95,
   "metadata": {
    "ExecuteTime": {
     "end_time": "2020-07-21T00:10:07.191837Z",
     "start_time": "2020-07-21T00:10:07.186849Z"
    }
   },
   "outputs": [],
   "source": [
    "mutable = list(\"hello\")"
   ]
  },
  {
   "cell_type": "code",
   "execution_count": 96,
   "metadata": {
    "ExecuteTime": {
     "end_time": "2020-07-21T00:10:07.197823Z",
     "start_time": "2020-07-21T00:10:07.193863Z"
    }
   },
   "outputs": [
    {
     "name": "stdout",
     "output_type": "stream",
     "text": [
      "['h', 'e', 'l', 'l', 'o', ' ', 'a', 'd', 'd', 'e', 'd']\n"
     ]
    }
   ],
   "source": [
    "function(mutable)"
   ]
  },
  {
   "cell_type": "code",
   "execution_count": 97,
   "metadata": {
    "ExecuteTime": {
     "end_time": "2020-07-21T00:10:07.206797Z",
     "start_time": "2020-07-21T00:10:07.199847Z"
    }
   },
   "outputs": [
    {
     "data": {
      "text/plain": [
       "['h', 'e', 'l', 'l', 'o', ' ', 'a', 'd', 'd', 'e', 'd']"
      ]
     },
     "execution_count": 97,
     "metadata": {},
     "output_type": "execute_result"
    }
   ],
   "source": [
    "mutable"
   ]
  },
  {
   "cell_type": "markdown",
   "metadata": {},
   "source": [
    "Use unpacking whenever possible:"
   ]
  },
  {
   "cell_type": "code",
   "execution_count": null,
   "metadata": {
    "ExecuteTime": {
     "end_time": "2020-07-16T21:30:11.805298Z",
     "start_time": "2020-07-16T21:30:11.800325Z"
    }
   },
   "outputs": [],
   "source": [
    "USERS = [(i, f\"first_name_{i}\", f\"last_name_{i}\") for i in range(5)]\n",
    "[first_name for (id, first_name, last_name) in USERS]"
   ]
  },
  {
   "cell_type": "code",
   "execution_count": null,
   "metadata": {
    "ExecuteTime": {
     "end_time": "2020-07-16T21:26:21.740891Z",
     "start_time": "2020-07-16T21:26:21.735990Z"
    }
   },
   "outputs": [],
   "source": [
    "def function(a, b):\n",
    "    return a+b\n",
    "\n",
    "function(**{'a':10, 'b':20})"
   ]
  },
  {
   "cell_type": "markdown",
   "metadata": {},
   "source": [
    "When defining a function, the opposite happens. Aruments will be collected by \\*args and named variables will be collected in a dicationary kwargs."
   ]
  },
  {
   "cell_type": "code",
   "execution_count": null,
   "metadata": {
    "ExecuteTime": {
     "end_time": "2020-07-16T21:29:50.268827Z",
     "start_time": "2020-07-16T21:29:50.263869Z"
    }
   },
   "outputs": [],
   "source": [
    "def function(a, *args, **kwargs):\n",
    "    print(a)\n",
    "    print(args)\n",
    "    print(kwargs)\n",
    "\n",
    "b=2\n",
    "c=3\n",
    "function(1, b, c, d=4, e=5)"
   ]
  },
  {
   "cell_type": "markdown",
   "metadata": {},
   "source": [
    "## Final Remarks"
   ]
  },
  {
   "cell_type": "markdown",
   "metadata": {},
   "source": [
    "**Orthogonality**\n",
    "- Orthogonality: Changing a module, class, or function should have no impact on the outside world to that component that is being modified \n",
    "- Always try to minimize side-effects on your code\n",
    "- Orthogonality makes unit testing easier\n",
    "\n",
    "**Structuring the code**  \n",
    "- Having large files with lots of definitions is bad practice.\n",
    "- Use packages (\\_\\_init__.py)\n",
    "- Use a file with constants and import from it:"
   ]
  },
  {
   "cell_type": "code",
   "execution_count": null,
   "metadata": {},
   "outputs": [],
   "source": [
    "from mypoject.constants import CONNECTION_TIMEOUT"
   ]
  },
  {
   "cell_type": "markdown",
   "metadata": {},
   "source": [
    "# The SOLID Principles"
   ]
  },
  {
   "cell_type": "markdown",
   "metadata": {},
   "source": [
    "## Single responsability principle"
   ]
  },
  {
   "cell_type": "markdown",
   "metadata": {},
   "source": [
    "- SRP states that a software component (in general, a class) must have only one responsability.\n",
    "- Tip: classes should be designed so that most of their properties and attributes are used by its methods, most of the time.\n",
    "- If you find methods that are mutually exclusive or do not relate to each other, they should be broke down into smaller classes. In other words, orthogonal methods should not be on the same class."
   ]
  },
  {
   "cell_type": "markdown",
   "metadata": {},
   "source": [
    "## Open/Closed Principle"
   ]
  },
  {
   "cell_type": "markdown",
   "metadata": {},
   "source": [
    "- Code should be open for extension but closed for modification.\n",
    "- When something new appears on the domain problem, we only want to add new code, nor modify existing code."
   ]
  },
  {
   "cell_type": "code",
   "execution_count": 93,
   "metadata": {
    "ExecuteTime": {
     "end_time": "2020-07-20T12:58:39.571151Z",
     "start_time": "2020-07-20T12:58:39.562175Z"
    }
   },
   "outputs": [],
   "source": [
    "## Good example of how to use polymorphism for extension\n",
    "\n",
    "class Event:\n",
    "    def __init__(self, raw_data):\n",
    "        self.raw_data = raw_data\n",
    "\n",
    "    @staticmethod\n",
    "    def meets_condition(event_data: dict):\n",
    "        return False\n",
    "\n",
    "class UnknownEvent(Event):\n",
    "    \"\"\"A type of event that cannot be identified from its data\"\"\"\n",
    "\n",
    "class LoginEvent(Event):\n",
    "    @staticmethod\n",
    "    def meets_condition(event_data: dict):\n",
    "        return (\n",
    "            event_data[\"before\"][\"session\"] == 0\n",
    "            and event_data[\"after\"][\"session\"] == 1\n",
    "        )\n",
    "\n",
    "class LogoutEvent(Event):\n",
    "    @staticmethod\n",
    "    def meets_condition(event_data: dict):\n",
    "        return (\n",
    "            event_data[\"before\"][\"session\"] == 1\n",
    "            and event_data[\"after\"][\"session\"] == 0\n",
    "        )\n",
    "\n",
    "class SystemMonitor:\n",
    "    \"\"\"Identify events that occurred in the system.\"\"\"\n",
    "\n",
    "    def __init__(self, event_data):\n",
    "        self.event_data = event_data\n",
    "\n",
    "    def identify_event(self):\n",
    "        # to add new types of events, we just need to inherit\n",
    "        # from the Event class and have an implementation\n",
    "        # of meets_condition\n",
    "        for event_cls in Event.__subclasses__():\n",
    "            try:\n",
    "                if event_cls.meets_condition(self.event_data):\n",
    "                    return event_cls(self.event_data)\n",
    "            except KeyError:\n",
    "                continue\n",
    "        return UnknownEvent(self.event_data)"
   ]
  },
  {
   "cell_type": "markdown",
   "metadata": {},
   "source": [
    "Observation on the meaning of @classmethod and @staticmethod"
   ]
  },
  {
   "cell_type": "code",
   "execution_count": 84,
   "metadata": {
    "ExecuteTime": {
     "end_time": "2020-07-20T00:42:30.083528Z",
     "start_time": "2020-07-20T00:42:30.078542Z"
    }
   },
   "outputs": [],
   "source": [
    "class Test:\n",
    "    \n",
    "    def method(self):\n",
    "        print(self) \n",
    "        \n",
    "    @classmethod\n",
    "    def class_method(cls):\n",
    "        print(cls)\n",
    "        \n",
    "    @staticmethod\n",
    "    def static_method():\n",
    "        print(\"no arguments needed\")"
   ]
  },
  {
   "cell_type": "markdown",
   "metadata": {},
   "source": [
    "The regular methods pass a reference to the instance as an argument:"
   ]
  },
  {
   "cell_type": "code",
   "execution_count": 85,
   "metadata": {
    "ExecuteTime": {
     "end_time": "2020-07-20T00:42:41.804568Z",
     "start_time": "2020-07-20T00:42:41.800580Z"
    }
   },
   "outputs": [],
   "source": [
    "test_instance = Test()"
   ]
  },
  {
   "cell_type": "code",
   "execution_count": 86,
   "metadata": {
    "ExecuteTime": {
     "end_time": "2020-07-20T00:42:47.827241Z",
     "start_time": "2020-07-20T00:42:47.824222Z"
    }
   },
   "outputs": [
    {
     "name": "stdout",
     "output_type": "stream",
     "text": [
      "<__main__.Test object at 0x0000022DC51C98D0>\n"
     ]
    }
   ],
   "source": [
    "test_instance.method()"
   ]
  },
  {
   "cell_type": "code",
   "execution_count": 92,
   "metadata": {
    "ExecuteTime": {
     "end_time": "2020-07-20T00:43:58.051896Z",
     "start_time": "2020-07-20T00:43:58.048935Z"
    }
   },
   "outputs": [
    {
     "name": "stdout",
     "output_type": "stream",
     "text": [
      "<__main__.Test object at 0x0000022DC51C98D0>\n"
     ]
    }
   ],
   "source": [
    "Test.method(test_instance)"
   ]
  },
  {
   "cell_type": "markdown",
   "metadata": {},
   "source": [
    "Using the classmethod decorator, we passa a reference to the class:"
   ]
  },
  {
   "cell_type": "code",
   "execution_count": 87,
   "metadata": {
    "ExecuteTime": {
     "end_time": "2020-07-20T00:42:59.593547Z",
     "start_time": "2020-07-20T00:42:59.588559Z"
    }
   },
   "outputs": [
    {
     "name": "stdout",
     "output_type": "stream",
     "text": [
      "<class '__main__.Test'>\n"
     ]
    }
   ],
   "source": [
    "test_instance.class_method()"
   ]
  },
  {
   "cell_type": "code",
   "execution_count": 88,
   "metadata": {
    "ExecuteTime": {
     "end_time": "2020-07-20T00:43:06.687401Z",
     "start_time": "2020-07-20T00:43:06.682415Z"
    }
   },
   "outputs": [
    {
     "name": "stdout",
     "output_type": "stream",
     "text": [
      "<class '__main__.Test'>\n"
     ]
    }
   ],
   "source": [
    "Test.class_method()"
   ]
  },
  {
   "cell_type": "markdown",
   "metadata": {},
   "source": [
    "Using the staticmethod decorator, we don't pass any argument by default (this works like a regular function)."
   ]
  },
  {
   "cell_type": "markdown",
   "metadata": {},
   "source": [
    "## Liskov's Substition Principle"
   ]
  },
  {
   "cell_type": "markdown",
   "metadata": {},
   "source": [
    "- A client should be able to use any of its subtypes indistinguishably, ithout even noticing. In the example above, we can use the event subclasses instead of the base class.\n",
    "- A good class must define a clear and concise interface, and as long as a subclass honor that interface, the program will remain correct.\n",
    "- Some vioations (like incorrect datatypes and incompatible method signatures) can be detected using Mypy and Pylint.\n",
    "- Remember: the parent class defines a contract with its clients. Subclasses of this one must respect the contract as well.\n",
    "- LSP emphasizes polymorphism and contributes to OCP!"
   ]
  },
  {
   "cell_type": "markdown",
   "metadata": {},
   "source": [
    "## Interface Segregation"
   ]
  },
  {
   "cell_type": "markdown",
   "metadata": {},
   "source": [
    "- An **Interface** is represented by the set of method an object exposes. \n",
    "- Idea behind duck typing: any object is really represented by the methods it has, and by what it is capable of doing. \n",
    "- **Interface segregation principle**: interfaces should be small."
   ]
  },
  {
   "cell_type": "markdown",
   "metadata": {},
   "source": [
    "## Dependency Inversion"
   ]
  },
  {
   "cell_type": "markdown",
   "metadata": {},
   "source": [
    "- Make you code independent of things that are fragile, volatile, or out of your control. Our code should depende on interfaces, and not on concrete implementations.\n",
    "- This can involve creating an abstract base class, to serve as interface bewteen our main class and targets. In Python, duck typing makes this more flexible. Just by having certain methods that are required to interact with the main class could be enough (if it quacks like the interface, it does not necessarily need to inherit from it)."
   ]
  },
  {
   "cell_type": "markdown",
   "metadata": {},
   "source": [
    "# Using Decorators to Improve Our Code"
   ]
  },
  {
   "cell_type": "markdown",
   "metadata": {},
   "source": [
    "For syntax details about decorators, see the **decorators notebook**. \n",
    "\n",
    "Some **good uses** for decorators:  \n",
    "- Transforming / validating parameters\n",
    "- Tracing code / logging execution of a function and its parameters\n",
    "- Monitor metrics like time and cpu usage\n",
    "- Implementing retry operations\n",
    "- Moving repetitive logic to decorators"
   ]
  },
  {
   "cell_type": "markdown",
   "metadata": {},
   "source": [
    "**Common mistake**: changing the function's properties like \\_\\_name\\_\\_. To avoid this, use **@wraps**. Good template:"
   ]
  },
  {
   "cell_type": "code",
   "execution_count": null,
   "metadata": {},
   "outputs": [],
   "source": [
    "def decorator(original_function):\n",
    "    @wraps(original_function)\n",
    "    def decorated_function(*args, **kwargs):\n",
    "        # modifications done by the decorator ...\n",
    "        return original_function(*args, **kwargs)\n",
    "\n",
    "    return decorated_function"
   ]
  },
  {
   "cell_type": "markdown",
   "metadata": {},
   "source": [
    "# Descriptors"
   ]
  },
  {
   "cell_type": "markdown",
   "metadata": {},
   "source": [
    "A descriptor is an instance of a class that implements the descriptor protocol. It must have at least one of the following methods:\n",
    "- \\_\\_get\\_\\_\n",
    "- \\_\\_set\\_\\_\n",
    "- \\_\\_delete\\_\\_\n",
    "- \\_\\_set_name\\_\\_\n",
    "\n",
    "The descriptor object has to be defined as a class attribute."
   ]
  },
  {
   "cell_type": "markdown",
   "metadata": {},
   "source": [
    "## \\_\\_get\\_\\_"
   ]
  },
  {
   "cell_type": "markdown",
   "metadata": {},
   "source": [
    "If we simply define an Attribute as a class instance, nothing special happens:"
   ]
  },
  {
   "cell_type": "code",
   "execution_count": 7,
   "metadata": {
    "ExecuteTime": {
     "end_time": "2020-07-25T22:48:41.554427Z",
     "start_time": "2020-07-25T22:48:41.549436Z"
    }
   },
   "outputs": [],
   "source": [
    "class Attribute:\n",
    "    value = 42\n",
    "    \n",
    "class Client:\n",
    "    attribute = Attribute()"
   ]
  },
  {
   "cell_type": "code",
   "execution_count": 8,
   "metadata": {
    "ExecuteTime": {
     "end_time": "2020-07-25T22:48:45.528940Z",
     "start_time": "2020-07-25T22:48:45.523954Z"
    }
   },
   "outputs": [
    {
     "data": {
      "text/plain": [
       "<__main__.Attribute at 0x1b52e806e48>"
      ]
     },
     "execution_count": 8,
     "metadata": {},
     "output_type": "execute_result"
    }
   ],
   "source": [
    "Client().attribute"
   ]
  },
  {
   "cell_type": "code",
   "execution_count": 9,
   "metadata": {
    "ExecuteTime": {
     "end_time": "2020-07-25T22:48:46.406353Z",
     "start_time": "2020-07-25T22:48:46.402364Z"
    }
   },
   "outputs": [
    {
     "data": {
      "text/plain": [
       "42"
      ]
     },
     "execution_count": 9,
     "metadata": {},
     "output_type": "execute_result"
    }
   ],
   "source": [
    "Client().attribute.value"
   ]
  },
  {
   "cell_type": "markdown",
   "metadata": {},
   "source": [
    "When using a descriptor, the situation is different. When we call the class attribute (the Descriptor instance), the \\_\\_get\\_\\_ is called instead:"
   ]
  },
  {
   "cell_type": "code",
   "execution_count": 48,
   "metadata": {
    "ExecuteTime": {
     "end_time": "2020-07-26T00:32:16.338587Z",
     "start_time": "2020-07-26T00:32:16.334596Z"
    }
   },
   "outputs": [],
   "source": [
    "class DescriptorClass:\n",
    "    def __get__(self, instance, owner):\n",
    "        print('This is the __get__ method!')\n",
    "        print(f\"self:{self}\")\n",
    "        print(f\"instance:{instance}\")\n",
    "        print(f\"owner:{owner}\")\n",
    "        \n",
    "class Client:\n",
    "    descriptor = DescriptorClass()"
   ]
  },
  {
   "cell_type": "code",
   "execution_count": 49,
   "metadata": {
    "ExecuteTime": {
     "end_time": "2020-07-26T00:32:18.219203Z",
     "start_time": "2020-07-26T00:32:18.215211Z"
    }
   },
   "outputs": [
    {
     "name": "stdout",
     "output_type": "stream",
     "text": [
      "This is the __get__ method!\n",
      "self:<__main__.DescriptorClass object at 0x000001B52ED27080>\n",
      "instance:<__main__.Client object at 0x000001B52ED27390>\n",
      "owner:<class '__main__.Client'>\n"
     ]
    }
   ],
   "source": [
    "# Notice that we are not getting an instance of DescriptorClass\n",
    "# as our response. Besides, self refers to the instance\n",
    "# of DescriptorClass, instance referes to the instance o Client\n",
    "# and owner referes to the class Client\n",
    "Client().descriptor"
   ]
  },
  {
   "cell_type": "code",
   "execution_count": 50,
   "metadata": {
    "ExecuteTime": {
     "end_time": "2020-07-26T00:32:19.035541Z",
     "start_time": "2020-07-26T00:32:19.031548Z"
    }
   },
   "outputs": [
    {
     "name": "stdout",
     "output_type": "stream",
     "text": [
      "This is the __get__ method!\n",
      "self:<__main__.DescriptorClass object at 0x000001B52ED27080>\n",
      "instance:None\n",
      "owner:<class '__main__.Client'>\n"
     ]
    }
   ],
   "source": [
    "Client.descriptor"
   ]
  },
  {
   "cell_type": "markdown",
   "metadata": {},
   "source": [
    "## \\_\\_set\\_\\_"
   ]
  },
  {
   "cell_type": "markdown",
   "metadata": {},
   "source": [
    "This method is called when we try to assign something to a descriptor. Be careful: if \\_\\_set\\_\\_ is not implemented, the assignment will override the descriptor. In this example, we implement a validation method with a descriptor:"
   ]
  },
  {
   "cell_type": "code",
   "execution_count": 51,
   "metadata": {
    "ExecuteTime": {
     "end_time": "2020-07-26T00:32:22.386888Z",
     "start_time": "2020-07-26T00:32:22.383926Z"
    }
   },
   "outputs": [],
   "source": [
    "def is_greater_10(x):\n",
    "    if x > 10:\n",
    "        return True\n",
    "    return False"
   ]
  },
  {
   "cell_type": "code",
   "execution_count": 52,
   "metadata": {
    "ExecuteTime": {
     "end_time": "2020-07-26T00:32:22.396891Z",
     "start_time": "2020-07-26T00:32:22.390876Z"
    }
   },
   "outputs": [],
   "source": [
    "class Validator:\n",
    "    \n",
    "    def __init__(self, validation):\n",
    "        self.validation = validation\n",
    "        \n",
    "    def __get__(self, instance, owner):\n",
    "        return self.validation\n",
    "    \n",
    "    def __set__(self, instance, value):\n",
    "        if not self.validation(value):\n",
    "            raise ValueError(f\"{value} is not greater than 10\")\n",
    "        instance.__dict__[self._name]"
   ]
  },
  {
   "cell_type": "code",
   "execution_count": 53,
   "metadata": {
    "ExecuteTime": {
     "end_time": "2020-07-26T00:32:22.402875Z",
     "start_time": "2020-07-26T00:32:22.397889Z"
    }
   },
   "outputs": [
    {
     "name": "stdout",
     "output_type": "stream",
     "text": [
      "This is the __get__ method!\n",
      "self:<__main__.DescriptorClass object at 0x000001B52ED27080>\n",
      "instance:<__main__.Client object at 0x000001B52ED37F98>\n",
      "owner:<class '__main__.Client'>\n"
     ]
    }
   ],
   "source": [
    "Client().descriptor"
   ]
  }
 ],
 "metadata": {
  "kernelspec": {
   "display_name": "Python [conda env:playground]",
   "language": "python",
   "name": "conda-env-playground-py"
  },
  "language_info": {
   "codemirror_mode": {
    "name": "ipython",
    "version": 3
   },
   "file_extension": ".py",
   "mimetype": "text/x-python",
   "name": "python",
   "nbconvert_exporter": "python",
   "pygments_lexer": "ipython3",
   "version": "3.7.3"
  },
  "toc": {
   "base_numbering": 1,
   "nav_menu": {},
   "number_sections": true,
   "sideBar": true,
   "skip_h1_title": false,
   "title_cell": "Table of Contents",
   "title_sidebar": "Contents",
   "toc_cell": false,
   "toc_position": {
    "height": "calc(100% - 180px)",
    "left": "10px",
    "top": "150px",
    "width": "274.594px"
   },
   "toc_section_display": true,
   "toc_window_display": true
  },
  "varInspector": {
   "cols": {
    "lenName": 16,
    "lenType": 16,
    "lenVar": 40
   },
   "kernels_config": {
    "python": {
     "delete_cmd_postfix": "",
     "delete_cmd_prefix": "del ",
     "library": "var_list.py",
     "varRefreshCmd": "print(var_dic_list())"
    },
    "r": {
     "delete_cmd_postfix": ") ",
     "delete_cmd_prefix": "rm(",
     "library": "var_list.r",
     "varRefreshCmd": "cat(var_dic_list()) "
    }
   },
   "types_to_exclude": [
    "module",
    "function",
    "builtin_function_or_method",
    "instance",
    "_Feature"
   ],
   "window_display": false
  }
 },
 "nbformat": 4,
 "nbformat_minor": 2
}
