{
 "cells": [
  {
   "cell_type": "markdown",
   "metadata": {},
   "source": [
    "# Manipulating Containers with the Docker Client \n",
    "\n",
    "**run** create and run a container  \n",
    "- docker run [image name]  \n",
    "- docker run [image name] command  (override default command)\n",
    "- equivalent to create and start\n",
    "\n",
    "**create** and **start**\n",
    "- docker create [image_name]\n",
    "- docker start [container id]: does not show output by default\n",
    "- docker start -a [container_id]: print output from the startup command\n",
    "\n",
    "**ps** list all running container / useful for getting ids\n",
    "- docker ps\n",
    "- docker ps --all\n",
    "\n",
    "**system prune**\n",
    "- docker system prune\n",
    "- delete stopped containers, networks that are not used, dangling images, and build cache (so we might have to download images again)\n",
    "\n",
    "**logs**\n",
    "- docker logs [container_id]\n",
    "- get logs from a container without running it again\n",
    "- useful when you forget -a when using start\n",
    "\n",
    "**stopping containers**  \n",
    "- docker stop [container_id] (send a SIGTERM message - it gives time for shutdown and some cleaning)\n",
    "- docker kill [container_id] (send a SIGKILL message - shutdown right now)\n",
    "- docker kill will be called after 10 seconds of docker stop\n",
    "\n",
    "**executing commandas on a running container**\n",
    "- docker exec -it [container_id] [command]\n",
    "- -it allows us to provide input to the container\n",
    "\n",
    "**terminal access on a running container**\n",
    "- docker exec -it [container_id] sh\n",
    "- other alternatives for command processors: bash, powershell, zsh, sh\n",
    "- another option: docker run -it [image_name] sh (but using exec is more common)"
   ]
  },
  {
   "cell_type": "markdown",
   "metadata": {
    "ExecuteTime": {
     "end_time": "2020-08-02T20:04:38.052666Z",
     "start_time": "2020-08-02T20:04:38.049666Z"
    }
   },
   "source": [
    "# Building Custom Images Through Docker Server\n",
    "\n",
    "**Dockerfile**: configuration to define how our container should behave.  \n",
    "Flow: Base image -> Additional commands/programs -> Command to run on startup  \n",
    "- FROM [base image]\n",
    "- RUN [command]\n",
    "- CMD [\"command\"]"
   ]
  }
 ],
 "metadata": {
  "kernelspec": {
   "display_name": "Python [conda env:dl]",
   "language": "python",
   "name": "conda-env-dl-py"
  },
  "language_info": {
   "codemirror_mode": {
    "name": "ipython",
    "version": 3
   },
   "file_extension": ".py",
   "mimetype": "text/x-python",
   "name": "python",
   "nbconvert_exporter": "python",
   "pygments_lexer": "ipython3",
   "version": "3.7.3"
  },
  "toc": {
   "base_numbering": 1,
   "nav_menu": {},
   "number_sections": true,
   "sideBar": true,
   "skip_h1_title": false,
   "title_cell": "Table of Contents",
   "title_sidebar": "Contents",
   "toc_cell": false,
   "toc_position": {},
   "toc_section_display": true,
   "toc_window_display": false
  },
  "varInspector": {
   "cols": {
    "lenName": 16,
    "lenType": 16,
    "lenVar": 40
   },
   "kernels_config": {
    "python": {
     "delete_cmd_postfix": "",
     "delete_cmd_prefix": "del ",
     "library": "var_list.py",
     "varRefreshCmd": "print(var_dic_list())"
    },
    "r": {
     "delete_cmd_postfix": ") ",
     "delete_cmd_prefix": "rm(",
     "library": "var_list.r",
     "varRefreshCmd": "cat(var_dic_list()) "
    }
   },
   "types_to_exclude": [
    "module",
    "function",
    "builtin_function_or_method",
    "instance",
    "_Feature"
   ],
   "window_display": false
  }
 },
 "nbformat": 4,
 "nbformat_minor": 2
}
