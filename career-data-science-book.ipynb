{
 "cells": [
  {
   "cell_type": "markdown",
   "metadata": {},
   "source": [
    "# Career in Data Science (Book)"
   ]
  },
  {
   "cell_type": "markdown",
   "metadata": {},
   "source": [
    "## First Months"
   ]
  },
  {
   "cell_type": "markdown",
   "metadata": {},
   "source": [
    "- **ASK QUESTIONS**\n",
    "- **DOCUMENT EVERYTHING**\n",
    "- **Meeting with manager**: discuss priorities and expectations.\n",
    "- **Learn the processes**: how are things done by the team?"
   ]
  },
  {
   "cell_type": "markdown",
   "metadata": {},
   "source": [
    "**Past reports documents**  \n",
    "- What is the tone? How nontechnical are the reports? \n",
    "- What kind of data do we have?\n",
    "\n",
    "**Data**  \n",
    "- Read existing documentation before exploring the data: some \"misteries\" might be solved already.\n",
    "- Undocumented surpirses: talk to the expert on that table.\n",
    "- Make sure you know how the data was collected.\n",
    "- Document as you go and make sure it is accessible to everyone.\n",
    "\n",
    "**Start Simple**\n",
    "- In the beginning, focus on simple and entirely descriptive questions: \"What is the distribution of our clients sizes?\", \"What percentage of our users are active each week?\". \n",
    "\n",
    "**Asking Questions**  \n",
    "- How do people ask questions: in person, slack, forums, email? **Ask your manager the meta-question on how to ask questions.**\n",
    "- Be proactive and do your own researh. Avoid questions you can answer on your own.\n",
    "- Find the experts and set-up meeting if you have too many questions. Respect people's time.\n",
    "- Avoid voicing criticisms veiled as questions.\n",
    "- Make a list with non-urgent questions.\n",
    "\n",
    "**Building relationships**\n",
    "- Ask your manager to make a list of people you have to know.\n",
    "- Meet stakeholders, data engineers, etc.\n",
    "- Befriend the office manager.\n",
    "\n",
    "**Preparing Presentations**\n",
    "- What does the audience know about the domain of data science?\n",
    "- What does the audience know about the problem I'm trying to solve/the question I'm trying to answer?\n",
    "- What does the audience know about the techniques I'm using?\n",
    "- Is the audience interested in the technical detail of my approach and/or the results?"
   ]
  },
  {
   "cell_type": "markdown",
   "metadata": {},
   "source": [
    "## Making an effective analysis"
   ]
  },
  {
   "cell_type": "markdown",
   "metadata": {},
   "source": [
    "Five elements of a good analysis:\n",
    "- It answers the question (even if it says that we don't have enough information)\n",
    "- It is made quickly (usually within a month)\n",
    "- It can be shared (no code needs to be run, etc)\n",
    "- It is self-contained (explanation of terms, plots, avoid referencing other work when possible)\n",
    "- It can be revisited (easy to reuse the code with a new dataset)"
   ]
  },
  {
   "cell_type": "markdown",
   "metadata": {},
   "source": [
    "# Projects and Presentations"
   ]
  },
  {
   "cell_type": "markdown",
   "metadata": {},
   "source": [
    "**Pre-project Work**\n",
    "- Explore the data and interact with the stakeholders in order to understand the requirements better.\n",
    "\n",
    "**Preparing Presentations**\n",
    "- What does the audience know about the domain of data science?\n",
    "- What does the audience know about the problem I'm trying to solve/the question I'm trying to answer?\n",
    "- What does the audience know about the techniques I'm using?\n",
    "- Is the audience interested in the technical detail of my approach and/or the results?"
   ]
  }
 ],
 "metadata": {
  "kernelspec": {
   "display_name": "Python [conda env:dl]",
   "language": "python",
   "name": "conda-env-dl-py"
  },
  "language_info": {
   "codemirror_mode": {
    "name": "ipython",
    "version": 3
   },
   "file_extension": ".py",
   "mimetype": "text/x-python",
   "name": "python",
   "nbconvert_exporter": "python",
   "pygments_lexer": "ipython3",
   "version": "3.7.3"
  },
  "toc": {
   "base_numbering": 1,
   "nav_menu": {},
   "number_sections": true,
   "sideBar": true,
   "skip_h1_title": false,
   "title_cell": "Table of Contents",
   "title_sidebar": "Contents",
   "toc_cell": false,
   "toc_position": {},
   "toc_section_display": true,
   "toc_window_display": false
  },
  "varInspector": {
   "cols": {
    "lenName": 16,
    "lenType": 16,
    "lenVar": 40
   },
   "kernels_config": {
    "python": {
     "delete_cmd_postfix": "",
     "delete_cmd_prefix": "del ",
     "library": "var_list.py",
     "varRefreshCmd": "print(var_dic_list())"
    },
    "r": {
     "delete_cmd_postfix": ") ",
     "delete_cmd_prefix": "rm(",
     "library": "var_list.r",
     "varRefreshCmd": "cat(var_dic_list()) "
    }
   },
   "types_to_exclude": [
    "module",
    "function",
    "builtin_function_or_method",
    "instance",
    "_Feature"
   ],
   "window_display": false
  }
 },
 "nbformat": 4,
 "nbformat_minor": 2
}
