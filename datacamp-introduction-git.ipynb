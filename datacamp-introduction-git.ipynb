{
 "cells": [
  {
   "cell_type": "markdown",
   "metadata": {},
   "source": [
    "# Introduction to Git (Datacamp)"
   ]
  },
  {
   "cell_type": "markdown",
   "metadata": {},
   "source": [
    "## Basic Workflow  \n",
    "**Repository**: combination of your files and directories and extra information about the project's history (Git records).\n",
    "\n",
    "**git status** : shows files in the staging area, and files with modifications that are not on the staging area yet.\n",
    "\n",
    "**git add filename**: add single file to staging area  "
   ]
  },
  {
   "cell_type": "markdown",
   "metadata": {},
   "source": [
    "**diff** \n",
    "- git diff: difference between workign directory and staging area\n",
    "- git diff --staged: changes that will be commited (difference between HEAD and staging area)\n",
    "- git diff HEAD: difference between HEAD and working directory (basically all changes)\n",
    "- git diff ID1..ID2 (ID can be digits from the hash or something like HEAD~1): difference between two commits"
   ]
  },
  {
   "cell_type": "markdown",
   "metadata": {},
   "source": [
    "![git-diff](./imgs/git-diff.png)"
   ]
  },
  {
   "cell_type": "code",
   "execution_count": null,
   "metadata": {},
   "outputs": [],
   "source": [
    "# a and b are \"first version\" and \"second version\"\n",
    "diff --git a/data/northern.csv b/data/northern.csv\n",
    "index 5eb7a96..5a2a259 100644\n",
    "# --- version a lines +++ version b lines\n",
    "--- a/data/northern.csv\n",
    "+++ b/data/northern.csv\n",
    "# Where the changes are being made\n",
    "# Pair of numbers: start line and number of lines\n",
    "# Second version now has 4 lines\n",
    "@@ -22,3 +22,4 @@ Date,Tooth\n",
    " 2017-08-13,incisor\n",
    " 2017-08-13,wisdom\n",
    " 2017-09-07,molar\n",
    "+2017-11-01,bicuspid # added line"
   ]
  },
  {
   "cell_type": "markdown",
   "metadata": {},
   "source": [
    "**commit**\n",
    "- git commit -m \"message\": save the changes in the staging area\n",
    "- got commit --amend -m \"new message\": change existing message\n",
    "\n",
    "**log**\n",
    "- git log: list commits (press space to go down a page and q to quit)\n",
    "- git log [path]: path to a specific file or directory\n",
    "- git log -2: last 2 commits\n",
    "- for directories, log will show when files were added or deleted\n",
    "- git log -p: shows diff between commits as well"
   ]
  },
  {
   "cell_type": "markdown",
   "metadata": {},
   "source": [
    "## Repositories"
   ]
  },
  {
   "cell_type": "markdown",
   "metadata": {},
   "source": [
    "**hash**: git compares hashes instead of having to compare whole files. That is how it works fast.\n",
    "\n",
    "**show**: show commit information\n",
    "- git show [first characters hash]\n",
    "\n",
    "**annotate**: shows who made last change to each line \n",
    "- git annotate [filename]\n",
    "\n",
    "**relative paths**\n",
    "- HEAD: refers to the most recent commit\n",
    "- HEAD~1: commit before HEAD\n",
    "\n",
    "**.gitignore**: for names like build, git will ingnore files and folders. For types of files, use wildcards, like \\*.mpl\n",
    "\n",
    "**clean**\n",
    "- git clean -n: list untracked files\n",
    "- git clean -f: remove untracked files\n",
    "\n",
    "**configurations**\n",
    "- git config --list --system (every user on this computer)\n",
    "- git config --list --global (every project)\n",
    "- git config --list --local (one specific project)\n",
    "- local > global > system (precedence order)\n",
    "- git config --global setting value (useful for user.name and user.email)"
   ]
  },
  {
   "cell_type": "markdown",
   "metadata": {},
   "source": [
    "## Undo"
   ]
  },
  {
   "cell_type": "markdown",
   "metadata": {},
   "source": [
    "**reset**\n",
    "- git reset HEAD: unstage all additions\n",
    "\n",
    "**undo changes to unstaged files DANGEROUS**\n",
    "- git checkout -- path/to/file (to remove from unstaged as well)\n",
    "- git checkout -- . (remove all changes)\n",
    "\n",
    "**undo changes to staged files**\n",
    "- git reset HEAD path/to/file\n",
    "\n",
    "**restore old version of a file**\n",
    "- git checkout [hash] [file]\n",
    "- restoring a file adds to changes to be commited\n",
    "\n",
    "**overwriting the previous commit**\n",
    "- got commit --amend -m \"new message\": change existing message"
   ]
  },
  {
   "cell_type": "markdown",
   "metadata": {},
   "source": [
    "## Working with Branches"
   ]
  },
  {
   "cell_type": "markdown",
   "metadata": {},
   "source": [
    "**branch**: show branches (current one has *)\n",
    "- git diff branch1..branch2 (use branch names)\n",
    "- git branch [newbranchname]\n",
    "- git checkout [branch_name]\n",
    "- git checkout -b [newbranchname]: create branch and checkout\n",
    "\n",
    "**rm**: remove file and stage the removal\n",
    "- git rm [file_name]\n",
    "\n",
    "**merge**\n",
    "- git merge source destination\n",
    "- whenever there is a conflict, fix the file (remove commented sections with <<<< and ====), add the merged file and then commit"
   ]
  },
  {
   "cell_type": "code",
   "execution_count": null,
   "metadata": {},
   "outputs": [],
   "source": [
    "<<<<<<< destination-branch-name\n",
    "...changes from the destination branch...\n",
    "=======\n",
    "...changes from the source branch...\n",
    ">>>>>>> source-branch-name"
   ]
  },
  {
   "cell_type": "markdown",
   "metadata": {},
   "source": [
    "## Collaborating"
   ]
  },
  {
   "cell_type": "markdown",
   "metadata": {},
   "source": [
    "**init**\n",
    "- git init [project-name]\n",
    "- git init (on an existing project)\n",
    "\n",
    "**clone**\n",
    "- git clone URL\n",
    "- git clone /existing/project newprojectname\n",
    "\n",
    "**remote**\n",
    "- git remote: list the names of remotes its using.\n",
    "- git remote -v: more information (fetch and pull)\n",
    "- when you clone a repo, git automatically creates a remote called origin that points to the original repo.\n",
    "- git remote add remote-name URL\n",
    "- git remote rm remote-name\n",
    "\n",
    "**pull**\n",
    "- git pull remote branch: gets everything in branch in the remote repository and merges in into the current local branch. \n",
    "- git pull origin master is a common call for the command above.\n",
    "- if you have local changes, you might need to discard them or commit them before being able to pull\n",
    "\n",
    "**push**\n",
    "- git push remote-name branch-name: pushes the content of branch-name into a branch with the same name in the remote repository associated with remote-name.\n",
    "- git push origin master is also a common call in this case (pushing our master to origin)\n",
    "- you need to merge the contents of a remote repo before being able to push to that repo"
   ]
  },
  {
   "cell_type": "markdown",
   "metadata": {},
   "source": [
    "# Learn Git Branching"
   ]
  },
  {
   "cell_type": "markdown",
   "metadata": {},
   "source": [
    "## Main"
   ]
  },
  {
   "cell_type": "markdown",
   "metadata": {},
   "source": [
    "**rebase**\n",
    "- git rebase master: useful when we are working on a branch in parallel to the master branch, for example. By using rebasing, the new branch is transferred to master (becomes a child node)."
   ]
  },
  {
   "cell_type": "markdown",
   "metadata": {},
   "source": [
    "## Git Remotes"
   ]
  },
  {
   "cell_type": "code",
   "execution_count": null,
   "metadata": {},
   "outputs": [],
   "source": []
  }
 ],
 "metadata": {
  "kernelspec": {
   "display_name": "Python [conda env:dl]",
   "language": "python",
   "name": "conda-env-dl-py"
  },
  "language_info": {
   "codemirror_mode": {
    "name": "ipython",
    "version": 3
   },
   "file_extension": ".py",
   "mimetype": "text/x-python",
   "name": "python",
   "nbconvert_exporter": "python",
   "pygments_lexer": "ipython3",
   "version": "3.7.3"
  },
  "toc": {
   "base_numbering": 1,
   "nav_menu": {},
   "number_sections": true,
   "sideBar": true,
   "skip_h1_title": false,
   "title_cell": "Table of Contents",
   "title_sidebar": "Contents",
   "toc_cell": false,
   "toc_position": {},
   "toc_section_display": true,
   "toc_window_display": true
  },
  "varInspector": {
   "cols": {
    "lenName": 16,
    "lenType": 16,
    "lenVar": 40
   },
   "kernels_config": {
    "python": {
     "delete_cmd_postfix": "",
     "delete_cmd_prefix": "del ",
     "library": "var_list.py",
     "varRefreshCmd": "print(var_dic_list())"
    },
    "r": {
     "delete_cmd_postfix": ") ",
     "delete_cmd_prefix": "rm(",
     "library": "var_list.r",
     "varRefreshCmd": "cat(var_dic_list()) "
    }
   },
   "types_to_exclude": [
    "module",
    "function",
    "builtin_function_or_method",
    "instance",
    "_Feature"
   ],
   "window_display": false
  }
 },
 "nbformat": 4,
 "nbformat_minor": 2
}
