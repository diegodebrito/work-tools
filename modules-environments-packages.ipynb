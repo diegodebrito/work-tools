{
 "cells": [
  {
   "cell_type": "markdown",
   "metadata": {},
   "source": [
    "# Windows \n",
    "**Environment variables**: variables that describe the environment in which programs run.\n",
    "\n",
    "- PATH: tells programs where to find certain files. These programs look\n",
    "\n",
    "**System variables** on Windows are the same for all accounts and usually refer to critical system resources.\n",
    "\n",
    "**AppData folder**  \n"
   ]
  },
  {
   "cell_type": "markdown",
   "metadata": {},
   "source": [
    "# Python Modules\n",
    "https://docs.python.org/3/tutorial/modules.html#tut-standardmodules"
   ]
  },
  {
   "cell_type": "markdown",
   "metadata": {},
   "source": [
    "**Module Execution on Import**  \n",
    "Statements in a module are executed only the first time the module name is encountered in an import statements. If you want to reimport a module restart the interpretrer or: "
   ]
  },
  {
   "cell_type": "code",
   "execution_count": 16,
   "metadata": {
    "ExecuteTime": {
     "end_time": "2020-08-08T19:26:07.854560Z",
     "start_time": "2020-08-08T19:26:07.851522Z"
    }
   },
   "outputs": [],
   "source": [
    "import importlib\n",
    "importlib.reload(modulename) "
   ]
  },
  {
   "cell_type": "markdown",
   "metadata": {},
   "source": [
    "**Symbol Table**"
   ]
  },
  {
   "cell_type": "code",
   "execution_count": 6,
   "metadata": {
    "ExecuteTime": {
     "end_time": "2020-08-08T19:22:13.448829Z",
     "start_time": "2020-08-08T19:22:13.248998Z"
    }
   },
   "outputs": [],
   "source": [
    "# adds decomposition to the importing module's symbol table\n",
    "# but it does not add sklearn\n",
    "from sklearn import decomposition"
   ]
  },
  {
   "cell_type": "code",
   "execution_count": 10,
   "metadata": {
    "ExecuteTime": {
     "end_time": "2020-08-08T19:23:24.756341Z",
     "start_time": "2020-08-08T19:23:24.749378Z"
    }
   },
   "outputs": [
    {
     "data": {
      "text/plain": [
       "<module 'sklearn.decomposition' from 'C:\\\\Users\\\\USUARIO\\\\Anaconda3\\\\envs\\\\dl\\\\lib\\\\site-packages\\\\sklearn\\\\decomposition\\\\__init__.py'>"
      ]
     },
     "execution_count": 10,
     "metadata": {},
     "output_type": "execute_result"
    }
   ],
   "source": [
    "decomposition"
   ]
  },
  {
   "cell_type": "code",
   "execution_count": 11,
   "metadata": {
    "ExecuteTime": {
     "end_time": "2020-08-08T19:23:28.909457Z",
     "start_time": "2020-08-08T19:23:28.812438Z"
    }
   },
   "outputs": [
    {
     "ename": "NameError",
     "evalue": "name 'sklearn' is not defined",
     "output_type": "error",
     "traceback": [
      "\u001b[1;31m---------------------------------------------------------------------------\u001b[0m",
      "\u001b[1;31mNameError\u001b[0m                                 Traceback (most recent call last)",
      "\u001b[1;32m<ipython-input-11-b3fcda1f768a>\u001b[0m in \u001b[0;36m<module>\u001b[1;34m\u001b[0m\n\u001b[1;32m----> 1\u001b[1;33m \u001b[0msklearn\u001b[0m\u001b[1;33m\u001b[0m\u001b[1;33m\u001b[0m\u001b[0m\n\u001b[0m",
      "\u001b[1;31mNameError\u001b[0m: name 'sklearn' is not defined"
     ]
    }
   ],
   "source": [
    "sklearn"
   ]
  },
  {
   "cell_type": "markdown",
   "metadata": {},
   "source": [
    "**Running modules as scripts**  \n",
    "When you run a module with **python script.py [arguments]** the script is executed as an import, but setting \\_\\_name\\_\\_ to \"\\_\\_main\\_\\_\". Add code like below if it is supposed to be run as a script only:"
   ]
  },
  {
   "cell_type": "code",
   "execution_count": null,
   "metadata": {},
   "outputs": [],
   "source": [
    "if __name__ == \"__main__\":\n",
    "    # this code will not run on import"
   ]
  },
  {
   "cell_type": "markdown",
   "metadata": {},
   "source": [
    "## Module Search Path"
   ]
  },
  {
   "cell_type": "markdown",
   "metadata": {},
   "source": [
    "When a module is imported, the interpreter does the following:\n",
    "1. Searches for built-in modules with that name;\n",
    "2. Searches for a file named module.py in a list of directories givern by the variable sys.path. \n",
    "\n",
    "sys.path is initialized from:\n",
    "- The directory containing the input script (current when no file is specified)\n",
    "- PYTHONPATH \n",
    "- Installation-dependent default"
   ]
  },
  {
   "cell_type": "code",
   "execution_count": 17,
   "metadata": {
    "ExecuteTime": {
     "end_time": "2020-08-08T19:39:18.617882Z",
     "start_time": "2020-08-08T19:39:18.612880Z"
    }
   },
   "outputs": [
    {
     "data": {
      "text/plain": [
       "['C:\\\\Users\\\\USUARIO\\\\Dropbox\\\\state-farm-resources',\n",
       " 'C:\\\\Users\\\\USUARIO\\\\Dropbox\\\\ds_code\\\\applications\\\\insurance',\n",
       " 'C:\\\\Users\\\\USUARIO\\\\Anaconda3\\\\envs\\\\dl\\\\python37.zip',\n",
       " 'C:\\\\Users\\\\USUARIO\\\\Anaconda3\\\\envs\\\\dl\\\\DLLs',\n",
       " 'C:\\\\Users\\\\USUARIO\\\\Anaconda3\\\\envs\\\\dl\\\\lib',\n",
       " 'C:\\\\Users\\\\USUARIO\\\\Anaconda3\\\\envs\\\\dl',\n",
       " '',\n",
       " 'C:\\\\Users\\\\USUARIO\\\\AppData\\\\Roaming\\\\Python\\\\Python37\\\\site-packages',\n",
       " 'C:\\\\Users\\\\USUARIO\\\\Anaconda3\\\\envs\\\\dl\\\\lib\\\\site-packages',\n",
       " 'C:\\\\Users\\\\USUARIO\\\\Anaconda3\\\\envs\\\\dl\\\\lib\\\\site-packages\\\\win32',\n",
       " 'C:\\\\Users\\\\USUARIO\\\\Anaconda3\\\\envs\\\\dl\\\\lib\\\\site-packages\\\\win32\\\\lib',\n",
       " 'C:\\\\Users\\\\USUARIO\\\\Anaconda3\\\\envs\\\\dl\\\\lib\\\\site-packages\\\\Pythonwin',\n",
       " 'C:\\\\Users\\\\USUARIO\\\\Anaconda3\\\\envs\\\\dl\\\\lib\\\\site-packages\\\\IPython\\\\extensions',\n",
       " 'C:\\\\Users\\\\USUARIO\\\\.ipython']"
      ]
     },
     "execution_count": 17,
     "metadata": {},
     "output_type": "execute_result"
    }
   ],
   "source": [
    "import sys\n",
    "sys.path"
   ]
  },
  {
   "cell_type": "markdown",
   "metadata": {},
   "source": [
    "# Distributions\n",
    "https://stackoverflow.com/questions/42171013/are-the-various-python-authorities-pypa-pycqa-etc-somehow-official  \n",
    "\n",
    "https://stackoverflow.com/questions/42411111/why-we-need-python-packaging-e-g-egg\n",
    "\n",
    "**Python Packaging Authority (PyPA)**: originally started by the team that worked on pip. Today PyPA administers essentially all of the packaging infrastructure for Python, making it the de facto authority."
   ]
  },
  {
   "cell_type": "markdown",
   "metadata": {},
   "source": [
    "Distribution types in Python:  \n",
    "- **Source distribution**: contains setup.py (which contains information about module/metadata), the source files of module/script (.py files or .c/.cpp for binary modules), data files, etc. It needs to be recompiled, but works on any machine (that has compilers, etc). Associated with distutil.\n",
    "\n",
    "- **Built distribution**: a distribution format that only need to be moved to the correct location on the target system to be installed. **Wheel** is such a format, whereas distutil's source distribution is not.\n",
    "\n",
    "- If no compilation is involved, a source distribution is in principle sufficient. But Wheel is still recommended.\n",
    "\n",
    "**Wheel**: ZIP-format archive with a specially formatted filename and the .whl extension. \n",
    "\n",
    "**Why Wheel?**  \n",
    "- If no compilation is involved, a source distribution is in principle sufficient. But Wheel is still recommended.\n",
    "- Even if a source distribution is pure Python (without extensions), it still involves a build step to build out the installation metadata from setup.py.\n"
   ]
  },
  {
   "cell_type": "markdown",
   "metadata": {},
   "source": [
    "# Installing Packages"
   ]
  },
  {
   "cell_type": "markdown",
   "metadata": {},
   "source": [
    "**User site directory**: a site directory inside the users' home directory. Packages installed with the option --local will be installed here.  \n",
    "https://legacy.python.org/dev/peps/pep-0370/#id25"
   ]
  },
  {
   "cell_type": "code",
   "execution_count": 31,
   "metadata": {
    "ExecuteTime": {
     "end_time": "2020-08-09T00:09:17.336440Z",
     "start_time": "2020-08-09T00:09:17.330443Z"
    }
   },
   "outputs": [
    {
     "data": {
      "text/plain": [
       "'C:\\\\Users\\\\USUARIO\\\\AppData\\\\Roaming\\\\Python\\\\Python37\\\\site-packages'"
      ]
     },
     "execution_count": 31,
     "metadata": {},
     "output_type": "execute_result"
    }
   ],
   "source": [
    "import site\n",
    "site.USER_SITE\n",
    "\n",
    "# site.getusersitepackages() also works"
   ]
  },
  {
   "cell_type": "code",
   "execution_count": null,
   "metadata": {},
   "outputs": [],
   "source": [
    "# Would isntall on the directory above\n",
    "pip install --user [package]"
   ]
  },
  {
   "cell_type": "markdown",
   "metadata": {},
   "source": [
    "For the global site-package directories, use the function getsitepackages. In the example below, the global directory is inside the conda envirnoment:"
   ]
  },
  {
   "cell_type": "code",
   "execution_count": 32,
   "metadata": {
    "ExecuteTime": {
     "end_time": "2020-08-09T00:11:43.023480Z",
     "start_time": "2020-08-09T00:11:43.018512Z"
    }
   },
   "outputs": [
    {
     "data": {
      "text/plain": [
       "['C:\\\\Users\\\\USUARIO\\\\Anaconda3\\\\envs\\\\dl',\n",
       " 'C:\\\\Users\\\\USUARIO\\\\Anaconda3\\\\envs\\\\dl\\\\lib\\\\site-packages']"
      ]
     },
     "execution_count": 32,
     "metadata": {},
     "output_type": "execute_result"
    }
   ],
   "source": [
    "site.getsitepackages()"
   ]
  },
  {
   "cell_type": "markdown",
   "metadata": {},
   "source": [
    "**Install with setup.py**   \n",
    "You can download and unpack the source distribution yourself, and then use its setup.py script to install the package.   \n",
    "https://kb.iu.edu/d/acey#modules\n",
    "\n",
    "Example:"
   ]
  },
  {
   "cell_type": "code",
   "execution_count": null,
   "metadata": {},
   "outputs": [],
   "source": [
    "# Dowonload the distribution from the source pythonfoo.org\n",
    "wget http://pythonfoo.org/foo-1.0.3.gz\n",
    "    \n",
    "# Unpack the archive using tar\n",
    "tar -xzf foo-1.0.3.gz\n",
    "\n",
    "# change to the directory and use\n",
    "python setup.py install --user"
   ]
  },
  {
   "cell_type": "markdown",
   "metadata": {},
   "source": [
    "**distutils and setuptools**  \n",
    "The distutils package provides support for building and installing additional modules into a Python installation. From the documentation of setuptools: \"most Python users will not want to use this module directly, but instead use the cross-version tools maintained by PyPA).In particular, setuptools [...]\" (https://docs.python.org/3/library/distutils.html)\n",
    "\n",
    "The setuptools package (which includes easy_install) is a collection of enhancements to distutils that allow you to more easily build and distribute Python distributions."
   ]
  },
  {
   "cell_type": "markdown",
   "metadata": {},
   "source": [
    "# Python Virtual Environments\n",
    "https://realpython.com/python-virtual-environments-a-primer/"
   ]
  },
  {
   "cell_type": "code",
   "execution_count": 4,
   "metadata": {
    "ExecuteTime": {
     "end_time": "2020-08-08T19:08:39.510967Z",
     "start_time": "2020-08-08T19:08:39.506931Z"
    }
   },
   "outputs": [
    {
     "data": {
      "text/plain": [
       "'C:\\\\Users\\\\USUARIO\\\\Anaconda3\\\\envs\\\\dl'"
      ]
     },
     "execution_count": 4,
     "metadata": {},
     "output_type": "execute_result"
    }
   ],
   "source": [
    "# M\n",
    "import sys\n",
    "sys.prefix"
   ]
  },
  {
   "cell_type": "code",
   "execution_count": 3,
   "metadata": {
    "ExecuteTime": {
     "end_time": "2020-08-08T19:08:37.364135Z",
     "start_time": "2020-08-08T19:08:37.358137Z"
    }
   },
   "outputs": [
    {
     "data": {
      "text/plain": [
       "['C:\\\\Users\\\\USUARIO\\\\Anaconda3\\\\envs\\\\dl',\n",
       " 'C:\\\\Users\\\\USUARIO\\\\Anaconda3\\\\envs\\\\dl\\\\lib\\\\site-packages']"
      ]
     },
     "execution_count": 3,
     "metadata": {},
     "output_type": "execute_result"
    }
   ],
   "source": [
    "# Third packages installed using easy_install or pip are typically\n",
    "# placed in one of the directories pointed by the command below\n",
    "# third party packages = site packages\n",
    "import site\n",
    "site.getsitepackages()"
   ]
  },
  {
   "cell_type": "markdown",
   "metadata": {},
   "source": [
    "**Version of Python**"
   ]
  },
  {
   "cell_type": "code",
   "execution_count": 21,
   "metadata": {
    "ExecuteTime": {
     "end_time": "2020-08-08T20:54:03.070180Z",
     "start_time": "2020-08-08T20:54:03.014190Z"
    }
   },
   "outputs": [
    {
     "name": "stdout",
     "output_type": "stream",
     "text": [
      "Python 3.7.3\n"
     ]
    }
   ],
   "source": [
    "import sys\n",
    "!{sys.executable} --version"
   ]
  },
  {
   "cell_type": "markdown",
   "metadata": {},
   "source": [
    "# Glossary  \n",
    "(several sources)"
   ]
  },
  {
   "cell_type": "markdown",
   "metadata": {},
   "source": [
    "**pip**: standard package manager for Python. It provides essential core features for finding, downloading, and installing packages from PyPI and other Python package indexes.\n",
    "\n",
    "**Distribution Packages**: a versioned archive that contains Python packages, modules, and other resource files that are used to distribute a Release.\n",
    "\n",
    "\n",
    "**Built Distribution**:"
   ]
  },
  {
   "cell_type": "code",
   "execution_count": null,
   "metadata": {},
   "outputs": [],
   "source": []
  },
  {
   "cell_type": "code",
   "execution_count": 19,
   "metadata": {
    "ExecuteTime": {
     "end_time": "2020-08-08T19:56:05.056349Z",
     "start_time": "2020-08-08T19:56:05.049355Z"
    }
   },
   "outputs": [
    {
     "data": {
      "text/plain": [
       "['C:\\\\Users\\\\USUARIO\\\\Anaconda3\\\\envs\\\\dl',\n",
       " 'C:\\\\Users\\\\USUARIO\\\\Anaconda3\\\\envs\\\\dl']"
      ]
     },
     "execution_count": 19,
     "metadata": {},
     "output_type": "execute_result"
    }
   ],
   "source": [
    "site.PREFIXES"
   ]
  },
  {
   "cell_type": "code",
   "execution_count": 2,
   "metadata": {
    "ExecuteTime": {
     "end_time": "2020-08-08T19:06:30.626326Z",
     "start_time": "2020-08-08T19:06:30.621297Z"
    }
   },
   "outputs": [
    {
     "data": {
      "text/plain": [
       "['C:\\\\Users\\\\USUARIO\\\\Anaconda3\\\\envs\\\\dl',\n",
       " 'C:\\\\Users\\\\USUARIO\\\\Anaconda3\\\\envs\\\\dl\\\\lib\\\\site-packages']"
      ]
     },
     "execution_count": 2,
     "metadata": {},
     "output_type": "execute_result"
    }
   ],
   "source": [
    "import site\n",
    "site.getsitepackages()"
   ]
  },
  {
   "cell_type": "code",
   "execution_count": 1,
   "metadata": {
    "ExecuteTime": {
     "end_time": "2020-08-08T19:04:19.225674Z",
     "start_time": "2020-08-08T19:04:19.216674Z"
    }
   },
   "outputs": [
    {
     "data": {
      "text/plain": [
       "'C:\\\\Users\\\\USUARIO\\\\Anaconda3\\\\envs\\\\dl'"
      ]
     },
     "execution_count": 1,
     "metadata": {},
     "output_type": "execute_result"
    }
   ],
   "source": [
    "import sys\n",
    "sys.prefix"
   ]
  },
  {
   "cell_type": "code",
   "execution_count": null,
   "metadata": {},
   "outputs": [],
   "source": []
  },
  {
   "cell_type": "code",
   "execution_count": null,
   "metadata": {},
   "outputs": [],
   "source": []
  },
  {
   "cell_type": "code",
   "execution_count": null,
   "metadata": {
    "ExecuteTime": {
     "end_time": "2020-08-09T18:35:49.470541Z",
     "start_time": "2020-08-09T18:35:49.438542Z"
    }
   },
   "outputs": [],
   "source": []
  },
  {
   "cell_type": "code",
   "execution_count": 36,
   "metadata": {
    "ExecuteTime": {
     "end_time": "2020-08-09T18:35:41.237770Z",
     "start_time": "2020-08-09T18:35:41.230773Z"
    }
   },
   "outputs": [
    {
     "data": {
      "text/plain": [
       "<module 'pip' from 'C:\\\\Users\\\\USUARIO\\\\Anaconda3\\\\envs\\\\dl\\\\lib\\\\site-packages\\\\pip\\\\__init__.py'>"
      ]
     },
     "execution_count": 36,
     "metadata": {},
     "output_type": "execute_result"
    }
   ],
   "source": [
    "pip"
   ]
  }
 ],
 "metadata": {
  "kernelspec": {
   "display_name": "Python [conda env:dl]",
   "language": "python",
   "name": "conda-env-dl-py"
  },
  "language_info": {
   "codemirror_mode": {
    "name": "ipython",
    "version": 3
   },
   "file_extension": ".py",
   "mimetype": "text/x-python",
   "name": "python",
   "nbconvert_exporter": "python",
   "pygments_lexer": "ipython3",
   "version": "3.7.3"
  },
  "toc": {
   "base_numbering": 1,
   "nav_menu": {},
   "number_sections": true,
   "sideBar": true,
   "skip_h1_title": false,
   "title_cell": "Table of Contents",
   "title_sidebar": "Contents",
   "toc_cell": false,
   "toc_position": {
    "height": "calc(100% - 180px)",
    "left": "10px",
    "top": "150px",
    "width": "208.438px"
   },
   "toc_section_display": true,
   "toc_window_display": true
  },
  "varInspector": {
   "cols": {
    "lenName": 16,
    "lenType": 16,
    "lenVar": 40
   },
   "kernels_config": {
    "python": {
     "delete_cmd_postfix": "",
     "delete_cmd_prefix": "del ",
     "library": "var_list.py",
     "varRefreshCmd": "print(var_dic_list())"
    },
    "r": {
     "delete_cmd_postfix": ") ",
     "delete_cmd_prefix": "rm(",
     "library": "var_list.r",
     "varRefreshCmd": "cat(var_dic_list()) "
    }
   },
   "types_to_exclude": [
    "module",
    "function",
    "builtin_function_or_method",
    "instance",
    "_Feature"
   ],
   "window_display": false
  }
 },
 "nbformat": 4,
 "nbformat_minor": 2
}
