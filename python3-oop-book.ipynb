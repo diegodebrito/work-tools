{
 "cells": [
  {
   "cell_type": "markdown",
   "metadata": {},
   "source": [
    "# Object-Oriented Design"
   ]
  },
  {
   "cell_type": "markdown",
   "metadata": {},
   "source": [
    "**Public Inerface** when designing public interfaces, keep it simple. Be really careful about not changing the interface (it would break client objects). Always design the interface based on how easy it is to use, not how hard it is to code.  \n",
    "**Abstraction** the process of extracting a public interface from the inner details. It is the process of encapsulating information with separate public and private interfaces (distinction between these two is all about information hiding).   \n",
    "**Tip about design of objects**: imagine that you are the object and that you have a strong preference for privacy.  \n",
    "**Aggregation and Composition**: aggregation is a more general form of composition. An aggregate relationship exists when objects are related but can be created independently (chess board and the pieces).   \n",
    "**Inheritance**: one class can inherit attributes and methods from another class.  \n",
    "**Abstract class**: we demand that a specific method exist in non-abstract subclass, but it is not specified in the original class.  \n",
    "**Polymorphism**: the ability to treat a class differently, depending on which subclass is implemented (each piece on a chess game has a different move method).  \n",
    "**Duck typing in Python**: the type or class of an object is less important than the methods it defines. The len function will return the length of any object with the dunder method \\_\\_len\\_\\_. It does not check for type."
   ]
  },
  {
   "cell_type": "code",
   "execution_count": 2,
   "metadata": {
    "ExecuteTime": {
     "end_time": "2020-07-16T00:05:58.506618Z",
     "start_time": "2020-07-16T00:05:58.453438Z"
    }
   },
   "outputs": [
    {
     "ename": "RuntimeError",
     "evalue": "No active exception to reraise",
     "output_type": "error",
     "traceback": [
      "\u001b[1;31m---------------------------------------------------------------------------\u001b[0m",
      "\u001b[1;31mRuntimeError\u001b[0m                              Traceback (most recent call last)",
      "\u001b[1;32m<ipython-input-2-9c9a2cba73bf>\u001b[0m in \u001b[0;36m<module>\u001b[1;34m\u001b[0m\n\u001b[1;32m----> 1\u001b[1;33m \u001b[1;32mraise\u001b[0m\u001b[1;33m\u001b[0m\u001b[1;33m\u001b[0m\u001b[0m\n\u001b[0m",
      "\u001b[1;31mRuntimeError\u001b[0m: No active exception to reraise"
     ]
    }
   ],
   "source": [
    "raise"
   ]
  },
  {
   "cell_type": "markdown",
   "metadata": {},
   "source": [
    "# Objects in Python"
   ]
  },
  {
   "cell_type": "markdown",
   "metadata": {},
   "source": [
    "PEP 8 recommends naming classes using CapWords"
   ]
  },
  {
   "cell_type": "markdown",
   "metadata": {},
   "source": [
    "Interesting: meaning of argument self:"
   ]
  },
  {
   "cell_type": "code",
   "execution_count": 27,
   "metadata": {
    "ExecuteTime": {
     "end_time": "2020-07-17T00:51:10.861343Z",
     "start_time": "2020-07-17T00:51:10.858325Z"
    }
   },
   "outputs": [],
   "source": [
    "class Point:\n",
    "    def reset(self):\n",
    "        self.x = 0\n",
    "        self.y = 0"
   ]
  },
  {
   "cell_type": "code",
   "execution_count": 28,
   "metadata": {
    "ExecuteTime": {
     "end_time": "2020-07-17T00:51:11.526342Z",
     "start_time": "2020-07-17T00:51:11.522353Z"
    }
   },
   "outputs": [
    {
     "name": "stdout",
     "output_type": "stream",
     "text": [
      "0 0\n"
     ]
    }
   ],
   "source": [
    "p = Point()\n",
    "# Passes the p object argument automatically\n",
    "p.reset()\n",
    "\n",
    "print(p.x, p.y)"
   ]
  },
  {
   "cell_type": "code",
   "execution_count": 29,
   "metadata": {
    "ExecuteTime": {
     "end_time": "2020-07-17T00:51:12.239069Z",
     "start_time": "2020-07-17T00:51:12.234121Z"
    }
   },
   "outputs": [
    {
     "name": "stdout",
     "output_type": "stream",
     "text": [
      "0 0\n"
     ]
    }
   ],
   "source": [
    "p = Point()\n",
    "# Explicitly passing p as an argument (same result)\n",
    "Point.reset(p)\n",
    "\n",
    "print(p.x, p.y)"
   ]
  },
  {
   "cell_type": "markdown",
   "metadata": {},
   "source": [
    "## Modules and Packages"
   ]
  },
  {
   "cell_type": "markdown",
   "metadata": {},
   "source": [
    "- **Modules** are simply Python files.  \n",
    "- The **import** statement is used for importing moules or specific classes and functions from modules.\n",
    "- **Attention**: all module-level code is executed immediately at the time it is imported. See ways to deal with this below.\n",
    "- **Namespace**: list of names currently accessible in a module or function.\n",
    "- A **package** is a collection of modules in a folder. The name of the package is the name of the folder. To tell Python that a folder is a package, include a **\\_\\_init\\_\\_** file on the folder.\n",
    "- The \\_\\_init\\_\\_ file can contain any variable or class declarations we like (see the example below). Recommendation: do not add too much code (if any) to this file."
   ]
  },
  {
   "cell_type": "markdown",
   "metadata": {},
   "source": [
    "Example of a folder hierarchy:"
   ]
  },
  {
   "cell_type": "code",
   "execution_count": null,
   "metadata": {},
   "outputs": [],
   "source": [
    "parent_directory/ \n",
    "    main.py \n",
    "    ecommerce/ \n",
    "        __init__.py \n",
    "        database.py \n",
    "        products.py \n",
    "        payments/ \n",
    "            __init__.py \n",
    "            square.py \n",
    "            stripe.py "
   ]
  },
  {
   "cell_type": "markdown",
   "metadata": {},
   "source": [
    "**Absolute import**  \n",
    "import ecommerce.products  \n",
    "\n",
    "//or  \n",
    "\n",
    "from ecommerce.products import Product  \n",
    "\n",
    "//or   \n",
    "\n",
    "from ecommerce import products\n",
    "\n",
    "\n",
    "**Relative import**  \n",
    "If working on the products modules, we can use:   \n",
    "from .database import Database (**.** means using the module on the current package)\n",
    "\n",
    "If working inside payments package, we can use:  \n",
    "from ..database import Database"
   ]
  },
  {
   "cell_type": "markdown",
   "metadata": {},
   "source": [
    "**Writing on the \\_\\_init\\_\\_ file**  \n",
    "If ecommerce/\\_\\_initi\\_\\_.py contains:   \n",
    "\n",
    "from .database import db (db is a variable)  \n",
    "\n",
    "We can access db from main.py or any other file, using:  \n",
    "\n",
    "from ecommercd import db"
   ]
  },
  {
   "cell_type": "markdown",
   "metadata": {},
   "source": [
    "**Global variables**"
   ]
  },
  {
   "cell_type": "code",
   "execution_count": 1,
   "metadata": {
    "ExecuteTime": {
     "end_time": "2020-07-19T00:05:00.307916Z",
     "start_time": "2020-07-19T00:05:00.304898Z"
    }
   },
   "outputs": [],
   "source": [
    "class Database: \n",
    "    # the database implementation \n",
    "    pass \n",
    " \n",
    "database = None \n",
    " \n",
    "def initialize_database(): \n",
    "    # This access the variable define above\n",
    "    # Whenever we import this module, everything will be executed\n",
    "    # Except the function content. We can run the function to initialize\n",
    "    # the database on the variable define above (so it can be imported from\n",
    "    # the module before initializing the database)\n",
    "    global database \n",
    "    database = Database() "
   ]
  },
  {
   "cell_type": "markdown",
   "metadata": {},
   "source": [
    "**Using main()**  \n",
    "Every module has a \\_\\_name\\_\\_ special variable. When the module is executed directly, this variable is set to \"\\_\\_main\\_\\_\"."
   ]
  },
  {
   "cell_type": "code",
   "execution_count": null,
   "metadata": {},
   "outputs": [],
   "source": [
    "class UsefulClass:\n",
    "    \"\"\"This class might be useful to other modules.\"\"\"\n",
    "\n",
    "    pass\n",
    "\n",
    "\n",
    "def main():\n",
    "    \"\"\"Creates a useful class and does something with it for our module.\"\"\"\n",
    "    useful = UsefulClass()\n",
    "    print(useful)\n",
    "\n",
    "\n",
    "if __name__ == \"__main__\":\n",
    "    main()"
   ]
  },
  {
   "cell_type": "code",
   "execution_count": 4,
   "metadata": {
    "ExecuteTime": {
     "end_time": "2020-07-19T00:19:31.088691Z",
     "start_time": "2020-07-19T00:19:31.083736Z"
    }
   },
   "outputs": [
    {
     "name": "stdout",
     "output_type": "stream",
     "text": [
      "Object `global a` not found.\n"
     ]
    }
   ],
   "source": [
    "global a"
   ]
  },
  {
   "cell_type": "markdown",
   "metadata": {},
   "source": [
    "## Virtual Environments"
   ]
  },
  {
   "cell_type": "markdown",
   "metadata": {},
   "source": [
    "- Create a virtual environment for every project you work on\n",
    "- Suggestion: you can keep your environment in the same directory as the project files, but make sure you ignore it in version control\n",
    "- Alternative tools for managing virtual environments: pyenv, virtualwrapper, conda"
   ]
  },
  {
   "cell_type": "code",
   "execution_count": null,
   "metadata": {},
   "outputs": [],
   "source": [
    "cd project_directory\n",
    "python -m venv env\n",
    "source env/bin/activate  # on Linux or macOS\n",
    "env/bin/activate.bat     # on Windows \n",
    "deactivate"
   ]
  },
  {
   "cell_type": "markdown",
   "metadata": {},
   "source": [
    "# When Objects are Alike"
   ]
  },
  {
   "cell_type": "markdown",
   "metadata": {},
   "source": [
    "## Basic Inheritance / Class Variables"
   ]
  },
  {
   "cell_type": "code",
   "execution_count": 25,
   "metadata": {
    "ExecuteTime": {
     "end_time": "2020-07-19T13:02:41.833635Z",
     "start_time": "2020-07-19T13:02:41.828681Z"
    }
   },
   "outputs": [],
   "source": [
    "# Introducing class variables (all_contact)\n",
    "# These variables are shared by al instances of this class\n",
    "class Contact:\n",
    "    all_contacts = []\n",
    "\n",
    "    def __init__(self, name, email):\n",
    "        self.name = name\n",
    "        self.email = email\n",
    "        Contact.all_contacts.append(self)"
   ]
  },
  {
   "cell_type": "code",
   "execution_count": 26,
   "metadata": {
    "ExecuteTime": {
     "end_time": "2020-07-19T13:02:41.843608Z",
     "start_time": "2020-07-19T13:02:41.835630Z"
    }
   },
   "outputs": [],
   "source": [
    "class Supplier(Contact):\n",
    "    def order(self, order):\n",
    "        print(\n",
    "            \"If this were a real system we would send \"\n",
    "            f\"'{order}' order to '{self.name}'\"\n",
    "        )"
   ]
  },
  {
   "cell_type": "code",
   "execution_count": 27,
   "metadata": {
    "ExecuteTime": {
     "end_time": "2020-07-19T13:02:41.850625Z",
     "start_time": "2020-07-19T13:02:41.845605Z"
    }
   },
   "outputs": [],
   "source": [
    "contact1 = Contact(\"John\", \"John@gmail.com\")\n",
    "supplier1 = Supplier(\"Mary\", \"Mary@gmail.com\")"
   ]
  },
  {
   "cell_type": "markdown",
   "metadata": {},
   "source": [
    "Notice how the list of all_contacts is the same and is accessible from contact 1 and supplier1:"
   ]
  },
  {
   "cell_type": "code",
   "execution_count": 28,
   "metadata": {
    "ExecuteTime": {
     "end_time": "2020-07-19T13:02:42.449455Z",
     "start_time": "2020-07-19T13:02:42.444469Z"
    }
   },
   "outputs": [
    {
     "data": {
      "text/plain": [
       "[<__main__.Contact at 0x14ea5615da0>, <__main__.Supplier at 0x14ea5615d68>]"
      ]
     },
     "execution_count": 28,
     "metadata": {},
     "output_type": "execute_result"
    }
   ],
   "source": [
    "contact1.all_contacts"
   ]
  },
  {
   "cell_type": "code",
   "execution_count": 29,
   "metadata": {
    "ExecuteTime": {
     "end_time": "2020-07-19T13:02:52.463919Z",
     "start_time": "2020-07-19T13:02:52.458932Z"
    }
   },
   "outputs": [
    {
     "data": {
      "text/plain": [
       "[<__main__.Contact at 0x14ea5615da0>, <__main__.Supplier at 0x14ea5615d68>]"
      ]
     },
     "execution_count": 29,
     "metadata": {},
     "output_type": "execute_result"
    }
   ],
   "source": [
    "supplier1.all_contacts"
   ]
  },
  {
   "cell_type": "code",
   "execution_count": 22,
   "metadata": {
    "ExecuteTime": {
     "end_time": "2020-07-19T13:02:11.170424Z",
     "start_time": "2020-07-19T13:02:11.164440Z"
    }
   },
   "outputs": [
    {
     "name": "stdout",
     "output_type": "stream",
     "text": [
      "John\n",
      "Mary\n"
     ]
    }
   ],
   "source": [
    "print(contact1.all_contacts[0].name)\n",
    "print(contact1.all_contacts[1].name)"
   ]
  },
  {
   "cell_type": "markdown",
   "metadata": {},
   "source": [
    "## Overriding and Super"
   ]
  },
  {
   "cell_type": "markdown",
   "metadata": {},
   "source": [
    "Extending \\_\\_init\\_\\_ method from superclass using super(). The function super returns the object as an instance of the parent class."
   ]
  },
  {
   "cell_type": "code",
   "execution_count": 68,
   "metadata": {
    "ExecuteTime": {
     "end_time": "2020-07-19T13:29:25.266103Z",
     "start_time": "2020-07-19T13:29:25.262084Z"
    }
   },
   "outputs": [],
   "source": [
    "class Contact:\n",
    "    \n",
    "    def __init__(self, name, email):\n",
    "        self.name = name\n",
    "        self.email = email"
   ]
  },
  {
   "cell_type": "code",
   "execution_count": 69,
   "metadata": {
    "ExecuteTime": {
     "end_time": "2020-07-19T13:29:25.277041Z",
     "start_time": "2020-07-19T13:29:25.268068Z"
    }
   },
   "outputs": [],
   "source": [
    "# Using\n",
    "class Friend(Contact):\n",
    "    \n",
    "    def __init__(self, name, email, phone):\n",
    "        super().__init__(name, email)\n",
    "        self.phone = phone"
   ]
  },
  {
   "cell_type": "code",
   "execution_count": 70,
   "metadata": {
    "ExecuteTime": {
     "end_time": "2020-07-19T13:29:25.794075Z",
     "start_time": "2020-07-19T13:29:25.789087Z"
    }
   },
   "outputs": [],
   "source": [
    "friend1 = Friend(\"Mike\", \"Mike@gmail.com\", \"12345\")"
   ]
  },
  {
   "cell_type": "markdown",
   "metadata": {},
   "source": [
    "## Multiple Inheritance"
   ]
  },
  {
   "cell_type": "markdown",
   "metadata": {},
   "source": [
    "**Mixin Example**   \n",
    "A mixin is a superclass that is not intended to exist on its own, but is meant to be inherited by some other class to provide extra functionality.  \n",
    "\n",
    "**Advice**: multiple inheritance gets tricky really fast. Avoid using it, even if you think it is necessary. The chapter has some information about order of calls using super() and how to manage parameter to these calls (again, it is tricky/convoluted)."
   ]
  },
  {
   "cell_type": "code",
   "execution_count": 75,
   "metadata": {
    "ExecuteTime": {
     "end_time": "2020-07-19T13:39:09.289497Z",
     "start_time": "2020-07-19T13:39:09.284512Z"
    }
   },
   "outputs": [],
   "source": [
    "# A simpler way to do this would be to create a function that sends\n",
    "# an email instead of having to use a new class\n",
    "class MailSender: \n",
    "    def send_mail(self, message): \n",
    "        print(\"Sending mail to \" + self.email) \n",
    "        # Add e-mail logic here "
   ]
  },
  {
   "cell_type": "code",
   "execution_count": 76,
   "metadata": {
    "ExecuteTime": {
     "end_time": "2020-07-19T13:39:10.024401Z",
     "start_time": "2020-07-19T13:39:10.021408Z"
    }
   },
   "outputs": [],
   "source": [
    "class EmailableContact(Contact, MailSender): \n",
    "    pass "
   ]
  },
  {
   "cell_type": "code",
   "execution_count": 77,
   "metadata": {
    "ExecuteTime": {
     "end_time": "2020-07-19T13:39:10.570946Z",
     "start_time": "2020-07-19T13:39:10.565959Z"
    }
   },
   "outputs": [
    {
     "name": "stdout",
     "output_type": "stream",
     "text": [
      "Sending mail to jsmith@example.net\n"
     ]
    }
   ],
   "source": [
    "e = EmailableContact(\"John Smith\", \"jsmith@example.net\")\n",
    "e.send_mail(\"Hello, test e-mail here\")"
   ]
  },
  {
   "cell_type": "markdown",
   "metadata": {},
   "source": [
    "## Polymorphism"
   ]
  },
  {
   "cell_type": "markdown",
   "metadata": {},
   "source": [
    "A media player does not care about the subclass, as long as it has a play method implemented."
   ]
  },
  {
   "cell_type": "code",
   "execution_count": null,
   "metadata": {},
   "outputs": [],
   "source": [
    "# The parent class is able to access the ext variable defined on \n",
    "# the subclasses\n",
    "class AudioFile:\n",
    "    def __init__(self, filename):\n",
    "        if not filename.endswith(self.ext):\n",
    "            raise Exception(\"Invalid file format\")\n",
    "\n",
    "        self.filename = filename\n",
    "\n",
    "\n",
    "class MP3File(AudioFile):\n",
    "    ext = \"mp3\"\n",
    "\n",
    "    def play(self):\n",
    "        print(\"playing {} as mp3\".format(self.filename))"
   ]
  },
  {
   "cell_type": "markdown",
   "metadata": {},
   "source": [
    "Duck typing makes it trivial in Python, though. We don't need inheritance to make this works. We can define any class with the play() method and it will work just the same. In other languages, an interface might require a certain class. In this case, inheritance would be more useful, since we could create different subclasses with different behaviors, and these would still be accepted."
   ]
  },
  {
   "cell_type": "markdown",
   "metadata": {},
   "source": [
    "## Abstract Base Classes"
   ]
  },
  {
   "cell_type": "markdown",
   "metadata": {},
   "source": [
    "- ABCs define a set of methods and properties that a class must implement in order to be considered a duck-type instance of that class. \n",
    "- Most abstract base classes that exist in the Python standard library live in the collections module."
   ]
  },
  {
   "cell_type": "code",
   "execution_count": 83,
   "metadata": {
    "ExecuteTime": {
     "end_time": "2020-07-19T14:31:33.843289Z",
     "start_time": "2020-07-19T14:31:33.838298Z"
    }
   },
   "outputs": [
    {
     "data": {
      "text/plain": [
       "frozenset({'__contains__'})"
      ]
     },
     "execution_count": 83,
     "metadata": {},
     "output_type": "execute_result"
    }
   ],
   "source": [
    "from collections.abc import Container\n",
    "Container.__abstractmethods__"
   ]
  },
  {
   "cell_type": "markdown",
   "metadata": {},
   "source": [
    "This method is equivalent to using in (syntatic sugar), and is implemented by list, str, and dict."
   ]
  },
  {
   "cell_type": "code",
   "execution_count": 84,
   "metadata": {
    "ExecuteTime": {
     "end_time": "2020-07-19T14:32:22.353827Z",
     "start_time": "2020-07-19T14:32:22.349841Z"
    }
   },
   "outputs": [],
   "source": [
    "a = [1,2,3]"
   ]
  },
  {
   "cell_type": "code",
   "execution_count": 85,
   "metadata": {
    "ExecuteTime": {
     "end_time": "2020-07-19T14:32:29.737379Z",
     "start_time": "2020-07-19T14:32:29.733389Z"
    }
   },
   "outputs": [
    {
     "data": {
      "text/plain": [
       "True"
      ]
     },
     "execution_count": 85,
     "metadata": {},
     "output_type": "execute_result"
    }
   ],
   "source": [
    "a.__contains__(2)"
   ]
  },
  {
   "cell_type": "code",
   "execution_count": 86,
   "metadata": {
    "ExecuteTime": {
     "end_time": "2020-07-19T14:33:04.557428Z",
     "start_time": "2020-07-19T14:33:04.550478Z"
    }
   },
   "outputs": [
    {
     "data": {
      "text/plain": [
       "True"
      ]
     },
     "execution_count": 86,
     "metadata": {},
     "output_type": "execute_result"
    }
   ],
   "source": [
    "2 in a"
   ]
  },
  {
   "cell_type": "markdown",
   "metadata": {},
   "source": [
    "We don't even need to use inheritance. Just by having the \\_\\_contains\\_\\_ method, the class will be considered a Container:"
   ]
  },
  {
   "cell_type": "code",
   "execution_count": 88,
   "metadata": {
    "ExecuteTime": {
     "end_time": "2020-07-19T14:35:17.483328Z",
     "start_time": "2020-07-19T14:35:17.478341Z"
    }
   },
   "outputs": [
    {
     "data": {
      "text/plain": [
       "True"
      ]
     },
     "execution_count": 88,
     "metadata": {},
     "output_type": "execute_result"
    }
   ],
   "source": [
    "class OddContainer: \n",
    "    def __contains__(self, x): \n",
    "        if not isinstance(x, int) or not x % 2: \n",
    "            return False \n",
    "        return True \n",
    "    \n",
    "odd_container = OddContainer()\n",
    "isinstance(odd_container, Container)"
   ]
  },
  {
   "cell_type": "markdown",
   "metadata": {},
   "source": [
    "Now our class gets to use in for free!"
   ]
  }
 ],
 "metadata": {
  "kernelspec": {
   "display_name": "Python [conda env:dl]",
   "language": "python",
   "name": "conda-env-dl-py"
  },
  "language_info": {
   "codemirror_mode": {
    "name": "ipython",
    "version": 3
   },
   "file_extension": ".py",
   "mimetype": "text/x-python",
   "name": "python",
   "nbconvert_exporter": "python",
   "pygments_lexer": "ipython3",
   "version": "3.7.3"
  },
  "toc": {
   "base_numbering": 1,
   "nav_menu": {},
   "number_sections": true,
   "sideBar": true,
   "skip_h1_title": false,
   "title_cell": "Table of Contents",
   "title_sidebar": "Contents",
   "toc_cell": false,
   "toc_position": {
    "height": "calc(100% - 180px)",
    "left": "10px",
    "top": "150px",
    "width": "221.797px"
   },
   "toc_section_display": true,
   "toc_window_display": true
  },
  "varInspector": {
   "cols": {
    "lenName": 16,
    "lenType": 16,
    "lenVar": 40
   },
   "kernels_config": {
    "python": {
     "delete_cmd_postfix": "",
     "delete_cmd_prefix": "del ",
     "library": "var_list.py",
     "varRefreshCmd": "print(var_dic_list())"
    },
    "r": {
     "delete_cmd_postfix": ") ",
     "delete_cmd_prefix": "rm(",
     "library": "var_list.r",
     "varRefreshCmd": "cat(var_dic_list()) "
    }
   },
   "types_to_exclude": [
    "module",
    "function",
    "builtin_function_or_method",
    "instance",
    "_Feature"
   ],
   "window_display": false
  }
 },
 "nbformat": 4,
 "nbformat_minor": 2
}
