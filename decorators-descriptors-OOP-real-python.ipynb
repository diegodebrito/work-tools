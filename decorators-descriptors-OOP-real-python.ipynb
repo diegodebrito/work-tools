{
 "cells": [
  {
   "cell_type": "markdown",
   "metadata": {},
   "source": [
    "# Primer on Decorators \n",
    "https://realpython.com/primer-on-python-decorators/#classes-as-decorators"
   ]
  },
  {
   "cell_type": "markdown",
   "metadata": {},
   "source": [
    "- Functions are **first-class objects** in Python: they can be passed aroung and used as arguments.\n",
    "- **Inner functions**: functions defined inside other functions.\n",
    "- **Decorators** wrap a function, modifying its behavior. A decorator is also a regular Python function."
   ]
  },
  {
   "cell_type": "markdown",
   "metadata": {},
   "source": [
    "## Decorators and Arguments"
   ]
  },
  {
   "cell_type": "code",
   "execution_count": 94,
   "metadata": {
    "ExecuteTime": {
     "end_time": "2020-07-21T20:30:08.470543Z",
     "start_time": "2020-07-21T20:30:08.466561Z"
    }
   },
   "outputs": [],
   "source": [
    "def do_twice(func):\n",
    "    # After using the decorator, our new function will be the wrapped part\n",
    "    # We don't need to pass func as an argument to the wrapper\n",
    "    # func is available on the function scope now.\n",
    "    def wrapper_do_twice(*args, **kwargs):\n",
    "        func(*args, **kwargs)\n",
    "        func(*args, **kwargs)\n",
    "    return wrapper_do_twice\n",
    "\n",
    "# When we make the call of the wrapped function, we will be basically\n",
    "# doing wrapper_do_twice(*args, **kwargs) and this function will take\n",
    "# care of passing the argumnets to the original func."
   ]
  },
  {
   "cell_type": "code",
   "execution_count": 95,
   "metadata": {
    "ExecuteTime": {
     "end_time": "2020-07-21T20:30:08.480486Z",
     "start_time": "2020-07-21T20:30:08.472536Z"
    }
   },
   "outputs": [],
   "source": [
    "@do_twice\n",
    "def say_whee():\n",
    "    print(\"Whee!\")"
   ]
  },
  {
   "cell_type": "code",
   "execution_count": 96,
   "metadata": {
    "ExecuteTime": {
     "end_time": "2020-07-21T20:30:08.486468Z",
     "start_time": "2020-07-21T20:30:08.482479Z"
    }
   },
   "outputs": [],
   "source": [
    "@do_twice\n",
    "def greet(name):\n",
    "    print(f\"Hello {name}\")"
   ]
  },
  {
   "cell_type": "code",
   "execution_count": 97,
   "metadata": {
    "ExecuteTime": {
     "end_time": "2020-07-21T20:30:08.492452Z",
     "start_time": "2020-07-21T20:30:08.488463Z"
    }
   },
   "outputs": [
    {
     "name": "stdout",
     "output_type": "stream",
     "text": [
      "Whee!\n",
      "Whee!\n"
     ]
    }
   ],
   "source": [
    "say_whee()"
   ]
  },
  {
   "cell_type": "code",
   "execution_count": 98,
   "metadata": {
    "ExecuteTime": {
     "end_time": "2020-07-21T20:30:08.498437Z",
     "start_time": "2020-07-21T20:30:08.494447Z"
    }
   },
   "outputs": [
    {
     "name": "stdout",
     "output_type": "stream",
     "text": [
      "Hello World\n",
      "Hello World\n"
     ]
    }
   ],
   "source": [
    "greet('World')"
   ]
  },
  {
   "cell_type": "markdown",
   "metadata": {},
   "source": [
    "## Returning Values"
   ]
  },
  {
   "cell_type": "code",
   "execution_count": 99,
   "metadata": {
    "ExecuteTime": {
     "end_time": "2020-07-21T20:34:00.145294Z",
     "start_time": "2020-07-21T20:34:00.139276Z"
    }
   },
   "outputs": [],
   "source": [
    "def do_twice(func):\n",
    "    # After using the decorator, our new function will be the wrapped part\n",
    "    def wrapper_do_twice(*args, **kwargs):\n",
    "        func(*args, **kwargs)\n",
    "        return func(*args, **kwargs)\n",
    "    return wrapper_do_twice"
   ]
  },
  {
   "cell_type": "code",
   "execution_count": 100,
   "metadata": {
    "ExecuteTime": {
     "end_time": "2020-07-21T20:34:18.335713Z",
     "start_time": "2020-07-21T20:34:18.331731Z"
    }
   },
   "outputs": [],
   "source": [
    "@do_twice\n",
    "def return_greeting(name):\n",
    "    print(\"Creating greeting\")\n",
    "    return f\"Hi {name}\""
   ]
  },
  {
   "cell_type": "code",
   "execution_count": 101,
   "metadata": {
    "ExecuteTime": {
     "end_time": "2020-07-21T20:34:25.224979Z",
     "start_time": "2020-07-21T20:34:25.218000Z"
    }
   },
   "outputs": [
    {
     "name": "stdout",
     "output_type": "stream",
     "text": [
      "Creating greeting\n",
      "Creating greeting\n"
     ]
    },
    {
     "data": {
      "text/plain": [
       "'Hi Adam'"
      ]
     },
     "execution_count": 101,
     "metadata": {},
     "output_type": "execute_result"
    }
   ],
   "source": [
    "return_greeting(\"Adam\")"
   ]
  },
  {
   "cell_type": "markdown",
   "metadata": {},
   "source": [
    "After decorating, the signature of the \"final\" function is not very helpful anymore (technically accurate, but somewhat confusing):"
   ]
  },
  {
   "cell_type": "code",
   "execution_count": 102,
   "metadata": {
    "ExecuteTime": {
     "end_time": "2020-07-21T20:47:12.574147Z",
     "start_time": "2020-07-21T20:47:12.569161Z"
    }
   },
   "outputs": [
    {
     "data": {
      "text/plain": [
       "<function __main__.do_twice.<locals>.wrapper_do_twice(*args, **kwargs)>"
      ]
     },
     "execution_count": 102,
     "metadata": {},
     "output_type": "execute_result"
    }
   ],
   "source": [
    "return_greeting"
   ]
  },
  {
   "cell_type": "markdown",
   "metadata": {},
   "source": [
    "## @functools.wraps:"
   ]
  },
  {
   "cell_type": "code",
   "execution_count": 104,
   "metadata": {
    "ExecuteTime": {
     "end_time": "2020-07-21T20:52:00.832730Z",
     "start_time": "2020-07-21T20:52:00.826778Z"
    }
   },
   "outputs": [],
   "source": [
    "import functools\n",
    "\n",
    "def do_twice(func):\n",
    "    @functools.wraps(func)\n",
    "    def wrapper_do_twice(*args, **kwargs):\n",
    "        func(*args, **kwargs)\n",
    "        return func(*args, **kwargs)\n",
    "    return wrapper_do_twice"
   ]
  },
  {
   "cell_type": "code",
   "execution_count": 105,
   "metadata": {
    "ExecuteTime": {
     "end_time": "2020-07-21T20:52:23.575038Z",
     "start_time": "2020-07-21T20:52:23.572013Z"
    }
   },
   "outputs": [],
   "source": [
    "@do_twice\n",
    "def say_whee():\n",
    "    print(\"Whee!\")"
   ]
  },
  {
   "cell_type": "code",
   "execution_count": 109,
   "metadata": {
    "ExecuteTime": {
     "end_time": "2020-07-21T20:52:52.144874Z",
     "start_time": "2020-07-21T20:52:52.138890Z"
    }
   },
   "outputs": [
    {
     "name": "stdout",
     "output_type": "stream",
     "text": [
      "<function say_whee at 0x00000172E74858C8>\n",
      "say_whee\n"
     ]
    }
   ],
   "source": [
    "print(say_whee)\n",
    "print(say_whee.__name__)"
   ]
  },
  {
   "cell_type": "markdown",
   "metadata": {},
   "source": [
    "## Decorator boilerplate"
   ]
  },
  {
   "cell_type": "code",
   "execution_count": 110,
   "metadata": {
    "ExecuteTime": {
     "end_time": "2020-07-21T20:56:47.476504Z",
     "start_time": "2020-07-21T20:56:47.472517Z"
    }
   },
   "outputs": [],
   "source": [
    "import functools\n",
    "\n",
    "def decorator(func):\n",
    "    @functools.wraps(func)\n",
    "    def wrapper_decorator(*args, **kwargs):\n",
    "        # Do something before\n",
    "        value = func(*args, **kwargs)\n",
    "        # Do something after\n",
    "        return value\n",
    "    return wrapper_decorator"
   ]
  },
  {
   "cell_type": "markdown",
   "metadata": {},
   "source": [
    "Decorators don't have to wrap the functions they are decorating. In the example below, we don't need to use wraps, since the decorator returns the original function:"
   ]
  },
  {
   "cell_type": "code",
   "execution_count": 113,
   "metadata": {
    "ExecuteTime": {
     "end_time": "2020-07-21T21:05:40.217302Z",
     "start_time": "2020-07-21T21:05:40.212315Z"
    }
   },
   "outputs": [],
   "source": [
    "import random\n",
    "PLUGINS = dict()\n",
    "\n",
    "def register(func):\n",
    "    \"\"\"Register a function as a plug-in\"\"\"\n",
    "    PLUGINS[func.__name__] = func\n",
    "    return func\n",
    "\n",
    "@register\n",
    "def say_hello(name):\n",
    "    return f\"Hello {name}\"\n",
    "\n",
    "@register\n",
    "def be_awesome(name):\n",
    "    return f\"Yo {name}, together we are the awesomest!\""
   ]
  },
  {
   "cell_type": "markdown",
   "metadata": {},
   "source": [
    "## Decorators and Class Methods"
   ]
  },
  {
   "cell_type": "code",
   "execution_count": 7,
   "metadata": {
    "ExecuteTime": {
     "end_time": "2020-07-21T21:36:57.326211Z",
     "start_time": "2020-07-21T21:36:57.318199Z"
    }
   },
   "outputs": [],
   "source": [
    "class Circle:\n",
    "    def __init__(self, radius):\n",
    "        self._radius = radius\n",
    "        \n",
    "    # We have to be explicit about the setter method\n",
    "    # and we can also use the same name as the original method\n",
    "    @property\n",
    "    def radius(self):\n",
    "        \"\"\"Get value of radius\"\"\"\n",
    "        return self._radius\n",
    "\n",
    "    @radius.setter\n",
    "    def radius(self, value):\n",
    "        \"\"\"Set radius, raise error if negative\"\"\"\n",
    "        if value >= 0:\n",
    "            self._radius = value\n",
    "        else:\n",
    "            raise ValueError(\"Radius must be positive\")\n",
    "    # For this one, we won't be allowed to set are\n",
    "    @property\n",
    "    def area(self):\n",
    "        \"\"\"Calculate area inside circle\"\"\"\n",
    "        return self.pi() * self.radius**2\n",
    "\n",
    "    def cylinder_volume(self, height):\n",
    "        \"\"\"Calculate volume of cylinder with circle as base\"\"\"\n",
    "        return self.area * height\n",
    "\n",
    "    @classmethod\n",
    "    def unit_circle(cls):\n",
    "        \"\"\"Factory method creating a circle with radius 1\"\"\"\n",
    "        return cls(1)\n",
    "\n",
    "    @staticmethod\n",
    "    def pi():\n",
    "        \"\"\"Value of π, could use math.pi instead though\"\"\"\n",
    "        return 3.1415926535"
   ]
  },
  {
   "cell_type": "code",
   "execution_count": 8,
   "metadata": {
    "ExecuteTime": {
     "end_time": "2020-07-21T21:36:59.021085Z",
     "start_time": "2020-07-21T21:36:59.016126Z"
    }
   },
   "outputs": [],
   "source": [
    "circlea = Circle(10)"
   ]
  },
  {
   "cell_type": "code",
   "execution_count": 9,
   "metadata": {
    "ExecuteTime": {
     "end_time": "2020-07-21T21:37:03.393262Z",
     "start_time": "2020-07-21T21:37:03.384282Z"
    }
   },
   "outputs": [
    {
     "data": {
      "text/plain": [
       "314.15926535"
      ]
     },
     "execution_count": 9,
     "metadata": {},
     "output_type": "execute_result"
    }
   ],
   "source": [
    "circlea.area"
   ]
  },
  {
   "cell_type": "markdown",
   "metadata": {},
   "source": [
    "## @property syntax"
   ]
  },
  {
   "cell_type": "code",
   "execution_count": null,
   "metadata": {},
   "outputs": [],
   "source": [
    "class Values:\n",
    "    def __init__(self):\n",
    "        self._value1 = 0\n",
    "        self._value2 = 0\n",
    "        self._value3 = 0\n",
    "        self._value4 = 0\n",
    "        self._value5 = 0\n",
    "\n",
    "    @property\n",
    "    def value1(self):\n",
    "        return self._value1\n",
    "\n",
    "    @value1.setter\n",
    "    def value1(self, value):\n",
    "        self._value1 = value if value % 2 == 0 else 0"
   ]
  },
  {
   "cell_type": "markdown",
   "metadata": {},
   "source": [
    "## Nesting Decorators"
   ]
  },
  {
   "cell_type": "code",
   "execution_count": 11,
   "metadata": {
    "ExecuteTime": {
     "end_time": "2020-07-21T21:41:05.163322Z",
     "start_time": "2020-07-21T21:41:05.157337Z"
    }
   },
   "outputs": [],
   "source": [
    "import functools\n",
    "\n",
    "def debug(func):\n",
    "    \"\"\"Print the function signature and return value\"\"\"\n",
    "    @functools.wraps(func)\n",
    "    def wrapper_debug(*args, **kwargs):\n",
    "        args_repr = [repr(a) for a in args]                      # 1\n",
    "        kwargs_repr = [f\"{k}={v!r}\" for k, v in kwargs.items()]  # 2\n",
    "        signature = \", \".join(args_repr + kwargs_repr)           # 3\n",
    "        print(f\"Calling {func.__name__}({signature})\")\n",
    "        value = func(*args, **kwargs)\n",
    "        print(f\"{func.__name__!r} returned {value!r}\")           # 4\n",
    "        return value\n",
    "    return wrapper_debug\n",
    "\n",
    "def do_twice(func):\n",
    "    @functools.wraps(func)\n",
    "    def wrapper_do_twice(*args, **kwargs):\n",
    "        func(*args, **kwargs)\n",
    "        return func(*args, **kwargs)\n",
    "    return wrapper_do_twice"
   ]
  },
  {
   "cell_type": "markdown",
   "metadata": {},
   "source": [
    "Decorators are executed on the order they are listed. In this case, do_twice is execute on line 11 from the cell above (basically calling debug(do_twice(greet()))   )."
   ]
  },
  {
   "cell_type": "code",
   "execution_count": 12,
   "metadata": {
    "ExecuteTime": {
     "end_time": "2020-07-21T21:41:33.725535Z",
     "start_time": "2020-07-21T21:41:33.720549Z"
    }
   },
   "outputs": [],
   "source": [
    "@debug\n",
    "@do_twice\n",
    "def greet(name):\n",
    "    print(f\"Hello {name}\")"
   ]
  },
  {
   "cell_type": "code",
   "execution_count": 13,
   "metadata": {
    "ExecuteTime": {
     "end_time": "2020-07-21T21:41:38.635108Z",
     "start_time": "2020-07-21T21:41:38.631120Z"
    }
   },
   "outputs": [
    {
     "name": "stdout",
     "output_type": "stream",
     "text": [
      "Calling greet('Diego')\n",
      "Hello Diego\n",
      "Hello Diego\n",
      "'greet' returned None\n"
     ]
    }
   ],
   "source": [
    "greet(\"Diego\")"
   ]
  },
  {
   "cell_type": "markdown",
   "metadata": {},
   "source": [
    "## Decorators with Arguments"
   ]
  },
  {
   "cell_type": "code",
   "execution_count": 26,
   "metadata": {
    "ExecuteTime": {
     "end_time": "2020-07-21T21:52:08.532373Z",
     "start_time": "2020-07-21T21:52:08.526388Z"
    }
   },
   "outputs": [],
   "source": [
    "def repeat(num_times):\n",
    "    def decorator_repeat(func):\n",
    "        @functools.wraps(func)\n",
    "        def wrapper_repeat(*args, **kwargs):\n",
    "            for _ in range(num_times):\n",
    "                value = func(*args, **kwargs)\n",
    "            return value\n",
    "        return wrapper_repeat\n",
    "    return decorator_repeat"
   ]
  },
  {
   "cell_type": "code",
   "execution_count": 27,
   "metadata": {
    "ExecuteTime": {
     "end_time": "2020-07-21T21:52:13.018066Z",
     "start_time": "2020-07-21T21:52:13.014077Z"
    }
   },
   "outputs": [],
   "source": [
    "@repeat(10)\n",
    "def greet(name):\n",
    "    print(f\"Hello {name}\")"
   ]
  },
  {
   "cell_type": "code",
   "execution_count": 28,
   "metadata": {
    "ExecuteTime": {
     "end_time": "2020-07-21T21:52:21.548981Z",
     "start_time": "2020-07-21T21:52:21.544001Z"
    }
   },
   "outputs": [
    {
     "name": "stdout",
     "output_type": "stream",
     "text": [
      "Hello John\n",
      "Hello John\n",
      "Hello John\n",
      "Hello John\n",
      "Hello John\n",
      "Hello John\n",
      "Hello John\n",
      "Hello John\n",
      "Hello John\n",
      "Hello John\n"
     ]
    }
   ],
   "source": [
    "greet(\"John\")"
   ]
  },
  {
   "cell_type": "markdown",
   "metadata": {},
   "source": [
    "## Decorator Objects"
   ]
  },
  {
   "cell_type": "code",
   "execution_count": 34,
   "metadata": {
    "ExecuteTime": {
     "end_time": "2020-07-21T22:56:18.241278Z",
     "start_time": "2020-07-21T22:56:18.234264Z"
    }
   },
   "outputs": [],
   "source": [
    "RETRIES_LIMIT = 3\n",
    "\n",
    "class WithRetry:\n",
    "\n",
    "    def __init__(self, retries_limit=RETRIES_LIMIT, allowed_exceptions=None):\n",
    "        self.retries_limit = retries_limit\n",
    "        self.allowed_exceptions = allowed_exceptions or (ControlledException,)\n",
    "\n",
    "    def __call__(self, operation):\n",
    "\n",
    "        @wraps(operation)\n",
    "        def wrapped(*args, **kwargs):\n",
    "            last_raised = None\n",
    "\n",
    "            for _ in range(self.retries_limit):\n",
    "                try:\n",
    "                    return operation(*args, **kwargs)\n",
    "                except self.allowed_exceptions as e:\n",
    "                    logger.info(\"retrying %s due to %s\", operation, e)\n",
    "                    last_raised = e\n",
    "            raise last_raised\n",
    "\n",
    "        return wrapped"
   ]
  },
  {
   "cell_type": "code",
   "execution_count": 33,
   "metadata": {
    "ExecuteTime": {
     "end_time": "2020-07-21T22:55:50.704294Z",
     "start_time": "2020-07-21T22:55:50.699307Z"
    }
   },
   "outputs": [],
   "source": [
    "@WithRetry(retries_limit=5)\n",
    "def run_with_custom_retries_limit(task):\n",
    "    return task.run()"
   ]
  },
  {
   "cell_type": "markdown",
   "metadata": {},
   "source": [
    "# Descriptors"
   ]
  },
  {
   "cell_type": "markdown",
   "metadata": {},
   "source": [
    "The first way to use a descritor is by writing a class with methods from the descriptor protocol:"
   ]
  },
  {
   "cell_type": "code",
   "execution_count": 118,
   "metadata": {
    "ExecuteTime": {
     "end_time": "2020-07-26T21:05:28.446509Z",
     "start_time": "2020-07-26T21:05:28.439529Z"
    }
   },
   "outputs": [],
   "source": [
    "class ClassDescriptor:\n",
    "    \n",
    "    def __get__(self, instance, owner):\n",
    "        print(\"Accessing the attribute to get the value\")\n",
    "        return 42\n",
    "    \n",
    "    # Recommended way to implement read-only descriptors\n",
    "    def __set__(self, instance, value):\n",
    "        print(\"Accessing the attribute to set the value\")\n",
    "        raise AttributeError(\"Cannot change the value\")\n",
    "        \n",
    "class Foo:\n",
    "    descriptor = ClassDescriptor()"
   ]
  },
  {
   "cell_type": "code",
   "execution_count": 119,
   "metadata": {
    "ExecuteTime": {
     "end_time": "2020-07-26T21:05:29.013595Z",
     "start_time": "2020-07-26T21:05:29.008606Z"
    }
   },
   "outputs": [
    {
     "name": "stdout",
     "output_type": "stream",
     "text": [
      "Accessing the attribute to get the value\n",
      "<class '__main__.Foo'>\n"
     ]
    },
    {
     "data": {
      "text/plain": [
       "42"
      ]
     },
     "execution_count": 119,
     "metadata": {},
     "output_type": "execute_result"
    }
   ],
   "source": [
    "Foo().descriptor"
   ]
  },
  {
   "cell_type": "code",
   "execution_count": 5,
   "metadata": {
    "ExecuteTime": {
     "end_time": "2020-07-26T00:50:09.925171Z",
     "start_time": "2020-07-26T00:50:09.862340Z"
    }
   },
   "outputs": [
    {
     "name": "stdout",
     "output_type": "stream",
     "text": [
      "Accessing the attribute to set the value\n"
     ]
    },
    {
     "ename": "AttributeError",
     "evalue": "Cannot change the value",
     "output_type": "error",
     "traceback": [
      "\u001b[1;31m---------------------------------------------------------------------------\u001b[0m",
      "\u001b[1;31mAttributeError\u001b[0m                            Traceback (most recent call last)",
      "\u001b[1;32m<ipython-input-5-b52f50a08942>\u001b[0m in \u001b[0;36m<module>\u001b[1;34m\u001b[0m\n\u001b[1;32m----> 1\u001b[1;33m \u001b[0mFoo\u001b[0m\u001b[1;33m(\u001b[0m\u001b[1;33m)\u001b[0m\u001b[1;33m.\u001b[0m\u001b[0mdescriptor\u001b[0m \u001b[1;33m=\u001b[0m \u001b[1;36m100\u001b[0m\u001b[1;33m\u001b[0m\u001b[1;33m\u001b[0m\u001b[0m\n\u001b[0m",
      "\u001b[1;32m<ipython-input-2-22edf5cb07ac>\u001b[0m in \u001b[0;36m__set__\u001b[1;34m(self, instance, value)\u001b[0m\n\u001b[0;32m      8\u001b[0m     \u001b[1;32mdef\u001b[0m \u001b[0m__set__\u001b[0m\u001b[1;33m(\u001b[0m\u001b[0mself\u001b[0m\u001b[1;33m,\u001b[0m \u001b[0minstance\u001b[0m\u001b[1;33m,\u001b[0m \u001b[0mvalue\u001b[0m\u001b[1;33m)\u001b[0m\u001b[1;33m:\u001b[0m\u001b[1;33m\u001b[0m\u001b[1;33m\u001b[0m\u001b[0m\n\u001b[0;32m      9\u001b[0m         \u001b[0mprint\u001b[0m\u001b[1;33m(\u001b[0m\u001b[1;34m\"Accessing the attribute to set the value\"\u001b[0m\u001b[1;33m)\u001b[0m\u001b[1;33m\u001b[0m\u001b[1;33m\u001b[0m\u001b[0m\n\u001b[1;32m---> 10\u001b[1;33m         \u001b[1;32mraise\u001b[0m \u001b[0mAttributeError\u001b[0m\u001b[1;33m(\u001b[0m\u001b[1;34m\"Cannot change the value\"\u001b[0m\u001b[1;33m)\u001b[0m\u001b[1;33m\u001b[0m\u001b[1;33m\u001b[0m\u001b[0m\n\u001b[0m\u001b[0;32m     11\u001b[0m \u001b[1;33m\u001b[0m\u001b[0m\n\u001b[0;32m     12\u001b[0m \u001b[1;32mclass\u001b[0m \u001b[0mFoo\u001b[0m\u001b[1;33m:\u001b[0m\u001b[1;33m\u001b[0m\u001b[1;33m\u001b[0m\u001b[0m\n",
      "\u001b[1;31mAttributeError\u001b[0m: Cannot change the value"
     ]
    }
   ],
   "source": [
    "Foo().descriptor = 100"
   ]
  },
  {
   "cell_type": "markdown",
   "metadata": {},
   "source": [
    "An equivalent way is by using the function property:"
   ]
  },
  {
   "cell_type": "code",
   "execution_count": 17,
   "metadata": {
    "ExecuteTime": {
     "end_time": "2020-07-26T00:52:37.298058Z",
     "start_time": "2020-07-26T00:52:37.293071Z"
    }
   },
   "outputs": [],
   "source": [
    "class FooProperty:\n",
    "    \n",
    "    def getter(self) -> object:\n",
    "        print(\"accessing the attribute to get the value\")\n",
    "        return 42\n",
    "\n",
    "    def setter(self, value) -> None:\n",
    "        print(\"accessing the attribute to set the value\")\n",
    "        raise AttributeError(\"Cannot change the value\")\n",
    "    \n",
    "    # property returns a property object that implements\n",
    "    # the description protocol\n",
    "    attribute = property(getter, setter)"
   ]
  },
  {
   "cell_type": "code",
   "execution_count": 15,
   "metadata": {
    "ExecuteTime": {
     "end_time": "2020-07-26T00:52:22.436643Z",
     "start_time": "2020-07-26T00:52:22.429665Z"
    }
   },
   "outputs": [
    {
     "name": "stdout",
     "output_type": "stream",
     "text": [
      "accessing the attribute to get the value\n"
     ]
    },
    {
     "data": {
      "text/plain": [
       "42"
      ]
     },
     "execution_count": 15,
     "metadata": {},
     "output_type": "execute_result"
    }
   ],
   "source": [
    "FooProperty().attribute"
   ]
  },
  {
   "cell_type": "markdown",
   "metadata": {},
   "source": [
    "Finally, we can use decorators:"
   ]
  },
  {
   "cell_type": "code",
   "execution_count": 26,
   "metadata": {
    "ExecuteTime": {
     "end_time": "2020-07-26T00:55:02.838284Z",
     "start_time": "2020-07-26T00:55:02.831302Z"
    }
   },
   "outputs": [],
   "source": [
    "class FooDecorator:\n",
    "    \n",
    "    @property\n",
    "    def attribute(self) -> object:\n",
    "        print(\"accessing the attribute to get the value\")\n",
    "        return 42\n",
    "    \n",
    "    # If not specified, the setter will not allow setting\n",
    "    # the attribute\n",
    "    @attribute.setter\n",
    "    def attribute(self, value) -> None:\n",
    "        print(\"accessing the attribute to set the value\")\n",
    "        raise AttributeError(\"Cannot change the value\")"
   ]
  },
  {
   "cell_type": "code",
   "execution_count": 21,
   "metadata": {
    "ExecuteTime": {
     "end_time": "2020-07-26T00:53:32.395063Z",
     "start_time": "2020-07-26T00:53:32.389080Z"
    }
   },
   "outputs": [
    {
     "name": "stdout",
     "output_type": "stream",
     "text": [
      "accessing the attribute to get the value\n"
     ]
    },
    {
     "data": {
      "text/plain": [
       "42"
      ]
     },
     "execution_count": 21,
     "metadata": {},
     "output_type": "execute_result"
    }
   ],
   "source": [
    "FooDecorator().attribute"
   ]
  },
  {
   "cell_type": "markdown",
   "metadata": {},
   "source": [
    "## Python Descriptors in Methods and Functions"
   ]
  },
  {
   "cell_type": "markdown",
   "metadata": {},
   "source": [
    "All functions are non-data descriptors which return bound methods when they are invoked from an object. In pure Python:"
   ]
  },
  {
   "cell_type": "code",
   "execution_count": 75,
   "metadata": {
    "ExecuteTime": {
     "end_time": "2020-07-26T18:19:06.500030Z",
     "start_time": "2020-07-26T18:19:06.495069Z"
    }
   },
   "outputs": [],
   "source": [
    "class Function(object):\n",
    "    ...\n",
    "    def __get__(self, obj, objtype=None):\n",
    "        \"Simulate func_descr_get() in Objects/funcobject.c\"\n",
    "        if obj is None:\n",
    "            return self\n",
    "        return types.MethodType(self, obj)"
   ]
  },
  {
   "cell_type": "markdown",
   "metadata": {},
   "source": [
    "As an example, let's define a class with a function:"
   ]
  },
  {
   "cell_type": "code",
   "execution_count": 76,
   "metadata": {
    "ExecuteTime": {
     "end_time": "2020-07-26T18:19:07.769238Z",
     "start_time": "2020-07-26T18:19:07.763286Z"
    }
   },
   "outputs": [],
   "source": [
    "class D(object):\n",
    "    def f(self, x):\n",
    "        return x\n",
    "    \n",
    "d = D()"
   ]
  },
  {
   "cell_type": "code",
   "execution_count": 82,
   "metadata": {
    "ExecuteTime": {
     "end_time": "2020-07-26T18:21:20.936383Z",
     "start_time": "2020-07-26T18:21:20.931396Z"
    }
   },
   "outputs": [
    {
     "name": "stdout",
     "output_type": "stream",
     "text": [
      "<function D.f at 0x000002E554FD8048>\n"
     ]
    }
   ],
   "source": [
    "# Access through the class dictionary does not invoke __get__ and\n",
    "# it just returns the original function\n",
    "print(D.__dict__['f'])"
   ]
  },
  {
   "cell_type": "code",
   "execution_count": 89,
   "metadata": {
    "ExecuteTime": {
     "end_time": "2020-07-26T18:22:04.787736Z",
     "start_time": "2020-07-26T18:22:04.783747Z"
    }
   },
   "outputs": [
    {
     "name": "stdout",
     "output_type": "stream",
     "text": [
      "<function D.f at 0x000002E554FD8048>\n"
     ]
    }
   ],
   "source": [
    "# Dotted access from a class calls __get__, but obj is None\n",
    "# so it also returns the original function\n",
    "print(D.f)"
   ]
  },
  {
   "cell_type": "code",
   "execution_count": 88,
   "metadata": {
    "ExecuteTime": {
     "end_time": "2020-07-26T18:21:58.538189Z",
     "start_time": "2020-07-26T18:21:58.532237Z"
    }
   },
   "outputs": [
    {
     "name": "stdout",
     "output_type": "stream",
     "text": [
      "<bound method D.f of <__main__.D object at 0x000002E554FAE518>>\n"
     ]
    }
   ],
   "source": [
    "# Dotted access from an instance calls __get__, but this time it returns\n",
    "# the function wrapped in the bound method object\n",
    "print(d.f)"
   ]
  },
  {
   "cell_type": "markdown",
   "metadata": {},
   "source": [
    "The bound method has access to the function, to the instance and to the class internally:"
   ]
  },
  {
   "cell_type": "code",
   "execution_count": 87,
   "metadata": {
    "ExecuteTime": {
     "end_time": "2020-07-26T18:21:54.538611Z",
     "start_time": "2020-07-26T18:21:54.531662Z"
    }
   },
   "outputs": [
    {
     "name": "stdout",
     "output_type": "stream",
     "text": [
      "<function D.f at 0x000002E554FD8048>\n",
      "<__main__.D object at 0x000002E554FAE518>\n",
      "<class 'method'>\n"
     ]
    }
   ],
   "source": [
    "print(d.f.__func__)\n",
    "print(d.f.__self__)\n",
    "print(d.f.__class__)"
   ]
  },
  {
   "cell_type": "markdown",
   "metadata": {},
   "source": [
    "## How Attributes Are Accessed with the Lookup Chain"
   ]
  },
  {
   "cell_type": "code",
   "execution_count": 94,
   "metadata": {
    "ExecuteTime": {
     "end_time": "2020-07-26T18:38:08.186166Z",
     "start_time": "2020-07-26T18:38:08.180189Z"
    }
   },
   "outputs": [],
   "source": [
    "class Vehicle():\n",
    "    can_fly = False\n",
    "    number_of_weels = 0\n",
    "\n",
    "class Car(Vehicle):\n",
    "    number_of_weels = 4\n",
    "\n",
    "    def __init__(self, color):\n",
    "        self.color = color"
   ]
  },
  {
   "cell_type": "code",
   "execution_count": 96,
   "metadata": {
    "ExecuteTime": {
     "end_time": "2020-07-26T18:38:12.081943Z",
     "start_time": "2020-07-26T18:38:12.076073Z"
    }
   },
   "outputs": [
    {
     "name": "stdout",
     "output_type": "stream",
     "text": [
      "{'color': 'red'}\n",
      "{'__module__': '__main__', 'number_of_weels': 4, '__init__': <function Car.__init__ at 0x000002E554FD8D90>, '__doc__': None}\n"
     ]
    }
   ],
   "source": [
    "my_car = Car(\"red\")\n",
    "# Instance attributes and methods\n",
    "print(my_car.__dict__)\n",
    "# Class attributes and methods. We can also call type(my_car).__dict__\n",
    "print(Car.__dict__)"
   ]
  },
  {
   "cell_type": "code",
   "execution_count": 104,
   "metadata": {
    "ExecuteTime": {
     "end_time": "2020-07-26T18:47:04.955340Z",
     "start_time": "2020-07-26T18:47:04.949296Z"
    }
   },
   "outputs": [
    {
     "data": {
      "text/plain": [
       "__main__.Vehicle"
      ]
     },
     "execution_count": 104,
     "metadata": {},
     "output_type": "execute_result"
    }
   ],
   "source": [
    "Car.__base__"
   ]
  },
  {
   "cell_type": "markdown",
   "metadata": {},
   "source": [
    "How about accessing the objects. This use:"
   ]
  },
  {
   "cell_type": "code",
   "execution_count": 111,
   "metadata": {
    "ExecuteTime": {
     "end_time": "2020-07-26T18:48:13.881849Z",
     "start_time": "2020-07-26T18:48:13.876835Z"
    }
   },
   "outputs": [
    {
     "name": "stdout",
     "output_type": "stream",
     "text": [
      "red\n",
      "4\n",
      "False\n"
     ]
    }
   ],
   "source": [
    "print(my_car.color)\n",
    "print(my_car.number_of_weels)\n",
    "print(my_car.can_fly)"
   ]
  },
  {
   "cell_type": "markdown",
   "metadata": {},
   "source": [
    "Is equivalent to doing this:"
   ]
  },
  {
   "cell_type": "code",
   "execution_count": 112,
   "metadata": {
    "ExecuteTime": {
     "end_time": "2020-07-26T18:48:23.515152Z",
     "start_time": "2020-07-26T18:48:23.507999Z"
    }
   },
   "outputs": [
    {
     "name": "stdout",
     "output_type": "stream",
     "text": [
      "red\n",
      "4\n",
      "False\n"
     ]
    }
   ],
   "source": [
    "print(my_car.__dict__['color'])\n",
    "print(Car.__dict__['number_of_weels'])\n",
    "print(Car.__base__.__dict__['can_fly'])"
   ]
  },
  {
   "cell_type": "markdown",
   "metadata": {},
   "source": [
    "**Method Resolution Order**  \n",
    "- Results from \\_\\_get\\_\\_ from the *data descriptor* named after the attribute you are looking for\n",
    "- Value from object's \\_\\_dict\\_\\_ for the key named after the attribute\n",
    "- Results from \\_\\_get\\_\\_ from the *non-data descriptor* named after the attribute you are looking for\n",
    "- Value from object type's \\_\\_dict\\_\\_ for the key named after the attribute\n",
    "- Value from object parent type's \\_\\_dict\\_\\_ for the key named after the attribute\n",
    "- Previous step is repeated for all the parent's types following method resolution order for the object\n",
    "- AttributeError"
   ]
  },
  {
   "cell_type": "markdown",
   "metadata": {},
   "source": [
    "## How to Use Python Descriptors Properly"
   ]
  },
  {
   "cell_type": "code",
   "execution_count": null,
   "metadata": {},
   "outputs": [],
   "source": [
    "__get__(self, obj, type=None) -> object\n",
    "__set__(self, obj, value) -> None"
   ]
  },
  {
   "cell_type": "markdown",
   "metadata": {},
   "source": [
    "Keep these in mind:  \n",
    "- **self** is the instance of the descritor you're writing\n",
    "- **obj** is the instance of the object your descriptor is attached to\n",
    "- **type** is the type of the object the descriptor is attached to\n",
    "\n",
    "For \\_\\_set\\_\\_, you don't have the type variable (we can only call .\\_\\_set\\_\\_ on the object, not on the class)."
   ]
  },
  {
   "cell_type": "markdown",
   "metadata": {},
   "source": [
    "Example illustrating the variables:"
   ]
  },
  {
   "cell_type": "code",
   "execution_count": 121,
   "metadata": {
    "ExecuteTime": {
     "end_time": "2020-07-26T21:06:17.853727Z",
     "start_time": "2020-07-26T21:06:17.846748Z"
    }
   },
   "outputs": [],
   "source": [
    "class ClassDescriptor:\n",
    "    \n",
    "    def __get__(self, instance, owner):\n",
    "        print(self)\n",
    "        print(instance)\n",
    "        print(owner)\n",
    "    \n",
    "    # Recommended way to implement read-only descriptors\n",
    "    def __set__(self, instance, value):\n",
    "        print(\"Accessing the attribute to set the value\")\n",
    "        raise AttributeError(\"Cannot change the value\")\n",
    "        \n",
    "class Foo:\n",
    "    descriptor = ClassDescriptor()"
   ]
  },
  {
   "cell_type": "code",
   "execution_count": 122,
   "metadata": {
    "ExecuteTime": {
     "end_time": "2020-07-26T21:06:23.309560Z",
     "start_time": "2020-07-26T21:06:23.303581Z"
    }
   },
   "outputs": [
    {
     "name": "stdout",
     "output_type": "stream",
     "text": [
      "<__main__.ClassDescriptor object at 0x000002E554FAB9E8>\n",
      "<__main__.Foo object at 0x000002E554FAB278>\n",
      "<class '__main__.Foo'>\n"
     ]
    }
   ],
   "source": [
    "Foo().descriptor"
   ]
  },
  {
   "cell_type": "markdown",
   "metadata": {},
   "source": [
    "Do not store values on the descriptor (these would be shared among different objects as a class attribute). Instead, this is the correct implementation:"
   ]
  },
  {
   "cell_type": "code",
   "execution_count": 203,
   "metadata": {
    "ExecuteTime": {
     "end_time": "2020-07-26T23:40:17.845286Z",
     "start_time": "2020-07-26T23:40:17.834316Z"
    }
   },
   "outputs": [
    {
     "name": "stdout",
     "output_type": "stream",
     "text": [
      "3\n",
      "0\n",
      "0\n"
     ]
    }
   ],
   "source": [
    "class OneDigitNumericValue():\n",
    "    # So you don't need to name every instances of the descriptor manually\n",
    "    def __set_name__(self, owner, name):\n",
    "        self.name = name\n",
    "\n",
    "    def __get__(self, obj, type=None) -> object:\n",
    "        return obj.__dict__.get(self.name) or 0\n",
    "\n",
    "    def __set__(self, obj, value) -> None:\n",
    "        obj.__dict__[self.name] = value\n",
    "        \n",
    "\n",
    "class Foo():\n",
    "    number = OneDigitNumericValue()\n",
    "\n",
    "my_foo_object = Foo()\n",
    "my_second_foo_object = Foo()\n",
    "\n",
    "my_foo_object.number = 3\n",
    "print(my_foo_object.number)\n",
    "print(my_second_foo_object.number)\n",
    "\n",
    "my_third_foo_object = Foo()\n",
    "print(my_third_foo_object.number)"
   ]
  },
  {
   "cell_type": "markdown",
   "metadata": {},
   "source": [
    "## Why Use Python Descriptors"
   ]
  },
  {
   "cell_type": "markdown",
   "metadata": {},
   "source": [
    "**D.R.Y. Code**  \n",
    "Instead of doing this:"
   ]
  },
  {
   "cell_type": "code",
   "execution_count": 204,
   "metadata": {
    "ExecuteTime": {
     "end_time": "2020-07-26T23:44:52.375914Z",
     "start_time": "2020-07-26T23:44:52.368966Z"
    }
   },
   "outputs": [],
   "source": [
    "class Values:\n",
    "    def __init__(self):\n",
    "        self._value1 = 0\n",
    "        self._value2 = 0\n",
    "        self._value3 = 0\n",
    "        self._value4 = 0\n",
    "        self._value5 = 0\n",
    "\n",
    "    @property\n",
    "    def value1(self):\n",
    "        return self._value1\n",
    "\n",
    "    @value1.setter\n",
    "    def value1(self, value):\n",
    "        self._value1 = value if value % 2 == 0 else 0\n",
    "\n",
    "    @property\n",
    "    def value2(self):\n",
    "        return self._value2\n",
    "\n",
    "    @value2.setter\n",
    "    def value2(self, value):\n",
    "        self._value2 = value if value % 2 == 0 else 0"
   ]
  },
  {
   "cell_type": "markdown",
   "metadata": {},
   "source": [
    "Do this:"
   ]
  },
  {
   "cell_type": "code",
   "execution_count": 205,
   "metadata": {
    "ExecuteTime": {
     "end_time": "2020-07-26T23:46:01.228551Z",
     "start_time": "2020-07-26T23:46:01.223565Z"
    }
   },
   "outputs": [],
   "source": [
    "class EvenNumber:\n",
    "    \n",
    "    def __set_name__(self, owner, name):\n",
    "        self.name = name\n",
    "\n",
    "    def __get__(self, obj, type=None) -> object:\n",
    "        return obj.__dict__.get(self.name) or 0\n",
    "\n",
    "    def __set__(self, obj, value) -> None:\n",
    "        obj.__dict__[self.name] = (value if value % 2 == 0 else 0)"
   ]
  },
  {
   "cell_type": "code",
   "execution_count": 206,
   "metadata": {
    "ExecuteTime": {
     "end_time": "2020-07-26T23:46:27.741800Z",
     "start_time": "2020-07-26T23:46:27.737795Z"
    }
   },
   "outputs": [],
   "source": [
    "class Values:\n",
    "    value1 =EvenNumber()\n",
    "    value2 =EvenNumber()"
   ]
  },
  {
   "cell_type": "markdown",
   "metadata": {},
   "source": [
    "# Abstract Base Classes"
   ]
  },
  {
   "cell_type": "markdown",
   "metadata": {},
   "source": [
    "These exist to be inherited, but never instantiated. Python provides the abc module to define abstract base classes. \n",
    "- ABC tells that you cannot instantiate from that class\n",
    "- @abstractmethod tells that you must override .calcuate_payroll() when inheriting from Employee"
   ]
  },
  {
   "cell_type": "code",
   "execution_count": 207,
   "metadata": {
    "ExecuteTime": {
     "end_time": "2020-07-26T23:55:53.987827Z",
     "start_time": "2020-07-26T23:55:53.982876Z"
    }
   },
   "outputs": [],
   "source": [
    "from abc import ABC, abstractmethod\n",
    "\n",
    "class Employee(ABC):\n",
    "    def __init__(self, id, name):\n",
    "        self.id = id\n",
    "        self.name = name\n",
    "\n",
    "    @abstractmethod\n",
    "    def calculate_payroll(self):\n",
    "        pass"
   ]
  },
  {
   "cell_type": "code",
   "execution_count": 215,
   "metadata": {
    "ExecuteTime": {
     "end_time": "2020-07-26T23:58:27.751196Z",
     "start_time": "2020-07-26T23:58:27.746211Z"
    }
   },
   "outputs": [],
   "source": [
    "class EmployeeSpecific(Employee):\n",
    "    def __init__(self, id, name):\n",
    "        self.id = id\n",
    "        self.name = name\n",
    "        \n",
    "    def calculate_payroll(self):\n",
    "        print(\"Overriding the original method\")"
   ]
  },
  {
   "cell_type": "code",
   "execution_count": 216,
   "metadata": {
    "ExecuteTime": {
     "end_time": "2020-07-26T23:58:28.735904Z",
     "start_time": "2020-07-26T23:58:28.729925Z"
    }
   },
   "outputs": [
    {
     "data": {
      "text/plain": [
       "<__main__.EmployeeSpecific at 0x2e554ec42b0>"
      ]
     },
     "execution_count": 216,
     "metadata": {},
     "output_type": "execute_result"
    }
   ],
   "source": [
    "EmployeeSpecific(10, 'John')"
   ]
  }
 ],
 "metadata": {
  "kernelspec": {
   "display_name": "Python [conda env:playground]",
   "language": "python",
   "name": "conda-env-playground-py"
  },
  "language_info": {
   "codemirror_mode": {
    "name": "ipython",
    "version": 3
   },
   "file_extension": ".py",
   "mimetype": "text/x-python",
   "name": "python",
   "nbconvert_exporter": "python",
   "pygments_lexer": "ipython3",
   "version": "3.7.3"
  },
  "toc": {
   "base_numbering": 1,
   "nav_menu": {},
   "number_sections": true,
   "sideBar": true,
   "skip_h1_title": false,
   "title_cell": "Table of Contents",
   "title_sidebar": "Contents",
   "toc_cell": false,
   "toc_position": {
    "height": "calc(100% - 180px)",
    "left": "10px",
    "top": "150px",
    "width": "280.594px"
   },
   "toc_section_display": true,
   "toc_window_display": false
  },
  "varInspector": {
   "cols": {
    "lenName": 16,
    "lenType": 16,
    "lenVar": 40
   },
   "kernels_config": {
    "python": {
     "delete_cmd_postfix": "",
     "delete_cmd_prefix": "del ",
     "library": "var_list.py",
     "varRefreshCmd": "print(var_dic_list())"
    },
    "r": {
     "delete_cmd_postfix": ") ",
     "delete_cmd_prefix": "rm(",
     "library": "var_list.r",
     "varRefreshCmd": "cat(var_dic_list()) "
    }
   },
   "types_to_exclude": [
    "module",
    "function",
    "builtin_function_or_method",
    "instance",
    "_Feature"
   ],
   "window_display": false
  }
 },
 "nbformat": 4,
 "nbformat_minor": 2
}
