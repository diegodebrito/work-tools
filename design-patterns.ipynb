{
 "cells": [
  {
   "cell_type": "markdown",
   "metadata": {},
   "source": [
    "Aggregation and Composition: in bot cases, one object has a reference to another and delegates some work to it. Using inheritance, the object itself is able to the that work, inheriting behavior from its superclass."
   ]
  },
  {
   "cell_type": "markdown",
   "metadata": {},
   "source": [
    "# Global Object Pattern"
   ]
  },
  {
   "cell_type": "markdown",
   "metadata": {},
   "source": [
    "- Basically instantiating objects at import time and assigning names in the global scope. \n",
    "- Avoid import-time I/O. This can cause errors during the import time. Put these operations when they are actually required from the package by the client."
   ]
  },
  {
   "cell_type": "markdown",
   "metadata": {},
   "source": [
    "# Prebound Method Pattern"
   ]
  },
  {
   "cell_type": "markdown",
   "metadata": {},
   "source": [
    "**Advantage**: users can use the methods as stand-alone functions, but they secretly share a state.\n",
    "\n",
    "**Be careful** about the type of object you are instantiating (classes with \"heavy\" constructors, like using databases, creating files, etc). Maybe be more explicit about some of the object construction steps (using an extra setup() method could be a good idea).  \n",
    "\n",
    "**Tip** evene when you have a large number of methods, assign them explicitly (avoid using a for loop for this)."
   ]
  },
  {
   "cell_type": "code",
   "execution_count": null,
   "metadata": {},
   "outputs": [],
   "source": [
    "from datetime import datetime\n",
    "\n",
    "class Random8(object):\n",
    "    def __init__(self):\n",
    "        self.set_seed(datetime.now().microsecond % 255 + 1)\n",
    "\n",
    "    def set_seed(self, value):\n",
    "        self.seed = value\n",
    "\n",
    "    def random(self):\n",
    "        self.seed, carry = divmod(self.seed, 2)\n",
    "        if carry:\n",
    "            self.seed ^= 0xb8\n",
    "        return self.seed\n",
    "\n",
    "# Instantiate your class at the top level of your module\n",
    "# Private name (with _) to the instance\n",
    "_instance = Random8()\n",
    "\n",
    "# Assign a copy to each of the object's methods (global namespace)\n",
    "random = _instance.random\n",
    "set_seed = _instance.set_seed"
   ]
  },
  {
   "cell_type": "markdown",
   "metadata": {},
   "source": [
    "# Sentinel Object Pattern"
   ]
  },
  {
   "cell_type": "markdown",
   "metadata": {
    "ExecuteTime": {
     "end_time": "2020-07-22T17:16:41.502235Z",
     "start_time": "2020-07-22T17:16:41.491266Z"
    }
   },
   "source": [
    "- Sometimes it is necessary to differentiate between an argument that has not been provided, and an argument with the value None.\n",
    "- A **sentinel** is an object that has no particular meaning except to signal the end or a special condition.\n",
    "- Philosophy: the object's identity, not its value, is to be used by the surrounding code."
   ]
  },
  {
   "cell_type": "markdown",
   "metadata": {},
   "source": [
    "Example using object (base class in Python 3) as a sentinel: "
   ]
  },
  {
   "cell_type": "code",
   "execution_count": 3,
   "metadata": {
    "ExecuteTime": {
     "end_time": "2020-07-22T17:36:02.146893Z",
     "start_time": "2020-07-22T17:36:02.142870Z"
    }
   },
   "outputs": [],
   "source": [
    "sentinel = object()"
   ]
  },
  {
   "cell_type": "code",
   "execution_count": 4,
   "metadata": {
    "ExecuteTime": {
     "end_time": "2020-07-22T17:36:46.955729Z",
     "start_time": "2020-07-22T17:36:46.950712Z"
    }
   },
   "outputs": [],
   "source": [
    "class Field:\n",
    "    def __init__(self, default=sentinel):\n",
    "        self.value = default\n",
    "        \n",
    "    def get(self):\n",
    "        if self.value is sentinel:\n",
    "            raise ValueError(\"this field has no value!\")"
   ]
  },
  {
   "cell_type": "code",
   "execution_count": 6,
   "metadata": {
    "ExecuteTime": {
     "end_time": "2020-07-22T17:37:03.798230Z",
     "start_time": "2020-07-22T17:37:03.723791Z"
    }
   },
   "outputs": [
    {
     "ename": "ValueError",
     "evalue": "this field has no value!",
     "output_type": "error",
     "traceback": [
      "\u001b[1;31m---------------------------------------------------------------------------\u001b[0m",
      "\u001b[1;31mValueError\u001b[0m                                Traceback (most recent call last)",
      "\u001b[1;32m<ipython-input-6-d46ea91f2cff>\u001b[0m in \u001b[0;36m<module>\u001b[1;34m\u001b[0m\n\u001b[0;32m      1\u001b[0m \u001b[0meula_accepted\u001b[0m \u001b[1;33m=\u001b[0m \u001b[0mField\u001b[0m\u001b[1;33m(\u001b[0m\u001b[1;33m)\u001b[0m\u001b[1;33m\u001b[0m\u001b[1;33m\u001b[0m\u001b[0m\n\u001b[1;32m----> 2\u001b[1;33m \u001b[0meula_accepted\u001b[0m\u001b[1;33m.\u001b[0m\u001b[0mget\u001b[0m\u001b[1;33m(\u001b[0m\u001b[1;33m)\u001b[0m\u001b[1;33m\u001b[0m\u001b[1;33m\u001b[0m\u001b[0m\n\u001b[0m",
      "\u001b[1;32m<ipython-input-4-b2ed71bb1641>\u001b[0m in \u001b[0;36mget\u001b[1;34m(self)\u001b[0m\n\u001b[0;32m      5\u001b[0m     \u001b[1;32mdef\u001b[0m \u001b[0mget\u001b[0m\u001b[1;33m(\u001b[0m\u001b[0mself\u001b[0m\u001b[1;33m)\u001b[0m\u001b[1;33m:\u001b[0m\u001b[1;33m\u001b[0m\u001b[1;33m\u001b[0m\u001b[0m\n\u001b[0;32m      6\u001b[0m         \u001b[1;32mif\u001b[0m \u001b[0mself\u001b[0m\u001b[1;33m.\u001b[0m\u001b[0mvalue\u001b[0m \u001b[1;32mis\u001b[0m \u001b[0msentinel\u001b[0m\u001b[1;33m:\u001b[0m\u001b[1;33m\u001b[0m\u001b[1;33m\u001b[0m\u001b[0m\n\u001b[1;32m----> 7\u001b[1;33m             \u001b[1;32mraise\u001b[0m \u001b[0mValueError\u001b[0m\u001b[1;33m(\u001b[0m\u001b[1;34m\"this field has no value!\"\u001b[0m\u001b[1;33m)\u001b[0m\u001b[1;33m\u001b[0m\u001b[1;33m\u001b[0m\u001b[0m\n\u001b[0m",
      "\u001b[1;31mValueError\u001b[0m: this field has no value!"
     ]
    }
   ],
   "source": [
    "eula_accepted = Field()\n",
    "eula_accepted.get()"
   ]
  },
  {
   "cell_type": "code",
   "execution_count": 7,
   "metadata": {
    "ExecuteTime": {
     "end_time": "2020-07-22T17:37:13.951505Z",
     "start_time": "2020-07-22T17:37:13.948512Z"
    }
   },
   "outputs": [],
   "source": [
    "eula_accepted = Field(default=None)\n",
    "eula_accepted.get()"
   ]
  },
  {
   "cell_type": "markdown",
   "metadata": {},
   "source": [
    "The sentinel defined above does not a very good representation:"
   ]
  },
  {
   "cell_type": "code",
   "execution_count": 8,
   "metadata": {
    "ExecuteTime": {
     "end_time": "2020-07-22T17:39:05.583399Z",
     "start_time": "2020-07-22T17:39:05.575236Z"
    }
   },
   "outputs": [
    {
     "data": {
      "text/plain": [
       "'<object object at 0x000002663A271190>'"
      ]
     },
     "execution_count": 8,
     "metadata": {},
     "output_type": "execute_result"
    }
   ],
   "source": [
    "repr(sentinel)"
   ]
  },
  {
   "cell_type": "markdown",
   "metadata": {},
   "source": [
    "An alternative is defining a simple class for that:"
   ]
  },
  {
   "cell_type": "code",
   "execution_count": 9,
   "metadata": {
    "ExecuteTime": {
     "end_time": "2020-07-22T17:39:44.548268Z",
     "start_time": "2020-07-22T17:39:44.543312Z"
    }
   },
   "outputs": [],
   "source": [
    "class NotSet:\n",
    "    def __repr__(self):\n",
    "        return 'NotSet'"
   ]
  },
  {
   "cell_type": "code",
   "execution_count": 10,
   "metadata": {
    "ExecuteTime": {
     "end_time": "2020-07-22T17:43:30.049967Z",
     "start_time": "2020-07-22T17:43:30.045945Z"
    }
   },
   "outputs": [
    {
     "data": {
      "text/plain": [
       "'NotSet'"
      ]
     },
     "execution_count": 10,
     "metadata": {},
     "output_type": "execute_result"
    }
   ],
   "source": [
    "sentinel = NotSet()\n",
    "repr(sentinel)"
   ]
  },
  {
   "cell_type": "markdown",
   "metadata": {},
   "source": [
    "# Adapter Pattern"
   ]
  },
  {
   "cell_type": "markdown",
   "metadata": {},
   "source": [
    "- **Adapter**: object that converts the interface of one object so that another object can understand it. \n",
    "- This pattern lets you create a middle-layer class thar serves as a translator between your code and a legacy class, 3rd-party class or any other class with a weird interface.\n",
    "- **Single Responsability Principle**: you can separate interface/data conversion from the primary business logic.\n",
    "- **Open/Closed Principle**: you can introduce new types of adaptors without breaking the existing client code.\n",
    "- **Attention**: depending on the complexity added, sometimes it is simpler to modify the service class."
   ]
  },
  {
   "cell_type": "code",
   "execution_count": 111,
   "metadata": {
    "ExecuteTime": {
     "end_time": "2020-07-22T20:37:27.150036Z",
     "start_time": "2020-07-22T20:37:27.140127Z"
    }
   },
   "outputs": [],
   "source": [
    "class Target:\n",
    "    \"\"\"\n",
    "    This is the original interface. It returns the column sum of\n",
    "    an exponentiated DataFrame. \n",
    "    \"\"\"\n",
    "    def __init__(self, power=1):\n",
    "        self.power = power\n",
    "    \n",
    "    def pd_sum_power(self, df) -> pd.DataFrame:\n",
    "        return (df**self.power).sum()\n",
    "    \n",
    "class Service:\n",
    "    \"\"\"\n",
    "    This defines the new interface that the client wants to use.\n",
    "    In this case, it gives the column sum for a numpy array.\n",
    "    The problem here is that we want a DataFrame instead of a \n",
    "    numpy array as result.\n",
    "    \"\"\"\n",
    "    def __init__(self, power=1):\n",
    "        self.power = power\n",
    "    \n",
    "    def np_sum_power(self, np_array) -> pd.DataFrame:\n",
    "        return np.sum((np_array**self.power), axis=0)\n",
    "        \n",
    "class Adapter:\n",
    "    \"\"\"\n",
    "    This class serves as an adaptor between target and service.\n",
    "    Most of the work must be performed by the service instance.\n",
    "    It should focus on interface/data conversion.\n",
    "    \"\"\"\n",
    "    def __init__(self, service):\n",
    "        self.service = service\n",
    "        \n",
    "    def pd_sum_power(self, np_array):\n",
    "        np_sum = self.service.np_sum_power(np_array)\n",
    "        return pd.DataFrame(np_sum, index=(\"colA\", \"colB\")).iloc[:, 0]\n",
    "        \n",
    "def client_code(target, data):\n",
    "    return target.pd_sum_power(data)"
   ]
  },
  {
   "cell_type": "code",
   "execution_count": 112,
   "metadata": {
    "ExecuteTime": {
     "end_time": "2020-07-22T20:37:27.737904Z",
     "start_time": "2020-07-22T20:37:27.731121Z"
    }
   },
   "outputs": [],
   "source": [
    "import pandas as pd\n",
    "import numpy as np\n",
    "\n",
    "df = pd.DataFrame(dict(colA=[1,2,3,4], colB=[1,2,3,4]))\n",
    "np_array = np.array([[1,2,3,4], [1,2,3,4]]).T"
   ]
  },
  {
   "cell_type": "markdown",
   "metadata": {},
   "source": [
    "Using DataFrames (like the original interface was intended to be used):"
   ]
  },
  {
   "cell_type": "code",
   "execution_count": 117,
   "metadata": {
    "ExecuteTime": {
     "end_time": "2020-07-22T20:37:33.719434Z",
     "start_time": "2020-07-22T20:37:33.715462Z"
    }
   },
   "outputs": [],
   "source": [
    "target = Target(power=4)"
   ]
  },
  {
   "cell_type": "code",
   "execution_count": 118,
   "metadata": {
    "ExecuteTime": {
     "end_time": "2020-07-22T20:37:33.737124Z",
     "start_time": "2020-07-22T20:37:33.722424Z"
    }
   },
   "outputs": [
    {
     "data": {
      "text/plain": [
       "colA    354\n",
       "colB    354\n",
       "dtype: int64"
      ]
     },
     "execution_count": 118,
     "metadata": {},
     "output_type": "execute_result"
    }
   ],
   "source": [
    "client_code(target, df)"
   ]
  },
  {
   "cell_type": "markdown",
   "metadata": {},
   "source": [
    "Using a Numpy array and the adapter, we get the same result:"
   ]
  },
  {
   "cell_type": "code",
   "execution_count": 119,
   "metadata": {
    "ExecuteTime": {
     "end_time": "2020-07-22T20:37:33.744106Z",
     "start_time": "2020-07-22T20:37:33.739119Z"
    }
   },
   "outputs": [],
   "source": [
    "adapter = Adapter(Service(power=4))"
   ]
  },
  {
   "cell_type": "code",
   "execution_count": 120,
   "metadata": {
    "ExecuteTime": {
     "end_time": "2020-07-22T20:37:33.752826Z",
     "start_time": "2020-07-22T20:37:33.745839Z"
    }
   },
   "outputs": [
    {
     "data": {
      "text/plain": [
       "colA    354\n",
       "colB    354\n",
       "Name: 0, dtype: int32"
      ]
     },
     "execution_count": 120,
     "metadata": {},
     "output_type": "execute_result"
    }
   ],
   "source": [
    "client_code(adapter, np_array)"
   ]
  },
  {
   "cell_type": "markdown",
   "metadata": {},
   "source": [
    "# Bridge Pattern"
   ]
  },
  {
   "cell_type": "markdown",
   "metadata": {},
   "source": [
    "- Two layers of abstractions between classes and one classes that will be dependent upon the other (example of tv and remote controls).\n",
    "- Progressively adding functionality while separating out major differences using abstract classes.\n",
    "- The **Bridge** patterns connects the abstractions. After this, each separate hierarchy can be developed separetely."
   ]
  },
  {
   "cell_type": "code",
   "execution_count": 133,
   "metadata": {
    "ExecuteTime": {
     "end_time": "2020-07-22T23:01:40.432406Z",
     "start_time": "2020-07-22T23:01:40.422092Z"
    }
   },
   "outputs": [],
   "source": [
    "class Control:\n",
    "    \n",
    "    def __init__(self, device):\n",
    "        self.device = device\n",
    "    \n",
    "    def on_off(self):\n",
    "        self.device.on_off()\n",
    "    \n",
    "class ControlVolume(Control):\n",
    "    \n",
    "    def adjust_volume(self, delta):\n",
    "        self.device.adjust_volume(delta)\n",
    "    \n",
    "    \n",
    "class Device:\n",
    "    \n",
    "    def __init__(self):\n",
    "        self.on_off = 0\n",
    "    \n",
    "    def on_off(self):\n",
    "        if self.on_off == 0:\n",
    "            self.on_off = 1\n",
    "        else:\n",
    "            self.on_off = 0\n",
    "            \n",
    "class Radio(Device):\n",
    "    \n",
    "    def __init__(self):\n",
    "        super().__init__()\n",
    "        self.volume = 15\n",
    "        \n",
    "    def adjust_volume(self, delta):\n",
    "        self.volume += delta\n",
    "        \n",
    "        "
   ]
  },
  {
   "cell_type": "code",
   "execution_count": 138,
   "metadata": {
    "ExecuteTime": {
     "end_time": "2020-07-22T23:02:17.399007Z",
     "start_time": "2020-07-22T23:02:17.395018Z"
    }
   },
   "outputs": [],
   "source": [
    "device = Radio()\n",
    "control = ControlVolume(device)"
   ]
  },
  {
   "cell_type": "code",
   "execution_count": 139,
   "metadata": {
    "ExecuteTime": {
     "end_time": "2020-07-22T23:02:17.860924Z",
     "start_time": "2020-07-22T23:02:17.854939Z"
    }
   },
   "outputs": [
    {
     "data": {
      "text/plain": [
       "15"
      ]
     },
     "execution_count": 139,
     "metadata": {},
     "output_type": "execute_result"
    }
   ],
   "source": [
    "device.volume"
   ]
  },
  {
   "cell_type": "code",
   "execution_count": 140,
   "metadata": {
    "ExecuteTime": {
     "end_time": "2020-07-22T23:02:18.400202Z",
     "start_time": "2020-07-22T23:02:18.396214Z"
    }
   },
   "outputs": [],
   "source": [
    "control.adjust_volume(30)"
   ]
  },
  {
   "cell_type": "code",
   "execution_count": 141,
   "metadata": {
    "ExecuteTime": {
     "end_time": "2020-07-22T23:02:18.930705Z",
     "start_time": "2020-07-22T23:02:18.925718Z"
    }
   },
   "outputs": [
    {
     "data": {
      "text/plain": [
       "45"
      ]
     },
     "execution_count": 141,
     "metadata": {},
     "output_type": "execute_result"
    }
   ],
   "source": [
    "device.volume"
   ]
  },
  {
   "cell_type": "markdown",
   "metadata": {},
   "source": [
    "# Decorator Pattern"
   ]
  },
  {
   "cell_type": "markdown",
   "metadata": {},
   "source": [
    "- This patterns lets you attach new behaviors to objects by placing these objects inside special wrapper objects that contain the behaviors.\n",
    "- **Wrapper**: object that can be linked with some target object.\n",
    "- The wrapper contains the same set of methods as the target and delegates to it all requests it receives. It does some extra work before or after it passes the request to the target."
   ]
  },
  {
   "cell_type": "code",
   "execution_count": 13,
   "metadata": {
    "ExecuteTime": {
     "end_time": "2020-07-23T18:57:38.561938Z",
     "start_time": "2020-07-23T18:57:38.556046Z"
    }
   },
   "outputs": [],
   "source": [
    "class Component():\n",
    "    \"\"\"\n",
    "    The base Component interface defines operations that can be altered by\n",
    "    decorators.\n",
    "    \"\"\"\n",
    "\n",
    "    def operation(self, message) -> str:\n",
    "        print(message)\n",
    "    \n",
    "class Decorator:\n",
    "    \n",
    "    def __init__(self, component):\n",
    "        self._component = component\n",
    "    \n",
    "    # Uses the original component for the operation\n",
    "    def operation(self, message):\n",
    "        new_message = message.upper()\n",
    "        self._component.operation(new_message)        "
   ]
  },
  {
   "cell_type": "code",
   "execution_count": 8,
   "metadata": {
    "ExecuteTime": {
     "end_time": "2020-07-23T18:56:18.494948Z",
     "start_time": "2020-07-23T18:56:18.490939Z"
    }
   },
   "outputs": [
    {
     "name": "stdout",
     "output_type": "stream",
     "text": [
      "Test Message\n"
     ]
    }
   ],
   "source": [
    "printer = Component()\n",
    "printer.operation(\"Test Message\")"
   ]
  },
  {
   "cell_type": "code",
   "execution_count": 11,
   "metadata": {
    "ExecuteTime": {
     "end_time": "2020-07-23T18:56:48.689345Z",
     "start_time": "2020-07-23T18:56:48.683356Z"
    }
   },
   "outputs": [
    {
     "name": "stdout",
     "output_type": "stream",
     "text": [
      "TEXT MESSAGE\n"
     ]
    }
   ],
   "source": [
    "decorated_printer = Decorator(Component())\n",
    "decorated_printer.operation(\"Text Message\")"
   ]
  },
  {
   "cell_type": "markdown",
   "metadata": {},
   "source": [
    "Limitation: if we use a second decorator, it will not have access to the message before it is filtered by the first decorator. While we can stack decorators, we do not have access to all stages of the input."
   ]
  },
  {
   "cell_type": "markdown",
   "metadata": {},
   "source": [
    "# Abstract Factory Pattern"
   ]
  },
  {
   "cell_type": "markdown",
   "metadata": {},
   "source": [
    "- In traditional OOP, \"factory\" is the name of a class that offers a method that builds an object. This is mostly useful when we are not allowed to pass callables as arguments, so we pass an object with an useful method instead. Since functions are first-class objects in Python, this pattern is not used a lot."
   ]
  },
  {
   "cell_type": "code",
   "execution_count": 5,
   "metadata": {
    "ExecuteTime": {
     "end_time": "2020-07-24T21:06:03.659239Z",
     "start_time": "2020-07-24T21:06:03.656250Z"
    }
   },
   "outputs": [],
   "source": [
    "from abc import ABCMeta, abstractmethod\n",
    "\n",
    "class AbstractFactory(metaclass=ABCMeta):\n",
    "\n",
    "    @abstractmethod\n",
    "    def build_sequence(self):\n",
    "        pass\n",
    "\n",
    "    @abstractmethod\n",
    "    def build_number(self, string):\n",
    "        pass"
   ]
  },
  {
   "cell_type": "code",
   "execution_count": 6,
   "metadata": {
    "ExecuteTime": {
     "end_time": "2020-07-24T21:06:14.468514Z",
     "start_time": "2020-07-24T21:06:14.464558Z"
    }
   },
   "outputs": [],
   "source": [
    "class Factory(AbstractFactory):\n",
    "    def build_sequence(self):\n",
    "        return []\n",
    "\n",
    "    def build_number(self, string):\n",
    "        return Decimal(string)"
   ]
  },
  {
   "cell_type": "code",
   "execution_count": 7,
   "metadata": {
    "ExecuteTime": {
     "end_time": "2020-07-24T21:06:23.998774Z",
     "start_time": "2020-07-24T21:06:23.992789Z"
    }
   },
   "outputs": [
    {
     "name": "stdout",
     "output_type": "stream",
     "text": [
      "[Decimal('1.23'), Decimal('4.56')]\n"
     ]
    }
   ],
   "source": [
    "class Loader(object):\n",
    "    def load(string, factory):\n",
    "        sequence = factory.build_sequence()\n",
    "        for substring in string.split(','):\n",
    "            item = factory.build_number(substring)\n",
    "            sequence.append(item)\n",
    "        return sequence\n",
    "\n",
    "f = Factory()\n",
    "result = Loader.load('1.23, 4.56', f)\n",
    "print(result)"
   ]
  },
  {
   "cell_type": "markdown",
   "metadata": {},
   "source": [
    "# Builder Pattern"
   ]
  },
  {
   "cell_type": "code",
   "execution_count": 37,
   "metadata": {
    "ExecuteTime": {
     "end_time": "2020-07-26T23:59:36.373149Z",
     "start_time": "2020-07-26T23:59:36.369124Z"
    }
   },
   "outputs": [],
   "source": [
    "from abc import ABC, abstractmethod, abstractproperty\n",
    "\n",
    "# Just a template of methods a Builder must have\n",
    "class Builder(ABC):\n",
    "    \n",
    "    @abstractproperty\n",
    "    def product(self):\n",
    "        pass\n",
    "    \n",
    "    @abstractmethod\n",
    "    def produce_part_a(self):\n",
    "        pass\n",
    "    \n",
    "    @abstractmethod\n",
    "    def produce_part_b(self):\n",
    "        pass"
   ]
  },
  {
   "cell_type": "code",
   "execution_count": 48,
   "metadata": {
    "ExecuteTime": {
     "end_time": "2020-07-27T00:02:52.162317Z",
     "start_time": "2020-07-27T00:02:52.155337Z"
    }
   },
   "outputs": [],
   "source": [
    "# Provides concrete implementation of building steps. \n",
    "# This Builder is associated with Product1\n",
    "class ConcreteBuilder1(Builder):\n",
    "    \n",
    "    # A builder instance has an empty product by default\n",
    "    def __init__(self):\n",
    "        self.reset()\n",
    "    \n",
    "    # Get an empty product. We add features to this product.\n",
    "    def reset(self):\n",
    "        self._product = Product1()\n",
    "        \n",
    "    # Builder core methods: these add parts to the associated\n",
    "    # product. We add characteristics to the Product1 instance\n",
    "    # in this case.\n",
    "    def produce_part_a(self):\n",
    "        self._product.add(\"PartA1\")\n",
    "        \n",
    "    def produce_part_b(self):\n",
    "        self._product.add(\"PartB1\")\n",
    "        \n",
    "    # It is common practice that returns the product built so far\n",
    "    # and resets the builder with a blank new product. This is an\n",
    "    # optional part of the architecture\n",
    "    @property\n",
    "    def product(self):\n",
    "        product = self._product\n",
    "        self.reset()\n",
    "        "
   ]
  },
  {
   "cell_type": "code",
   "execution_count": 30,
   "metadata": {
    "ExecuteTime": {
     "end_time": "2020-07-25T22:05:55.535241Z",
     "start_time": "2020-07-25T22:05:55.530253Z"
    }
   },
   "outputs": [],
   "source": [
    "# Empty product. We add features to an instantiated object of this\n",
    "# class using a builder\n",
    "class Product1():\n",
    "    \n",
    "    def __init__(self):\n",
    "        self.parts = []\n",
    "        \n",
    "    def add(self, part):\n",
    "        self.parts.append(part)\n",
    "        \n",
    "    def list_pats(self):\n",
    "        print(f\"Product parts: {', '.join(self.parts)}\", end=\"\")"
   ]
  },
  {
   "cell_type": "code",
   "execution_count": null,
   "metadata": {},
   "outputs": [],
   "source": [
    "# This class is responsible for executing the building steps\n",
    "# in a particular sequence. It is optional - the clinet can\n",
    "# control the building steps directly\n",
    "class Director:\n",
    "    \n",
    "    def __init__(self):\n",
    "        self._builder = None\n",
    "    \n",
    "    # The right way to allow the user to choose the builder\n",
    "    # for a director intance\n",
    "    @property\n",
    "    def builder(self):\n",
    "        return self._builder\n",
    "    \n",
    "    \n",
    "    # Types of builts the director is able to produce\n",
    "    def build_minimal_viable_product(self):\n",
    "        self.builder"
   ]
  },
  {
   "cell_type": "markdown",
   "metadata": {},
   "source": [
    "# Factory Method Pattern"
   ]
  },
  {
   "cell_type": "markdown",
   "metadata": {},
   "source": [
    "**A factory is an object for creating other objects**"
   ]
  },
  {
   "cell_type": "markdown",
   "metadata": {},
   "source": [
    "- The **Product** declares the interface, which is common to all objects that can be produced by the creator and its subclasses. The interface should declare methods that make sense in every product.\n",
    "- The **Creator** class declares the factory method that returns new product objects. The return type of this method must match the product interface. The Creator object usually contains business logic that MAKES USE of the product."
   ]
  },
  {
   "cell_type": "markdown",
   "metadata": {},
   "source": [
    "The client code works with an interface defined by Creator. We can create different factories based on this interface. These other factories will generate different products, but the client code works with them just as before."
   ]
  },
  {
   "cell_type": "code",
   "execution_count": 23,
   "metadata": {
    "ExecuteTime": {
     "end_time": "2020-07-25T20:50:46.584254Z",
     "start_time": "2020-07-25T20:50:46.577273Z"
    }
   },
   "outputs": [],
   "source": [
    "# Creator class declares a factory method that is supposed to \n",
    "# return an object of a Product class. \n",
    "class Creator:\n",
    "    \n",
    "    # The creator may provide some default implementation\n",
    "    # of the factory method\n",
    "    @abstractmethod\n",
    "    def factory_method(self):\n",
    "        pass\n",
    "        \n",
    "    \n",
    "    def some_operation(self):\n",
    "        # Call the factory method\n",
    "        product = self.factory_method()\n",
    "        \n",
    "        # The creator usually contains some core business logic\n",
    "        # that relies on Product objects, returned by the factory method\n",
    "        \n",
    "        # We need method_a and method_b from any product we decide\n",
    "        # to use. We will make sure anything produced by a factory\n",
    "        # implements these two methods\n",
    "        product.method_a()\n",
    "        product.method_b()"
   ]
  },
  {
   "cell_type": "code",
   "execution_count": 24,
   "metadata": {
    "ExecuteTime": {
     "end_time": "2020-07-25T20:50:47.397397Z",
     "start_time": "2020-07-25T20:50:47.393438Z"
    }
   },
   "outputs": [],
   "source": [
    "class ConcreteCreator1(Creator):\n",
    "    \n",
    "    # In this case, it returns one of the concrete products\n",
    "    # The operation is now ready to be used\n",
    "    def factory_method(self):\n",
    "        return ConcreteProduct1()"
   ]
  },
  {
   "cell_type": "code",
   "execution_count": 15,
   "metadata": {
    "ExecuteTime": {
     "end_time": "2020-07-25T00:43:18.763963Z",
     "start_time": "2020-07-25T00:43:18.758976Z"
    }
   },
   "outputs": [],
   "source": [
    "# The product interface declares the operations that all concrete\n",
    "# products must implement. In this example, all products must implement\n",
    "# method_a and method_b\n",
    "class Product:\n",
    "    \n",
    "    @abstractmethod\n",
    "    def method_a(self):\n",
    "        pass\n",
    "    \n",
    "    @abstractmethod\n",
    "    def method_b(self):\n",
    "        pass\n",
    "    "
   ]
  },
  {
   "cell_type": "code",
   "execution_count": 17,
   "metadata": {
    "ExecuteTime": {
     "end_time": "2020-07-25T00:43:47.180035Z",
     "start_time": "2020-07-25T00:43:47.174914Z"
    }
   },
   "outputs": [],
   "source": [
    "class ConcreteProduct1(Product):\n",
    "    \n",
    "    def method_a(self):\n",
    "        print(\"Method A is working correctly\")\n",
    "        \n",
    "    def method_b(self):\n",
    "        print(\"Method B is working correctly\")"
   ]
  },
  {
   "cell_type": "code",
   "execution_count": 20,
   "metadata": {
    "ExecuteTime": {
     "end_time": "2020-07-25T00:45:02.718988Z",
     "start_time": "2020-07-25T00:45:02.716023Z"
    }
   },
   "outputs": [],
   "source": [
    "creator = ConcreteCreator1()"
   ]
  },
  {
   "cell_type": "code",
   "execution_count": 21,
   "metadata": {
    "ExecuteTime": {
     "end_time": "2020-07-25T00:45:11.076212Z",
     "start_time": "2020-07-25T00:45:11.070197Z"
    }
   },
   "outputs": [
    {
     "name": "stdout",
     "output_type": "stream",
     "text": [
      "Method A is working correctly\n",
      "Method B is working correctly\n"
     ]
    }
   ],
   "source": [
    "creator.some_operation()"
   ]
  },
  {
   "cell_type": "markdown",
   "metadata": {},
   "source": [
    "# Prototype Pattern"
   ]
  },
  {
   "cell_type": "code",
   "execution_count": 13,
   "metadata": {
    "ExecuteTime": {
     "end_time": "2020-07-28T14:51:19.058895Z",
     "start_time": "2020-07-28T14:51:19.052915Z"
    }
   },
   "outputs": [],
   "source": [
    "class Prototype:\n",
    "\n",
    "    value = \"default\"\n",
    "\n",
    "    def clone(self, **attrs):\n",
    "        \"\"\"Clone a prototype and update inner attributes dictionary\"\"\"\n",
    "        # Python in Practice, Mark Summerfield\n",
    "        obj = self.__class__()\n",
    "        obj.__dict__.update(attrs)\n",
    "        return obj"
   ]
  },
  {
   "cell_type": "markdown",
   "metadata": {},
   "source": [
    "Use copy method (copy.copy and copy.deepcopy) for shallow and deep copies. Deep copies are useful for objects that are self-referencing in a way. You can define your own \\_\\_copy\\_\\_ and \\_\\_deepcopy\\_\\_ that will be called by the functions of the copy module."
   ]
  },
  {
   "cell_type": "code",
   "execution_count": 14,
   "metadata": {
    "ExecuteTime": {
     "end_time": "2020-07-28T15:15:47.603145Z",
     "start_time": "2020-07-28T15:15:47.595162Z"
    }
   },
   "outputs": [],
   "source": [
    "class SelfReferencingEntity:\n",
    "    def __init__(self):\n",
    "        self.parent = None\n",
    "\n",
    "    def set_parent(self, parent):\n",
    "        self.parent = parent\n",
    "\n",
    "\n",
    "class SomeComponent:\n",
    "    \"\"\"\n",
    "    Python provides its own interface of Prototype via `copy.copy` and\n",
    "    `copy.deepcopy` functions. And any class that wants to implement custom\n",
    "    implementations have to override `__copy__` and `__deepcopy__` member\n",
    "    functions.\n",
    "    \"\"\"\n",
    "\n",
    "    def __init__(self, some_int, some_list_of_objects, some_circular_ref):\n",
    "        self.some_int = some_int\n",
    "        self.some_list_of_objects = some_list_of_objects\n",
    "        self.some_circular_ref = some_circular_ref\n",
    "\n",
    "    def __copy__(self):\n",
    "        \"\"\"\n",
    "        Create a shallow copy. This method will be called whenever someone calls\n",
    "        `copy.copy` with this object and the returned value is returned as the\n",
    "        new shallow copy.\n",
    "        \"\"\"\n",
    "\n",
    "        # First, let's create copies of the nested objects.\n",
    "        some_list_of_objects = copy.copy(self.some_list_of_objects)\n",
    "        some_circular_ref = copy.copy(self.some_circular_ref)\n",
    "\n",
    "        # Then, let's clone the object itself, using the prepared clones of the\n",
    "        # nested objects.\n",
    "        new = self.__class__(\n",
    "            self.some_int, some_list_of_objects, some_circular_ref\n",
    "        )\n",
    "        new.__dict__.update(self.__dict__)\n",
    "\n",
    "        return new\n",
    "\n",
    "    def __deepcopy__(self, memo={}):\n",
    "        \"\"\"\n",
    "        Create a deep copy. This method will be called whenever someone calls\n",
    "        `copy.deepcopy` with this object and the returned value is returned as\n",
    "        the new deep copy.\n",
    "\n",
    "        What is the use of the argument `memo`? Memo is the dictionary that is\n",
    "        used by the `deepcopy` library to prevent infinite recursive copies in\n",
    "        instances of circular references. Pass it to all the `deepcopy` calls\n",
    "        you make in the `__deepcopy__` implementation to prevent infinite\n",
    "        recursions.\n",
    "        \"\"\"\n",
    "\n",
    "        # First, let's create copies of the nested objects.\n",
    "        some_list_of_objects = copy.deepcopy(self.some_list_of_objects, memo)\n",
    "        some_circular_ref = copy.deepcopy(self.some_circular_ref, memo)\n",
    "\n",
    "        # Then, let's clone the object itself, using the prepared clones of the\n",
    "        # nested objects.\n",
    "        new = self.__class__(\n",
    "            self.some_int, some_list_of_objects, some_circular_ref\n",
    "        )\n",
    "        new.__dict__ = copy.deepcopy(self.__dict__, memo)\n",
    "\n",
    "        return new"
   ]
  },
  {
   "cell_type": "markdown",
   "metadata": {},
   "source": [
    "# Singleton Pattern"
   ]
  },
  {
   "cell_type": "markdown",
   "metadata": {},
   "source": [
    "- A class has only one instance + global access point to this instance\n",
    "- Use the Singleton pattern when a class in your program should have just a single instance available to all clients\n",
    "- Example: a single database access object shared by different parts of the program\n",
    "- In Python, modules can also be considered a kind of singleton, albeit weaker. Whenever we import a module, it is executed. If we import it again, Python returns the imported module."
   ]
  },
  {
   "cell_type": "code",
   "execution_count": null,
   "metadata": {},
   "outputs": [],
   "source": [
    "# What the Gang of Four’s original Singleton Pattern\n",
    "# might look like in Python.\n",
    "\n",
    "class Logger(object):\n",
    "    _instance = None\n",
    "\n",
    "    def __init__(self):\n",
    "        raise RuntimeError('Call instance() instead')\n",
    "\n",
    "    @classmethod\n",
    "    def instance(cls):\n",
    "        if cls._instance is None:\n",
    "            print('Creating new instance')\n",
    "            cls._instance = cls.__new__(cls)\n",
    "            # Put any initialization here.\n",
    "        return cls._instance"
   ]
  },
  {
   "cell_type": "markdown",
   "metadata": {},
   "source": [
    "## \\_\\_new\\_\\_"
   ]
  },
  {
   "cell_type": "markdown",
   "metadata": {},
   "source": [
    "If we don't define a \\_\\_new\\_\\_ method, the class will have access to the parent method:"
   ]
  },
  {
   "cell_type": "code",
   "execution_count": 87,
   "metadata": {
    "ExecuteTime": {
     "end_time": "2020-07-29T20:45:21.776944Z",
     "start_time": "2020-07-29T20:45:21.771959Z"
    }
   },
   "outputs": [],
   "source": [
    "class A(object):\n",
    "    pass"
   ]
  },
  {
   "cell_type": "code",
   "execution_count": 90,
   "metadata": {
    "ExecuteTime": {
     "end_time": "2020-07-29T20:45:34.505035Z",
     "start_time": "2020-07-29T20:45:34.497592Z"
    }
   },
   "outputs": [
    {
     "data": {
      "text/plain": [
       "<function object.__new__(*args, **kwargs)>"
      ]
     },
     "execution_count": 90,
     "metadata": {},
     "output_type": "execute_result"
    }
   ],
   "source": [
    "A.__new__"
   ]
  },
  {
   "cell_type": "markdown",
   "metadata": {},
   "source": [
    "We can specify our own \\_\\_new\\_\\_ method:"
   ]
  },
  {
   "cell_type": "code",
   "execution_count": 97,
   "metadata": {
    "ExecuteTime": {
     "end_time": "2020-07-29T20:48:10.646508Z",
     "start_time": "2020-07-29T20:48:10.642531Z"
    }
   },
   "outputs": [],
   "source": [
    "class A(object):\n",
    "    # this is a class method without the decorator!\n",
    "    def __new__(cls):\n",
    "        print(cls)"
   ]
  },
  {
   "cell_type": "markdown",
   "metadata": {},
   "source": [
    "\\_\\_new\\_\\_ is called whenever we instantiate the class. Notice that the passed argument is a reference to the class, and not an instance (it is like a class method without the need of a decorator):"
   ]
  },
  {
   "cell_type": "code",
   "execution_count": 96,
   "metadata": {
    "ExecuteTime": {
     "end_time": "2020-07-29T20:47:59.465716Z",
     "start_time": "2020-07-29T20:47:59.460727Z"
    }
   },
   "outputs": [
    {
     "name": "stdout",
     "output_type": "stream",
     "text": [
      "<class '__main__.A'>\n"
     ]
    }
   ],
   "source": [
    "A()"
   ]
  },
  {
   "cell_type": "code",
   "execution_count": 103,
   "metadata": {
    "ExecuteTime": {
     "end_time": "2020-07-29T20:49:50.089569Z",
     "start_time": "2020-07-29T20:49:50.085579Z"
    }
   },
   "outputs": [],
   "source": [
    "class A(object):    \n",
    "    def __init__(self, arg):\n",
    "        self.arg = arg        "
   ]
  },
  {
   "cell_type": "markdown",
   "metadata": {},
   "source": [
    "Creating an object is equivalent to the following operations:"
   ]
  },
  {
   "cell_type": "code",
   "execution_count": 104,
   "metadata": {
    "ExecuteTime": {
     "end_time": "2020-07-29T20:49:51.994188Z",
     "start_time": "2020-07-29T20:49:51.989204Z"
    }
   },
   "outputs": [
    {
     "name": "stdout",
     "output_type": "stream",
     "text": [
      "<__main__.A object at 0x0000020B26B03C18>\n",
      "an arg\n"
     ]
    }
   ],
   "source": [
    "tmp = A.__new__(A, 'an arg')\n",
    "tmp.__init__('an arg')\n",
    "a = tmp\n",
    "\n",
    "print(a)\n",
    "print(a.arg)"
   ]
  },
  {
   "cell_type": "markdown",
   "metadata": {},
   "source": [
    "## Singleton Implementation"
   ]
  },
  {
   "cell_type": "code",
   "execution_count": 114,
   "metadata": {
    "ExecuteTime": {
     "end_time": "2020-07-29T20:53:55.374490Z",
     "start_time": "2020-07-29T20:53:55.370466Z"
    }
   },
   "outputs": [],
   "source": [
    "class Logger(object):\n",
    "    _instance = None\n",
    "\n",
    "    def __new__(cls):\n",
    "        if cls._instance is None:\n",
    "            # this line is equivalent to\n",
    "            # cls._instance = object.__new__(cls)\n",
    "            # the importance here is to use something different\n",
    "            # thant cls.__new__ (this would cause infinite recursion)\n",
    "            cls._instance = super(Logger, cls).__new__(cls)\n",
    "            # Put any initialization here.\n",
    "        return cls._instance"
   ]
  },
  {
   "cell_type": "code",
   "execution_count": 115,
   "metadata": {
    "ExecuteTime": {
     "end_time": "2020-07-29T20:53:55.956302Z",
     "start_time": "2020-07-29T20:53:55.951071Z"
    }
   },
   "outputs": [
    {
     "data": {
      "text/plain": [
       "<__main__.Logger at 0x20b26b905f8>"
      ]
     },
     "execution_count": 115,
     "metadata": {},
     "output_type": "execute_result"
    }
   ],
   "source": [
    "Logger()"
   ]
  },
  {
   "cell_type": "markdown",
   "metadata": {},
   "source": [
    "# Composite Pattern\n",
    "- Tree-like pattern. The components have a common interface, so the client does not know whether it's working with a leaf or a composite object.\n",
    "- Symmetry among the objects. Containers and leafs must have the same methods (related to the point above)"
   ]
  },
  {
   "cell_type": "markdown",
   "metadata": {},
   "source": [
    "# Decorator Pattern"
   ]
  },
  {
   "cell_type": "markdown",
   "metadata": {},
   "source": [
    "- A wrapper is linked to some target object. The wrapper constains the same set of methods as the target and delegates to it all requests it receives. The wrapper may alter the result by doing something before or after it passes the request to the target.\n",
    "- From the client perspective, wrapper and target are identical.\n",
    "- Some examples of applications:\n",
    "    - Log method calls that would normally work silently\n",
    "    - Perform extra setup or cleanup aroung a method\n",
    "    - Pre-process method arguments\n",
    "    - Post-process return values\n",
    "    - Forbid actions that the wrapped object would normally allow"
   ]
  },
  {
   "cell_type": "markdown",
   "metadata": {},
   "source": [
    "# Flyweight Pattern"
   ]
  },
  {
   "cell_type": "code",
   "execution_count": null,
   "metadata": {},
   "outputs": [],
   "source": []
  },
  {
   "cell_type": "markdown",
   "metadata": {},
   "source": [
    "# Iterator Pattern"
   ]
  }
 ],
 "metadata": {
  "kernelspec": {
   "display_name": "Python [conda env:dl]",
   "language": "python",
   "name": "conda-env-dl-py"
  },
  "language_info": {
   "codemirror_mode": {
    "name": "ipython",
    "version": 3
   },
   "file_extension": ".py",
   "mimetype": "text/x-python",
   "name": "python",
   "nbconvert_exporter": "python",
   "pygments_lexer": "ipython3",
   "version": "3.7.3"
  },
  "toc": {
   "base_numbering": 1,
   "nav_menu": {},
   "number_sections": true,
   "sideBar": true,
   "skip_h1_title": false,
   "title_cell": "Table of Contents",
   "title_sidebar": "Contents",
   "toc_cell": false,
   "toc_position": {
    "height": "calc(100% - 180px)",
    "left": "10px",
    "top": "150px",
    "width": "204.594px"
   },
   "toc_section_display": true,
   "toc_window_display": true
  },
  "varInspector": {
   "cols": {
    "lenName": 16,
    "lenType": 16,
    "lenVar": 40
   },
   "kernels_config": {
    "python": {
     "delete_cmd_postfix": "",
     "delete_cmd_prefix": "del ",
     "library": "var_list.py",
     "varRefreshCmd": "print(var_dic_list())"
    },
    "r": {
     "delete_cmd_postfix": ") ",
     "delete_cmd_prefix": "rm(",
     "library": "var_list.r",
     "varRefreshCmd": "cat(var_dic_list()) "
    }
   },
   "types_to_exclude": [
    "module",
    "function",
    "builtin_function_or_method",
    "instance",
    "_Feature"
   ],
   "window_display": false
  }
 },
 "nbformat": 4,
 "nbformat_minor": 2
}
