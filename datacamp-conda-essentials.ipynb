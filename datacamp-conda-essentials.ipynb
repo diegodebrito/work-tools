{
 "cells": [
  {
   "cell_type": "markdown",
   "metadata": {},
   "source": [
    "**Conda** is an open source package management system **and** environment management system.\n",
    "\n",
    "**semantic versioning**  MAJOR.MINOR.PATCH  \n",
    "MAJOR: significant new functionality is introduced (usually API changes)  \n",
    "MINOR: improvements (e.g. new features) that avoid backward-incompatible API changes  \n",
    "PATCH: mostly for bug fixes, without the introduction of new features or change in API"
   ]
  },
  {
   "cell_type": "markdown",
   "metadata": {},
   "source": [
    "# Installing Packages\n",
    "Some useful commands:\n",
    "- conda --help\n",
    "- conda --version\n",
    "- conda install --help\n",
    "\n",
    "**List packages**\n",
    "- conda list [regex] (use a regex to show specific matches)\n",
    "\n",
    "**Install packages**\n",
    "- conda install foo-lib=12.3 (or foo-lib=12 or foo-lib=12.3.1)\n",
    "- conda install 'foo-lib>1.2.3,<1.1' or 'bar-lib=1.0|1.4*'\n",
    "\n",
    "**Update packages**\n",
    "- conda update PKGNAME (updates to the latest version possible while maintaining compatibility)\n",
    "- for multiple packages, just add names with a space between them\n",
    "\n",
    "**Remove packages**\n",
    "- conda remove PKGNAME\n",
    "- sometimes this will allow other packages to be updated (we might be removing a restriction)\n",
    "\n",
    "**Search available versions**\n",
    "- conda search PKGNAME\n",
    "- conda search cytoolz=0.8.2=py36_0 --info\n",
    "- conda search 'foo=1.2.3=py36*'\n"
   ]
  },
  {
   "cell_type": "markdown",
   "metadata": {},
   "source": [
    "# Utilizing Channels"
   ]
  },
  {
   "cell_type": "code",
   "execution_count": null,
   "metadata": {},
   "outputs": [],
   "source": []
  }
 ],
 "metadata": {
  "kernelspec": {
   "display_name": "Python [conda env:dl]",
   "language": "python",
   "name": "conda-env-dl-py"
  },
  "language_info": {
   "codemirror_mode": {
    "name": "ipython",
    "version": 3
   },
   "file_extension": ".py",
   "mimetype": "text/x-python",
   "name": "python",
   "nbconvert_exporter": "python",
   "pygments_lexer": "ipython3",
   "version": "3.7.3"
  },
  "toc": {
   "base_numbering": 1,
   "nav_menu": {},
   "number_sections": true,
   "sideBar": true,
   "skip_h1_title": false,
   "title_cell": "Table of Contents",
   "title_sidebar": "Contents",
   "toc_cell": false,
   "toc_position": {},
   "toc_section_display": true,
   "toc_window_display": false
  },
  "varInspector": {
   "cols": {
    "lenName": 16,
    "lenType": 16,
    "lenVar": 40
   },
   "kernels_config": {
    "python": {
     "delete_cmd_postfix": "",
     "delete_cmd_prefix": "del ",
     "library": "var_list.py",
     "varRefreshCmd": "print(var_dic_list())"
    },
    "r": {
     "delete_cmd_postfix": ") ",
     "delete_cmd_prefix": "rm(",
     "library": "var_list.r",
     "varRefreshCmd": "cat(var_dic_list()) "
    }
   },
   "types_to_exclude": [
    "module",
    "function",
    "builtin_function_or_method",
    "instance",
    "_Feature"
   ],
   "window_display": false
  }
 },
 "nbformat": 4,
 "nbformat_minor": 2
}
