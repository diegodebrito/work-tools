{
 "cells": [
  {
   "cell_type": "markdown",
   "metadata": {},
   "source": [
    "# 2020"
   ]
  },
  {
   "cell_type": "markdown",
   "metadata": {},
   "source": [
    "## July"
   ]
  },
  {
   "cell_type": "markdown",
   "metadata": {},
   "source": [
    "Hired as a Data Scientist at State Farm.   \n",
    "Start date in August 3rd.  \n",
    "\n",
    "Email from Angela describing my functions (\"Hello! Any tips?\")\n",
    "- Building internal modeling tools. \n",
    "- The team is composed of Data Scientists, Data Engineers, and software developers. \n",
    "- My role: research different statistical/ML open source packages, build wrapper Python packages and visualization for modelers to use. Explore cutting edge technology.\n",
    "\n",
    "Topics recommended for review before my start date:\n",
    "- Python and Pandas\n",
    "- Object oriented principles: OOP concepts and patterns\n",
    "- Basic of statistics, specially GLM\n",
    "- AWS (general overview) / SageMaker API\n",
    "- Docker and Conda"
   ]
  },
  {
   "cell_type": "markdown",
   "metadata": {},
   "source": [
    "Resources I am covering before August:\n",
    "- Clean Code in Python (Book)\n",
    "- Python OOP (Book)\n",
    "- Patterns in Python (Book / Tutorials)\n",
    "- Angela's recommended articles\n",
    "- PySpark Track (Datacamp Track)\n",
    "- Anaconda Skills (Datacamp Track)\n",
    "- Coding Best Practices with Python (Datacamp Skill Track)\n",
    "- Writing Efficient Code with Pandas (Datacamp)"
   ]
  }
 ],
 "metadata": {
  "kernelspec": {
   "display_name": "Python [conda env:dl]",
   "language": "python",
   "name": "conda-env-dl-py"
  },
  "language_info": {
   "codemirror_mode": {
    "name": "ipython",
    "version": 3
   },
   "file_extension": ".py",
   "mimetype": "text/x-python",
   "name": "python",
   "nbconvert_exporter": "python",
   "pygments_lexer": "ipython3",
   "version": "3.7.3"
  },
  "toc": {
   "base_numbering": 1,
   "nav_menu": {},
   "number_sections": true,
   "sideBar": true,
   "skip_h1_title": false,
   "title_cell": "Table of Contents",
   "title_sidebar": "Contents",
   "toc_cell": false,
   "toc_position": {},
   "toc_section_display": true,
   "toc_window_display": true
  },
  "varInspector": {
   "cols": {
    "lenName": 16,
    "lenType": 16,
    "lenVar": 40
   },
   "kernels_config": {
    "python": {
     "delete_cmd_postfix": "",
     "delete_cmd_prefix": "del ",
     "library": "var_list.py",
     "varRefreshCmd": "print(var_dic_list())"
    },
    "r": {
     "delete_cmd_postfix": ") ",
     "delete_cmd_prefix": "rm(",
     "library": "var_list.r",
     "varRefreshCmd": "cat(var_dic_list()) "
    }
   },
   "types_to_exclude": [
    "module",
    "function",
    "builtin_function_or_method",
    "instance",
    "_Feature"
   ],
   "window_display": false
  }
 },
 "nbformat": 4,
 "nbformat_minor": 2
}
