{
 "cells": [
  {
   "cell_type": "markdown",
   "metadata": {},
   "source": [
    "# Sagemaker"
   ]
  },
  {
   "cell_type": "markdown",
   "metadata": {},
   "source": [
    "**Two different approaches**\n",
    "- Using Boto3 (https://boto3.amazonaws.com/v1/documentation/api/latest/reference/services/sagemaker.html#id180)\n",
    "- Using Sagemaker Python SDK (https://sagemaker.readthedocs.io/en/stable/index.html)"
   ]
  },
  {
   "cell_type": "markdown",
   "metadata": {},
   "source": [
    "**Sagemaker Boto3 Client**"
   ]
  },
  {
   "cell_type": "code",
   "execution_count": null,
   "metadata": {},
   "outputs": [],
   "source": [
    "client = boto3.client('sagemaker')"
   ]
  },
  {
   "cell_type": "markdown",
   "metadata": {},
   "source": [
    "**Pre-Built AWS Containers**"
   ]
  },
  {
   "cell_type": "code",
   "execution_count": null,
   "metadata": {},
   "outputs": [],
   "source": [
    "from sagemaker.amazon.amazon_estimator import get_image_uri\n",
    "container = get_image_uri(boto3.Session().region_name, 'xgboost')"
   ]
  },
  {
   "cell_type": "markdown",
   "metadata": {},
   "source": [
    "**create_training_job(\\*\\*kwargs)**: starts model training job. After training completes, it saves the resulting model artifacts to an specified S3 location."
   ]
  },
  {
   "cell_type": "code",
   "execution_count": null,
   "metadata": {},
   "outputs": [],
   "source": [
    "client.create_training_job(**create_training_params)"
   ]
  },
  {
   "cell_type": "markdown",
   "metadata": {},
   "source": [
    "**describe_training_job(\\*\\*kwargs)**: returns information about a training job."
   ]
  },
  {
   "cell_type": "code",
   "execution_count": null,
   "metadata": {},
   "outputs": [],
   "source": [
    "# getting model artifact location\n",
    "client.describe_training_job(TrainingJobName=job_name)['ModelArtifacts']['S3ModelArtifacts']"
   ]
  },
  {
   "cell_type": "markdown",
   "metadata": {},
   "source": [
    "**Model Artifacts**: output that results from training a model. Typically consist of trained parameters, a model definition that describes how to compute inferences, and other metadata.\n",
    "- S3ModelArtifacts: the path of the S3 object that contains the model artifacts (s3://bucket-name/keynameprefix/model.tar.gz)"
   ]
  },
  {
   "cell_type": "code",
   "execution_count": null,
   "metadata": {},
   "outputs": [],
   "source": [
    "# create training job is a big json file with configurations on\n",
    "# container, role, file location, etc\n",
    "sm.create_training_job(**create_training_params)"
   ]
  },
  {
   "cell_type": "markdown",
   "metadata": {},
   "source": [
    "**create_model(\\*\\*kwargs)**: creates a model in SageMaker. In the request, you name the model and describe a primary container. For the primary container, you specify the Docker image with the inference code, artifacts (from prior training), and a custom environment map that the inference code uses when you deploy the model for predictions (environment variables to set in the Docker container). "
   ]
  },
  {
   "cell_type": "code",
   "execution_count": null,
   "metadata": {},
   "outputs": [],
   "source": [
    "model_name=job_name + '-mdl'\n",
    "xgboost_hosting_container = {\n",
    "    'Image': container,\n",
    "    'ModelDataUrl': sm.describe_training_job(TrainingJobName=job_name)['ModelArtifacts']['S3ModelArtifacts'],\n",
    "    'Environment': {'this': 'is'} # do I need this always???\n",
    "}\n",
    "\n",
    "create_model_response = sm.create_model(\n",
    "    ModelName=model_name,\n",
    "    ExecutionRoleArn=role,\n",
    "    PrimaryContainer=xgboost_hosting_container)"
   ]
  },
  {
   "cell_type": "markdown",
   "metadata": {},
   "source": [
    "After setting up the model, we need to create and **endpoint configuration** and then create the endpoit."
   ]
  },
  {
   "cell_type": "code",
   "execution_count": null,
   "metadata": {},
   "outputs": [],
   "source": [
    "from time import gmtime, strftime\n",
    "\n",
    "endpoint_config_name = 'DEMO-XGBoostEndpointConfig-' + strftime(\"%Y-%m-%d-%H-%M-%S\", gmtime())\n",
    "\n",
    "create_endpoint_config_response = sm.create_endpoint_config(\n",
    "    EndpointConfigName = endpoint_config_name,\n",
    "    ProductionVariants=[{\n",
    "        'InstanceType':'ml.m4.xlarge',\n",
    "        'InitialInstanceCount':1,\n",
    "        'InitialVariantWeight':1,\n",
    "        'ModelName':model_name,\n",
    "        'VariantName':'AllTraffic'}])"
   ]
  },
  {
   "cell_type": "markdown",
   "metadata": {},
   "source": [
    "**Endpoint** to serve the model:"
   ]
  },
  {
   "cell_type": "code",
   "execution_count": null,
   "metadata": {},
   "outputs": [],
   "source": [
    "%%time\n",
    "import time\n",
    "\n",
    "endpoint_name = 'DEMO-XGBoostEndpoint-' + strftime(\"%Y-%m-%d-%H-%M-%S\", gmtime())\n",
    "print(endpoint_name)\n",
    "create_endpoint_response = sm.create_endpoint(\n",
    "    EndpointName=endpoint_name,\n",
    "    EndpointConfigName=endpoint_config_name)\n",
    "print(create_endpoint_response['EndpointArn'])\n",
    "\n",
    "resp = sm.describe_endpoint(EndpointName=endpoint_name)\n",
    "status = resp['EndpointStatus']\n",
    "print(\"Status: \" + status)\n",
    "\n",
    "while status=='Creating':\n",
    "    time.sleep(60)\n",
    "    resp = sm.describe_endpoint(EndpointName=endpoint_name)\n",
    "    status = resp['EndpointStatus']\n",
    "    print(\"Status: \" + status)\n",
    "\n",
    "print(\"Arn: \" + resp['EndpointArn'])\n",
    "print(\"Status: \" + status)"
   ]
  },
  {
   "cell_type": "markdown",
   "metadata": {},
   "source": [
    "## References"
   ]
  },
  {
   "cell_type": "markdown",
   "metadata": {},
   "source": [
    "**Training Parameters**"
   ]
  },
  {
   "cell_type": "code",
   "execution_count": null,
   "metadata": {},
   "outputs": [],
   "source": [
    "create_training_params = \\\n",
    "{\n",
    "    \"AlgorithmSpecification\": {\n",
    "        \"TrainingImage\": container,\n",
    "        \"TrainingInputMode\": \"File\"\n",
    "    },\n",
    "    \"RoleArn\": role,\n",
    "    \"OutputDataConfig\": {\n",
    "        \"S3OutputPath\": \"s3://{}/{}/single-xgboost/\".format(bucket, prefix),\n",
    "    },\n",
    "    \"ResourceConfig\": {\n",
    "        \"InstanceCount\": 1,\n",
    "        \"InstanceType\": \"ml.m4.4xlarge\",\n",
    "        \"VolumeSizeInGB\": 20\n",
    "    },\n",
    "    \"TrainingJobName\": job_name,\n",
    "    \"HyperParameters\": {\n",
    "        \"max_depth\":\"5\",\n",
    "        \"eta\":\"0.1\",\n",
    "        \"gamma\":\"1\",\n",
    "        \"min_child_weight\":\"1\",\n",
    "        \"silent\":\"0\",\n",
    "        \"objective\": \"binary:logistic\",\n",
    "        \"eval_metric\": \"auc\",\n",
    "        \"num_round\": \"20\"\n",
    "    },\n",
    "    \"StoppingCondition\": {\n",
    "        \"MaxRuntimeInSeconds\": 60 * 60\n",
    "    },\n",
    "    \"InputDataConfig\": [\n",
    "        {\n",
    "            \"ChannelName\": \"train\",\n",
    "            \"DataSource\": {\n",
    "                \"S3DataSource\": {\n",
    "                    \"S3DataType\": \"S3Prefix\",\n",
    "                    \"S3Uri\":  \"s3://{}/{}/train/\".format(bucket, prefix),\n",
    "                    \"S3DataDistributionType\": \"FullyReplicated\"\n",
    "                }\n",
    "            },\n",
    "            \"ContentType\": \"csv\",\n",
    "            \"CompressionType\": \"None\"\n",
    "        },\n",
    "        {\n",
    "            \"ChannelName\": \"validation\",\n",
    "            \"DataSource\": {\n",
    "                \"S3DataSource\": {\n",
    "                    \"S3DataType\": \"S3Prefix\",\n",
    "                    \"S3Uri\": \"s3://{}/{}/val/\".format(bucket, prefix),\n",
    "                    \"S3DataDistributionType\": \"FullyReplicated\"\n",
    "                }\n",
    "            },\n",
    "            \"ContentType\": \"csv\",\n",
    "            \"CompressionType\": \"None\"\n",
    "        }\n",
    "    ]\n",
    "}"
   ]
  },
  {
   "cell_type": "markdown",
   "metadata": {},
   "source": [
    "## Hyperparameter Tuning"
   ]
  },
  {
   "cell_type": "markdown",
   "metadata": {},
   "source": [
    "**Tips**  \n",
    "https://github.com/awslabs/amazon-sagemaker-examples/blob/master/hyperparameter_tuning/xgboost_direct_marketing/hpo_xgboost_direct_marketing_sagemaker_APIs.ipynb\n",
    "\n",
    "- Recommendarion of less than 10% of the total number of training jobs for number of parallel jobs.\n",
    "- Make sure your algorithm emits the selected optimization metric during training. If you use validation:auc, for example, make sure that you algorithm emits it. This is specially important for when using your own algorithms."
   ]
  },
  {
   "cell_type": "markdown",
   "metadata": {},
   "source": [
    "Example of JSON file for tuning configurations:"
   ]
  },
  {
   "cell_type": "code",
   "execution_count": null,
   "metadata": {},
   "outputs": [],
   "source": [
    "from time import gmtime, strftime, sleep\n",
    "tuning_job_name = 'xgboost-tuningjob-' + strftime(\"%d-%H-%M-%S\", gmtime())\n",
    "\n",
    "print (tuning_job_name)\n",
    "\n",
    "tuning_job_config = {\n",
    "    \"ParameterRanges\": {\n",
    "      \"CategoricalParameterRanges\": [],\n",
    "      \"ContinuousParameterRanges\": [\n",
    "        {\n",
    "          \"MaxValue\": \"1\",\n",
    "          \"MinValue\": \"0\",\n",
    "          \"Name\": \"eta\",\n",
    "        },\n",
    "        {\n",
    "          \"MaxValue\": \"10\",\n",
    "          \"MinValue\": \"1\",\n",
    "          \"Name\": \"min_child_weight\",\n",
    "        },\n",
    "        {\n",
    "          \"MaxValue\": \"2\",\n",
    "          \"MinValue\": \"0\",\n",
    "          \"Name\": \"alpha\",            \n",
    "        }\n",
    "      ],\n",
    "      \"IntegerParameterRanges\": [\n",
    "        {\n",
    "          \"MaxValue\": \"10\",\n",
    "          \"MinValue\": \"1\",\n",
    "          \"Name\": \"max_depth\",\n",
    "        }\n",
    "      ]\n",
    "    },\n",
    "    \"ResourceLimits\": {\n",
    "      \"MaxNumberOfTrainingJobs\": 20,\n",
    "      \"MaxParallelTrainingJobs\": 3\n",
    "    },\n",
    "    \"Strategy\": \"Bayesian\",\n",
    "    \"HyperParameterTuningJobObjective\": {\n",
    "      \"MetricName\": \"validation:auc\",\n",
    "      \"Type\": \"Maximize\"\n",
    "    }\n",
    "  }"
   ]
  },
  {
   "cell_type": "markdown",
   "metadata": {},
   "source": [
    "Training job parameters:\n",
    "- Container for the image of the algorithm\n",
    "- Input configuration for training and validation data (e.g. using bucket URI - s3://...)\n",
    "- Configuration of the output of the algorithm (e.g. bucket/folder)\n",
    "- Static hyperparameters\n",
    "- Type and number of instances\n",
    "- Stopping condition for the training jobs (like maximum tuning time)\n",
    "- When usign custom algorithms, you need to add **MetricDefinition** object (format of metrics through regex)"
   ]
  },
  {
   "cell_type": "code",
   "execution_count": null,
   "metadata": {},
   "outputs": [],
   "source": [
    "from sagemaker.amazon.amazon_estimator import get_image_uri\n",
    "training_image = get_image_uri(region, 'xgboost', repo_version='latest')\n",
    "     \n",
    "s3_input_train = 's3://{}/{}/train'.format(bucket, prefix)\n",
    "s3_input_validation ='s3://{}/{}/validation/'.format(bucket, prefix)\n",
    "    \n",
    "training_job_definition = {\n",
    "    \"AlgorithmSpecification\": {\n",
    "      \"TrainingImage\": training_image,\n",
    "      \"TrainingInputMode\": \"File\"\n",
    "    },\n",
    "    \"InputDataConfig\": [\n",
    "      {\n",
    "        \"ChannelName\": \"train\",\n",
    "        \"CompressionType\": \"None\",\n",
    "        \"ContentType\": \"csv\",\n",
    "        \"DataSource\": {\n",
    "          \"S3DataSource\": {\n",
    "            \"S3DataDistributionType\": \"FullyReplicated\",\n",
    "            \"S3DataType\": \"S3Prefix\",\n",
    "            \"S3Uri\": s3_input_train\n",
    "          }\n",
    "        }\n",
    "      },\n",
    "      {\n",
    "        \"ChannelName\": \"validation\",\n",
    "        \"CompressionType\": \"None\",\n",
    "        \"ContentType\": \"csv\",\n",
    "        \"DataSource\": {\n",
    "          \"S3DataSource\": {\n",
    "            \"S3DataDistributionType\": \"FullyReplicated\",\n",
    "            \"S3DataType\": \"S3Prefix\",\n",
    "            \"S3Uri\": s3_input_validation\n",
    "          }\n",
    "        }\n",
    "      }\n",
    "    ],\n",
    "    \"OutputDataConfig\": {\n",
    "      \"S3OutputPath\": \"s3://{}/{}/output\".format(bucket,prefix)\n",
    "    },\n",
    "    \"ResourceConfig\": {\n",
    "      \"InstanceCount\": 1,\n",
    "      \"InstanceType\": \"ml.m4.xlarge\",\n",
    "      \"VolumeSizeInGB\": 10\n",
    "    },\n",
    "    \"RoleArn\": role,\n",
    "    \"StaticHyperParameters\": {\n",
    "      \"eval_metric\": \"auc\",\n",
    "      \"num_round\": \"100\",\n",
    "      \"objective\": \"binary:logistic\",\n",
    "      \"rate_drop\": \"0.3\",\n",
    "      \"tweedie_variance_power\": \"1.4\"\n",
    "    },\n",
    "    \"StoppingCondition\": {\n",
    "      \"MaxRuntimeInSeconds\": 43200\n",
    "    }\n",
    "}"
   ]
  },
  {
   "cell_type": "markdown",
   "metadata": {},
   "source": [
    "Launch hyperparameter tuning calling create_hyper_parameter_tuning_job API"
   ]
  },
  {
   "cell_type": "code",
   "execution_count": 205,
   "metadata": {
    "ExecuteTime": {
     "end_time": "2020-07-30T21:20:20.175215Z",
     "start_time": "2020-07-30T21:20:20.172219Z"
    }
   },
   "outputs": [],
   "source": [
    "smclient = boto3.Session().client('sagemaker')\n",
    "smclient.create_hyper_parameter_tuning_job(HyperParameterTuningJobName = tuning_job_name,\n",
    "                                            HyperParameterTuningJobConfig = tuning_job_config,\n",
    "                                            TrainingJobDefinition = training_job_definition)"
   ]
  },
  {
   "cell_type": "code",
   "execution_count": null,
   "metadata": {},
   "outputs": [],
   "source": []
  },
  {
   "cell_type": "markdown",
   "metadata": {},
   "source": [
    "# Videogame Sales (Workshop)"
   ]
  },
  {
   "cell_type": "code",
   "execution_count": 189,
   "metadata": {
    "ExecuteTime": {
     "end_time": "2020-07-30T20:09:07.167210Z",
     "start_time": "2020-07-30T20:09:07.161186Z"
    }
   },
   "outputs": [],
   "source": [
    "import sys\n",
    "import numpy as np                                \n",
    "import pandas as pd                               \n",
    "import matplotlib.pyplot as plt   \n",
    "import boto3\n",
    "import sagemaker\n",
    "from sklearn.datasets import dump_svmlight_file   \n",
    "\n",
    "from botocore.exceptions import ClientError"
   ]
  },
  {
   "cell_type": "code",
   "execution_count": 82,
   "metadata": {
    "ExecuteTime": {
     "end_time": "2020-07-30T15:45:09.308426Z",
     "start_time": "2020-07-30T15:45:09.304405Z"
    }
   },
   "outputs": [],
   "source": [
    "BUCKET_NAME = 'sagemaker-workshop-dsb'\n",
    "ROLE_NAME = 'sagemaker_role'\n",
    "PREFIX = 'sagemaker/videogames-xgboost'"
   ]
  },
  {
   "cell_type": "markdown",
   "metadata": {},
   "source": [
    "## Configuration"
   ]
  },
  {
   "cell_type": "markdown",
   "metadata": {},
   "source": [
    "Let's create our own bucket:"
   ]
  },
  {
   "cell_type": "code",
   "execution_count": 83,
   "metadata": {
    "ExecuteTime": {
     "end_time": "2020-07-30T17:27:05.313613Z",
     "start_time": "2020-07-30T17:27:04.993086Z"
    }
   },
   "outputs": [],
   "source": [
    "s3 = boto3.resource('s3')\n",
    "\n",
    "try:\n",
    "    s3.meta.client.head_bucket(Bucket=BUCKET_NAME)\n",
    "    exists = True\n",
    "except ClientError:\n",
    "    exists = False\n",
    "    \n",
    "if not exists:\n",
    "    bucket = s3.create_bucket(Bucket=BUCKET_NAME)"
   ]
  },
  {
   "cell_type": "markdown",
   "metadata": {},
   "source": [
    "Let's also create a role for SageMaker:"
   ]
  },
  {
   "cell_type": "code",
   "execution_count": 84,
   "metadata": {
    "ExecuteTime": {
     "end_time": "2020-07-30T17:27:08.023321Z",
     "start_time": "2020-07-30T17:27:08.002410Z"
    }
   },
   "outputs": [],
   "source": [
    "iam = boto3.resource('iam')\n",
    "allowed_services = [\"sagemaker.amazonaws.com\"]\n",
    "trust_policy = {\n",
    "        'Version': '2012-10-17',\n",
    "        'Statement': [{\n",
    "                'Effect': 'Allow',\n",
    "                'Principal': {'Service': service},\n",
    "                'Action': 'sts:AssumeRole'\n",
    "            } for service in allowed_services\n",
    "        ]\n",
    "    }"
   ]
  },
  {
   "cell_type": "code",
   "execution_count": 57,
   "metadata": {
    "ExecuteTime": {
     "end_time": "2020-07-30T15:13:21.213137Z",
     "start_time": "2020-07-30T15:13:20.836887Z"
    }
   },
   "outputs": [],
   "source": [
    "try:\n",
    "    role = iam.create_role(\n",
    "        RoleName=ROLE_NAME,\n",
    "        AssumeRolePolicyDocument=json.dumps(trust_policy)\n",
    "    )\n",
    "    created = True\n",
    "except ClientError:\n",
    "    print(\"Role already exists\")\n",
    "    created = False"
   ]
  },
  {
   "cell_type": "markdown",
   "metadata": {},
   "source": [
    "Finally, let's attach a policty to the role above:"
   ]
  },
  {
   "cell_type": "code",
   "execution_count": 59,
   "metadata": {
    "ExecuteTime": {
     "end_time": "2020-07-30T15:13:28.187967Z",
     "start_time": "2020-07-30T15:13:27.786258Z"
    }
   },
   "outputs": [],
   "source": [
    "iam_client = boto3.client('iam')\n",
    "\n",
    "if created:\n",
    "    iam_client.attach_role_policy(\n",
    "    PolicyArn='arn:aws:iam::aws:policy/AmazonSageMakerFullAccess',\n",
    "    RoleName=ROLE_NAME\n",
    "    )\n"
   ]
  },
  {
   "cell_type": "code",
   "execution_count": 157,
   "metadata": {
    "ExecuteTime": {
     "end_time": "2020-07-30T19:28:43.573449Z",
     "start_time": "2020-07-30T19:28:43.567464Z"
    }
   },
   "outputs": [
    {
     "data": {
      "text/plain": [
       "iam.Role(name='sagemaker_role')"
      ]
     },
     "execution_count": 157,
     "metadata": {},
     "output_type": "execute_result"
    }
   ],
   "source": [
    "iam.Role(ROLE_NAME)"
   ]
  },
  {
   "cell_type": "markdown",
   "metadata": {},
   "source": [
    "## Data"
   ]
  },
  {
   "cell_type": "markdown",
   "metadata": {},
   "source": [
    "Downloading data from a public repository: "
   ]
  },
  {
   "cell_type": "code",
   "execution_count": 60,
   "metadata": {
    "ExecuteTime": {
     "end_time": "2020-07-30T15:17:49.047687Z",
     "start_time": "2020-07-30T15:17:49.042699Z"
    }
   },
   "outputs": [],
   "source": [
    "raw_data_filename = 'Video_Games_Sales_as_at_22_Dec_2016.csv'\n",
    "data_bucket = 'sagemaker-workshop-pdx'\n",
    "\n",
    "s3 = boto3.resource('s3')\n",
    "s3.Bucket(data_bucket).download_file(raw_data_filename, './data/raw_data.csv')"
   ]
  },
  {
   "cell_type": "markdown",
   "metadata": {},
   "source": [
    "Data preparation:"
   ]
  },
  {
   "cell_type": "code",
   "execution_count": 72,
   "metadata": {
    "ExecuteTime": {
     "end_time": "2020-07-30T15:35:30.517044Z",
     "start_time": "2020-07-30T15:35:30.338504Z"
    }
   },
   "outputs": [],
   "source": [
    "data = pd.read_csv('./data/raw_data.csv')\n",
    "data['y'] = (data['Global_Sales'] > 1)\n",
    "data = data.drop(['Name', 'Year_of_Release', 'NA_Sales', 'EU_Sales', 'JP_Sales', 'Other_Sales', 'Global_Sales', 'Critic_Count', 'User_Count', 'Developer'], axis=1)\n",
    "data = data.dropna()\n",
    "data['User_Score'] = data['User_Score'].apply(pd.to_numeric, errors='coerce')\n",
    "data['User_Score'] = data['User_Score'].mask(np.isnan(data[\"User_Score\"]), data['Critic_Score'] / 10.0)"
   ]
  },
  {
   "cell_type": "code",
   "execution_count": 73,
   "metadata": {
    "ExecuteTime": {
     "end_time": "2020-07-30T15:38:30.009664Z",
     "start_time": "2020-07-30T15:38:29.980734Z"
    }
   },
   "outputs": [],
   "source": [
    "if data['y'].dtype == bool:\n",
    "    data['y'] = data['y'].apply(lambda y: 'yes' if y == True else 'no')\n",
    "model_data = pd.get_dummies(data)"
   ]
  },
  {
   "cell_type": "code",
   "execution_count": 76,
   "metadata": {
    "ExecuteTime": {
     "end_time": "2020-07-30T15:39:04.691055Z",
     "start_time": "2020-07-30T15:39:04.659553Z"
    }
   },
   "outputs": [],
   "source": [
    "train_data, validation_data, test_data = np.split(model_data.sample(frac=1, random_state=1729), [int(0.7 * len(model_data)), int(0.9 * len(model_data))])   "
   ]
  },
  {
   "cell_type": "markdown",
   "metadata": {},
   "source": [
    "Converting data to libSVM format and copying files to S3:"
   ]
  },
  {
   "cell_type": "code",
   "execution_count": 80,
   "metadata": {
    "ExecuteTime": {
     "end_time": "2020-07-30T15:44:16.688042Z",
     "start_time": "2020-07-30T15:44:16.420088Z"
    }
   },
   "outputs": [],
   "source": [
    "dump_svmlight_file(X=train_data.drop(['y_no', 'y_yes'], axis=1), y=train_data['y_yes'], f='./data/train.libsvm')\n",
    "dump_svmlight_file(X=validation_data.drop(['y_no', 'y_yes'], axis=1), y=validation_data['y_yes'], f='./data/validation.libsvm')\n",
    "dump_svmlight_file(X=test_data.drop(['y_no', 'y_yes'], axis=1), y=test_data['y_yes'], f='./data/test.libsvm')"
   ]
  },
  {
   "cell_type": "code",
   "execution_count": 136,
   "metadata": {
    "ExecuteTime": {
     "end_time": "2020-07-30T18:37:33.561980Z",
     "start_time": "2020-07-30T18:37:32.758274Z"
    }
   },
   "outputs": [],
   "source": [
    "# Accessing our bucket\n",
    "s3 = boto3.resource('s3')\n",
    "bucket = s3.Bucket(BUCKET_NAME)\n",
    "\n",
    "# uploading files\n",
    "bucket.Object(PREFIX + '/train/train.libsvm').upload_file('./data/train.libsvm')\n",
    "bucket.Object(PREFIX + '/validation/validation.libsvm').upload_file('./data/validation.libsvm')"
   ]
  },
  {
   "cell_type": "markdown",
   "metadata": {},
   "source": [
    "We also need to create training channels for the training job."
   ]
  },
  {
   "cell_type": "code",
   "execution_count": 140,
   "metadata": {
    "ExecuteTime": {
     "end_time": "2020-07-30T19:15:35.399012Z",
     "start_time": "2020-07-30T19:15:35.391524Z"
    }
   },
   "outputs": [
    {
     "name": "stderr",
     "output_type": "stream",
     "text": [
      "'s3_input' class will be renamed to 'TrainingInput' in SageMaker Python SDK v2.\n",
      "'s3_input' class will be renamed to 'TrainingInput' in SageMaker Python SDK v2.\n"
     ]
    }
   ],
   "source": [
    "s3_input_train = sagemaker.s3_input(s3_data=f's3://{BUCKET_NAME}/{PREFIX}/train',\n",
    "                   content_type='libsvm')\n",
    "s3_input_validation = sagemaker.s3_input(s3_data=f's3://{BUCKET_NAME}/{PREFIX}/validation',\n",
    "                   content_type='libsvm')"
   ]
  },
  {
   "cell_type": "markdown",
   "metadata": {},
   "source": [
    "## Train"
   ]
  },
  {
   "cell_type": "markdown",
   "metadata": {},
   "source": [
    "In this example, we will use one of the built-in algorithms. To build the estimator object, we need the algorithm image (xgboost in this case):"
   ]
  },
  {
   "cell_type": "code",
   "execution_count": 162,
   "metadata": {
    "ExecuteTime": {
     "end_time": "2020-07-30T19:30:00.236744Z",
     "start_time": "2020-07-30T19:30:00.208824Z"
    }
   },
   "outputs": [
    {
     "name": "stderr",
     "output_type": "stream",
     "text": [
      "'get_image_uri' method will be deprecated in favor of 'ImageURIProvider' class in SageMaker Python SDK v2.\n"
     ]
    }
   ],
   "source": [
    "from sagemaker.amazon.amazon_estimator import get_image_uri\n",
    "\n",
    "# basically returns the URI (Uniform Resource Identifier)\n",
    "container = get_image_uri(boto3.Session().region_name, \n",
    "                          'xgboost', \n",
    "                          '1.0-1')"
   ]
  },
  {
   "cell_type": "code",
   "execution_count": 163,
   "metadata": {
    "ExecuteTime": {
     "end_time": "2020-07-30T19:30:00.248712Z",
     "start_time": "2020-07-30T19:30:00.237740Z"
    }
   },
   "outputs": [
    {
     "name": "stderr",
     "output_type": "stream",
     "text": [
      "Parameter image_name will be renamed to image_uri in SageMaker Python SDK v2.\n"
     ]
    }
   ],
   "source": [
    "xgb = sagemaker.estimator.Estimator(container,\n",
    "                                    ROLE_NAME,\n",
    "                                    train_instance_count=1,\n",
    "                                    train_instance_type='ml.c5.xlarge',\n",
    "                                    output_path=f's3://{BUCKET_NAME}/{PREFIX}/output',\n",
    "                                    sagemaker_session=sagemaker.Session())"
   ]
  },
  {
   "cell_type": "code",
   "execution_count": 164,
   "metadata": {
    "ExecuteTime": {
     "end_time": "2020-07-30T19:30:00.254696Z",
     "start_time": "2020-07-30T19:30:00.250706Z"
    }
   },
   "outputs": [],
   "source": [
    "xgb.set_hyperparameters(max_depth=3,\n",
    "                        eta=0.1,\n",
    "                        subsample=0.5,\n",
    "                        eval_metric='auc',\n",
    "                        objective='binary:logistic',\n",
    "                        scale_pos_weight=2.0,\n",
    "                        num_round=100)"
   ]
  },
  {
   "cell_type": "code",
   "execution_count": 165,
   "metadata": {
    "ExecuteTime": {
     "end_time": "2020-07-30T19:33:19.700899Z",
     "start_time": "2020-07-30T19:30:00.256689Z"
    }
   },
   "outputs": [
    {
     "name": "stdout",
     "output_type": "stream",
     "text": [
      "2020-07-30 19:30:01 Starting - Starting the training job...\n",
      "2020-07-30 19:30:04 Starting - Launching requested ML instances......\n",
      "2020-07-30 19:31:23 Starting - Preparing the instances for training...\n",
      "2020-07-30 19:31:55 Downloading - Downloading input data...\n",
      "2020-07-30 19:32:35 Training - Training image download completed. Training in progress..\u001b[34mINFO:sagemaker-containers:Imported framework sagemaker_xgboost_container.training\u001b[0m\n",
      "\u001b[34mINFO:sagemaker-containers:Failed to parse hyperparameter eval_metric value auc to Json.\u001b[0m\n",
      "\u001b[34mReturning the value itself\u001b[0m\n",
      "\u001b[34mINFO:sagemaker-containers:Failed to parse hyperparameter objective value binary:logistic to Json.\u001b[0m\n",
      "\u001b[34mReturning the value itself\u001b[0m\n",
      "\u001b[34mINFO:sagemaker-containers:No GPUs detected (normal if no gpus installed)\u001b[0m\n",
      "\u001b[34mINFO:sagemaker_xgboost_container.training:Running XGBoost Sagemaker in algorithm mode\u001b[0m\n",
      "\u001b[34m[19:32:36] 5614x331 matrix with 33684 entries loaded from /opt/ml/input/data/train\u001b[0m\n",
      "\u001b[34m[19:32:36] 1604x331 matrix with 9624 entries loaded from /opt/ml/input/data/validation\u001b[0m\n",
      "\u001b[34mINFO:root:Single node training.\u001b[0m\n",
      "\u001b[34mINFO:root:Train matrix has 5614 rows\u001b[0m\n",
      "\u001b[34mINFO:root:Validation matrix has 1604 rows\u001b[0m\n",
      "\u001b[34m[0]#011train-auc:0.77880#011validation-auc:0.76548\u001b[0m\n",
      "\u001b[34m[1]#011train-auc:0.79049#011validation-auc:0.77644\u001b[0m\n",
      "\u001b[34m[2]#011train-auc:0.79447#011validation-auc:0.77948\u001b[0m\n",
      "\u001b[34m[3]#011train-auc:0.80048#011validation-auc:0.78807\u001b[0m\n",
      "\u001b[34m[4]#011train-auc:0.80771#011validation-auc:0.79238\u001b[0m\n",
      "\u001b[34m[5]#011train-auc:0.80972#011validation-auc:0.79396\u001b[0m\n",
      "\u001b[34m[6]#011train-auc:0.81080#011validation-auc:0.79247\u001b[0m\n",
      "\u001b[34m[7]#011train-auc:0.81212#011validation-auc:0.79413\u001b[0m\n",
      "\u001b[34m[8]#011train-auc:0.81401#011validation-auc:0.79506\u001b[0m\n",
      "\u001b[34m[9]#011train-auc:0.81483#011validation-auc:0.79520\u001b[0m\n",
      "\u001b[34m[10]#011train-auc:0.81763#011validation-auc:0.79919\u001b[0m\n",
      "\u001b[34m[11]#011train-auc:0.81947#011validation-auc:0.80040\u001b[0m\n",
      "\u001b[34m[12]#011train-auc:0.82101#011validation-auc:0.80230\u001b[0m\n",
      "\u001b[34m[13]#011train-auc:0.82369#011validation-auc:0.80253\u001b[0m\n",
      "\u001b[34m[14]#011train-auc:0.82414#011validation-auc:0.80356\u001b[0m\n",
      "\u001b[34m[15]#011train-auc:0.82662#011validation-auc:0.80604\u001b[0m\n",
      "\u001b[34m[16]#011train-auc:0.82807#011validation-auc:0.80886\u001b[0m\n",
      "\u001b[34m[17]#011train-auc:0.83115#011validation-auc:0.80937\u001b[0m\n",
      "\u001b[34m[18]#011train-auc:0.83259#011validation-auc:0.80805\u001b[0m\n",
      "\u001b[34m[19]#011train-auc:0.83325#011validation-auc:0.80876\u001b[0m\n",
      "\u001b[34m[20]#011train-auc:0.83419#011validation-auc:0.80815\u001b[0m\n",
      "\u001b[34m[21]#011train-auc:0.83624#011validation-auc:0.81082\u001b[0m\n",
      "\u001b[34m[22]#011train-auc:0.83778#011validation-auc:0.81371\u001b[0m\n",
      "\u001b[34m[23]#011train-auc:0.83876#011validation-auc:0.81446\u001b[0m\n",
      "\u001b[34m[24]#011train-auc:0.83951#011validation-auc:0.81375\u001b[0m\n",
      "\u001b[34m[25]#011train-auc:0.84020#011validation-auc:0.81468\u001b[0m\n",
      "\u001b[34m[26]#011train-auc:0.84216#011validation-auc:0.81653\u001b[0m\n",
      "\u001b[34m[27]#011train-auc:0.84391#011validation-auc:0.81694\u001b[0m\n",
      "\u001b[34m[28]#011train-auc:0.84562#011validation-auc:0.81737\u001b[0m\n",
      "\u001b[34m[29]#011train-auc:0.84649#011validation-auc:0.81834\u001b[0m\n",
      "\u001b[34m[30]#011train-auc:0.84862#011validation-auc:0.82016\u001b[0m\n",
      "\u001b[34m[31]#011train-auc:0.84920#011validation-auc:0.82063\u001b[0m\n",
      "\u001b[34m[32]#011train-auc:0.85106#011validation-auc:0.82178\u001b[0m\n",
      "\u001b[34m[33]#011train-auc:0.85190#011validation-auc:0.82209\u001b[0m\n",
      "\u001b[34m[34]#011train-auc:0.85324#011validation-auc:0.82279\u001b[0m\n",
      "\u001b[34m[35]#011train-auc:0.85416#011validation-auc:0.82235\u001b[0m\n",
      "\u001b[34m[36]#011train-auc:0.85510#011validation-auc:0.82299\u001b[0m\n",
      "\u001b[34m[37]#011train-auc:0.85619#011validation-auc:0.82483\u001b[0m\n",
      "\u001b[34m[38]#011train-auc:0.85697#011validation-auc:0.82524\u001b[0m\n",
      "\u001b[34m[39]#011train-auc:0.85732#011validation-auc:0.82668\u001b[0m\n",
      "\u001b[34m[40]#011train-auc:0.85779#011validation-auc:0.82715\u001b[0m\n",
      "\u001b[34m[41]#011train-auc:0.85975#011validation-auc:0.82886\u001b[0m\n",
      "\u001b[34m[42]#011train-auc:0.86120#011validation-auc:0.82867\u001b[0m\n",
      "\u001b[34m[43]#011train-auc:0.86174#011validation-auc:0.82910\u001b[0m\n",
      "\u001b[34m[44]#011train-auc:0.86281#011validation-auc:0.82910\u001b[0m\n",
      "\u001b[34m[45]#011train-auc:0.86300#011validation-auc:0.82915\u001b[0m\n",
      "\u001b[34m[46]#011train-auc:0.86423#011validation-auc:0.82993\u001b[0m\n",
      "\u001b[34m[47]#011train-auc:0.86539#011validation-auc:0.83090\u001b[0m\n",
      "\u001b[34m[48]#011train-auc:0.86607#011validation-auc:0.83073\u001b[0m\n",
      "\u001b[34m[49]#011train-auc:0.86669#011validation-auc:0.83173\u001b[0m\n",
      "\u001b[34m[50]#011train-auc:0.86711#011validation-auc:0.83210\u001b[0m\n",
      "\u001b[34m[51]#011train-auc:0.86785#011validation-auc:0.83275\u001b[0m\n",
      "\u001b[34m[52]#011train-auc:0.86807#011validation-auc:0.83254\u001b[0m\n",
      "\u001b[34m[53]#011train-auc:0.86917#011validation-auc:0.83358\u001b[0m\n",
      "\u001b[34m[54]#011train-auc:0.87034#011validation-auc:0.83462\u001b[0m\n",
      "\u001b[34m[55]#011train-auc:0.87096#011validation-auc:0.83533\u001b[0m\n",
      "\u001b[34m[56]#011train-auc:0.87198#011validation-auc:0.83643\u001b[0m\n",
      "\u001b[34m[57]#011train-auc:0.87284#011validation-auc:0.83723\u001b[0m\n",
      "\u001b[34m[58]#011train-auc:0.87299#011validation-auc:0.83751\u001b[0m\n",
      "\u001b[34m[59]#011train-auc:0.87345#011validation-auc:0.83756\u001b[0m\n",
      "\u001b[34m[60]#011train-auc:0.87387#011validation-auc:0.83654\u001b[0m\n",
      "\u001b[34m[61]#011train-auc:0.87409#011validation-auc:0.83657\u001b[0m\n",
      "\u001b[34m[62]#011train-auc:0.87450#011validation-auc:0.83686\u001b[0m\n",
      "\u001b[34m[63]#011train-auc:0.87491#011validation-auc:0.83715\u001b[0m\n",
      "\u001b[34m[64]#011train-auc:0.87570#011validation-auc:0.83781\u001b[0m\n",
      "\u001b[34m[65]#011train-auc:0.87622#011validation-auc:0.83835\u001b[0m\n",
      "\u001b[34m[66]#011train-auc:0.87680#011validation-auc:0.83852\u001b[0m\n",
      "\u001b[34m[67]#011train-auc:0.87719#011validation-auc:0.83875\u001b[0m\n",
      "\u001b[34m[68]#011train-auc:0.87734#011validation-auc:0.83859\u001b[0m\n",
      "\u001b[34m[69]#011train-auc:0.87783#011validation-auc:0.83917\u001b[0m\n",
      "\u001b[34m[70]#011train-auc:0.87833#011validation-auc:0.83983\u001b[0m\n",
      "\u001b[34m[71]#011train-auc:0.87862#011validation-auc:0.83976\u001b[0m\n",
      "\u001b[34m[72]#011train-auc:0.87894#011validation-auc:0.83991\u001b[0m\n",
      "\u001b[34m[73]#011train-auc:0.87970#011validation-auc:0.84154\u001b[0m\n",
      "\u001b[34m[74]#011train-auc:0.87994#011validation-auc:0.84185\u001b[0m\n",
      "\u001b[34m[75]#011train-auc:0.88031#011validation-auc:0.84161\u001b[0m\n",
      "\u001b[34m[76]#011train-auc:0.88084#011validation-auc:0.84205\u001b[0m\n",
      "\u001b[34m[77]#011train-auc:0.88127#011validation-auc:0.84235\u001b[0m\n",
      "\u001b[34m[78]#011train-auc:0.88211#011validation-auc:0.84246\u001b[0m\n",
      "\u001b[34m[79]#011train-auc:0.88250#011validation-auc:0.84319\u001b[0m\n",
      "\u001b[34m[80]#011train-auc:0.88293#011validation-auc:0.84329\u001b[0m\n",
      "\u001b[34m[81]#011train-auc:0.88347#011validation-auc:0.84352\u001b[0m\n",
      "\u001b[34m[82]#011train-auc:0.88369#011validation-auc:0.84361\u001b[0m\n",
      "\u001b[34m[83]#011train-auc:0.88410#011validation-auc:0.84317\u001b[0m\n",
      "\u001b[34m[84]#011train-auc:0.88476#011validation-auc:0.84287\u001b[0m\n",
      "\u001b[34m[85]#011train-auc:0.88554#011validation-auc:0.84244\u001b[0m\n",
      "\u001b[34m[86]#011train-auc:0.88590#011validation-auc:0.84255\u001b[0m\n",
      "\u001b[34m[87]#011train-auc:0.88612#011validation-auc:0.84211\u001b[0m\n",
      "\u001b[34m[88]#011train-auc:0.88639#011validation-auc:0.84242\u001b[0m\n",
      "\u001b[34m[89]#011train-auc:0.88660#011validation-auc:0.84305\u001b[0m\n",
      "\u001b[34m[90]#011train-auc:0.88689#011validation-auc:0.84285\u001b[0m\n",
      "\u001b[34m[91]#011train-auc:0.88682#011validation-auc:0.84300\u001b[0m\n",
      "\u001b[34m[92]#011train-auc:0.88708#011validation-auc:0.84314\u001b[0m\n",
      "\u001b[34m[93]#011train-auc:0.88712#011validation-auc:0.84245\u001b[0m\n",
      "\u001b[34m[94]#011train-auc:0.88751#011validation-auc:0.84265\u001b[0m\n",
      "\u001b[34m[95]#011train-auc:0.88796#011validation-auc:0.84336\u001b[0m\n",
      "\u001b[34m[96]#011train-auc:0.88825#011validation-auc:0.84369\u001b[0m\n",
      "\u001b[34m[97]#011train-auc:0.88874#011validation-auc:0.84533\u001b[0m\n",
      "\u001b[34m[98]#011train-auc:0.88966#011validation-auc:0.84498\u001b[0m\n",
      "\u001b[34m[99]#011train-auc:0.88998#011validation-auc:0.84512\u001b[0m\n",
      "\n",
      "2020-07-30 19:32:47 Uploading - Uploading generated training model\n",
      "2020-07-30 19:32:47 Completed - Training job completed\n",
      "Training seconds: 52\n",
      "Billable seconds: 52\n"
     ]
    }
   ],
   "source": [
    "xgb.fit(inputs={'train':s3_input_train,\n",
    "                'validation':s3_input_validation})"
   ]
  },
  {
   "cell_type": "markdown",
   "metadata": {},
   "source": [
    "## Host"
   ]
  },
  {
   "cell_type": "code",
   "execution_count": 166,
   "metadata": {
    "ExecuteTime": {
     "end_time": "2020-07-30T20:04:01.771769Z",
     "start_time": "2020-07-30T19:56:24.808866Z"
    }
   },
   "outputs": [
    {
     "name": "stderr",
     "output_type": "stream",
     "text": [
      "Parameter image will be renamed to image_uri in SageMaker Python SDK v2.\n"
     ]
    },
    {
     "name": "stdout",
     "output_type": "stream",
     "text": [
      "---------------!"
     ]
    }
   ],
   "source": [
    "xgb_predictor = xgb.deploy(initial_instance_count=1,\n",
    "                          instance_type='ml.m5.xlarge')"
   ]
  },
  {
   "cell_type": "markdown",
   "metadata": {},
   "source": [
    "Calculating predictions on test data:"
   ]
  },
  {
   "cell_type": "code",
   "execution_count": 190,
   "metadata": {
    "ExecuteTime": {
     "end_time": "2020-07-30T20:09:09.581138Z",
     "start_time": "2020-07-30T20:09:09.569143Z"
    }
   },
   "outputs": [],
   "source": [
    "xgb_predictor.content_type = 'text/x-libsvm'\n",
    "xgb_predictor.deserializer = None\n",
    "\n",
    "def do_predict(data):\n",
    "    payload = '\\n'.join(data)\n",
    "    response = xgb_predictor.predict(payload).decode('utf-8')\n",
    "    result = response.split(',')\n",
    "    preds = [float((num)) for num in result]\n",
    "    preds = [round(num) for num in preds]\n",
    "    return preds\n",
    "\n",
    "def batch_predict(data, batch_size):\n",
    "    items = len(data)\n",
    "    arrs = []\n",
    "    \n",
    "    for offset in range(0, items, batch_size):\n",
    "        if offset+batch_size < items:\n",
    "            results = do_predict(data[offset:(offset+batch_size)])\n",
    "            arrs.extend(results)\n",
    "        else:\n",
    "            arrs.extend(do_predict(data[offset:items]))\n",
    "        sys.stdout.write('.')\n",
    "    return(arrs)"
   ]
  },
  {
   "cell_type": "code",
   "execution_count": 191,
   "metadata": {
    "ExecuteTime": {
     "end_time": "2020-07-30T20:09:11.898089Z",
     "start_time": "2020-07-30T20:09:11.267474Z"
    }
   },
   "outputs": [
    {
     "name": "stdout",
     "output_type": "stream",
     "text": [
      ".........\n",
      "error rate=0.144458\n",
      "Wall time: 624 ms\n"
     ]
    }
   ],
   "source": [
    "%%time\n",
    "import json\n",
    "\n",
    "with open('./data/test.libsvm', 'r') as f:\n",
    "    payload = f.read().strip()\n",
    "\n",
    "labels = [int(line.split(' ')[0]) for line in payload.split('\\n')]\n",
    "test_data = [line for line in payload.split('\\n')]\n",
    "preds = batch_predict(test_data, 100)\n",
    "\n",
    "print ('\\nerror rate=%f' % ( sum(1 for i in range(len(preds)) if preds[i]!=labels[i]) /float(len(preds))))"
   ]
  },
  {
   "cell_type": "code",
   "execution_count": 192,
   "metadata": {
    "ExecuteTime": {
     "end_time": "2020-07-30T20:09:20.314154Z",
     "start_time": "2020-07-30T20:09:20.273113Z"
    }
   },
   "outputs": [
    {
     "data": {
      "text/html": [
       "<div>\n",
       "<style scoped>\n",
       "    .dataframe tbody tr th:only-of-type {\n",
       "        vertical-align: middle;\n",
       "    }\n",
       "\n",
       "    .dataframe tbody tr th {\n",
       "        vertical-align: top;\n",
       "    }\n",
       "\n",
       "    .dataframe thead th {\n",
       "        text-align: right;\n",
       "    }\n",
       "</style>\n",
       "<table border=\"1\" class=\"dataframe\">\n",
       "  <thead>\n",
       "    <tr style=\"text-align: right;\">\n",
       "      <th>col_0</th>\n",
       "      <th>0</th>\n",
       "      <th>1</th>\n",
       "    </tr>\n",
       "    <tr>\n",
       "      <th>row_0</th>\n",
       "      <th></th>\n",
       "      <th></th>\n",
       "    </tr>\n",
       "  </thead>\n",
       "  <tbody>\n",
       "    <tr>\n",
       "      <th>0</th>\n",
       "      <td>616</td>\n",
       "      <td>55</td>\n",
       "    </tr>\n",
       "    <tr>\n",
       "      <th>1</th>\n",
       "      <td>61</td>\n",
       "      <td>71</td>\n",
       "    </tr>\n",
       "  </tbody>\n",
       "</table>\n",
       "</div>"
      ],
      "text/plain": [
       "col_0    0   1\n",
       "row_0         \n",
       "0      616  55\n",
       "1       61  71"
      ]
     },
     "execution_count": 192,
     "metadata": {},
     "output_type": "execute_result"
    }
   ],
   "source": [
    "pd.crosstab(index=np.array(labels), columns=np.array(preds))"
   ]
  },
  {
   "cell_type": "code",
   "execution_count": 203,
   "metadata": {
    "ExecuteTime": {
     "end_time": "2020-07-30T20:13:02.053540Z",
     "start_time": "2020-07-30T20:13:01.682495Z"
    }
   },
   "outputs": [],
   "source": [
    "sagemaker.Session().delete_endpoint(xgb_predictor.endpoint)"
   ]
  }
 ],
 "metadata": {
  "kernelspec": {
   "display_name": "Python [conda env:playground]",
   "language": "python",
   "name": "conda-env-playground-py"
  },
  "language_info": {
   "codemirror_mode": {
    "name": "ipython",
    "version": 3
   },
   "file_extension": ".py",
   "mimetype": "text/x-python",
   "name": "python",
   "nbconvert_exporter": "python",
   "pygments_lexer": "ipython3",
   "version": "3.7.3"
  },
  "toc": {
   "base_numbering": 1,
   "nav_menu": {},
   "number_sections": true,
   "sideBar": true,
   "skip_h1_title": false,
   "title_cell": "Table of Contents",
   "title_sidebar": "Contents",
   "toc_cell": false,
   "toc_position": {},
   "toc_section_display": true,
   "toc_window_display": true
  },
  "varInspector": {
   "cols": {
    "lenName": 16,
    "lenType": 16,
    "lenVar": 40
   },
   "kernels_config": {
    "python": {
     "delete_cmd_postfix": "",
     "delete_cmd_prefix": "del ",
     "library": "var_list.py",
     "varRefreshCmd": "print(var_dic_list())"
    },
    "r": {
     "delete_cmd_postfix": ") ",
     "delete_cmd_prefix": "rm(",
     "library": "var_list.r",
     "varRefreshCmd": "cat(var_dic_list()) "
    }
   },
   "types_to_exclude": [
    "module",
    "function",
    "builtin_function_or_method",
    "instance",
    "_Feature"
   ],
   "window_display": false
  }
 },
 "nbformat": 4,
 "nbformat_minor": 2
}
