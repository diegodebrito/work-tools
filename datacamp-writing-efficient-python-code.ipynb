{
 "cells": [
  {
   "cell_type": "markdown",
   "metadata": {},
   "source": [
    "# Writing Efficient Python Code"
   ]
  },
  {
   "cell_type": "markdown",
   "metadata": {},
   "source": [
    "## Foundations for efficiencies\n",
    "- Efficient Python code has fast runtime (low latency) and minimal resource consumption (small overhead).\n",
    "- Use NumPy arrays to broadcast operations. Other advantages: indexing and boolean masking.\n",
    "- Use built-in function map more."
   ]
  },
  {
   "cell_type": "markdown",
   "metadata": {},
   "source": [
    "**Unpacking** with **range** and **enumerate**"
   ]
  },
  {
   "cell_type": "code",
   "execution_count": 2,
   "metadata": {
    "ExecuteTime": {
     "end_time": "2020-07-28T20:32:01.836565Z",
     "start_time": "2020-07-28T20:32:01.825591Z"
    }
   },
   "outputs": [
    {
     "data": {
      "text/plain": [
       "[1, 2, 3, 4, 5, 6, 7, 8, 9, 10]"
      ]
     },
     "execution_count": 2,
     "metadata": {},
     "output_type": "execute_result"
    }
   ],
   "source": [
    "[*range(1, 11, 1)]"
   ]
  },
  {
   "cell_type": "code",
   "execution_count": 3,
   "metadata": {
    "ExecuteTime": {
     "end_time": "2020-07-28T20:36:10.288895Z",
     "start_time": "2020-07-28T20:36:10.282910Z"
    }
   },
   "outputs": [
    {
     "data": {
      "text/plain": [
       "[(0, 'John'), (1, 'Mike'), (2, 'Brenda')]"
      ]
     },
     "execution_count": 3,
     "metadata": {},
     "output_type": "execute_result"
    }
   ],
   "source": [
    "names = ['John', 'Mike', 'Brenda']\n",
    "[*enumerate(names)]"
   ]
  },
  {
   "cell_type": "markdown",
   "metadata": {},
   "source": [
    "## Timing and Profiling Code"
   ]
  },
  {
   "cell_type": "markdown",
   "metadata": {},
   "source": [
    "**IPython Magic commands**: prefixed with % (%lsmagic lists all available magics)  \n",
    "\n",
    "**%timeit** (line) / **%%timeit**(cell)\n",
    "- runs: how many iterations to estimate the run time (-r)\n",
    "- loops: number of executions per run (-n)\n",
    "- save time in a variable (-o)\n",
    "\n",
    "**Performance**\n",
    "- Unpacking can be faster than list comprehension ([*range(1,10)])\n",
    "- Using literals for datatypes is faster ([] instead of list())\n",
    "- Broadcasting with numpy is also faster"
   ]
  },
  {
   "cell_type": "code",
   "execution_count": 14,
   "metadata": {
    "ExecuteTime": {
     "end_time": "2020-07-28T20:56:12.096132Z",
     "start_time": "2020-07-28T20:56:12.090147Z"
    }
   },
   "outputs": [
    {
     "name": "stdout",
     "output_type": "stream",
     "text": [
      "14.2 ns ± 0.098 ns per loop (mean ± std. dev. of 10 runs, 1000 loops each)\n"
     ]
    }
   ],
   "source": [
    "times = %timeit -r 10 -n 1000 -o a=1"
   ]
  },
  {
   "cell_type": "code",
   "execution_count": 22,
   "metadata": {
    "ExecuteTime": {
     "end_time": "2020-07-28T20:58:33.801415Z",
     "start_time": "2020-07-28T20:58:33.794435Z"
    }
   },
   "outputs": [
    {
     "data": {
      "text/plain": [
       "dict_keys(['loops', 'repeat', 'best', 'worst', 'all_runs', 'compile_time', '_precision', 'timings'])"
      ]
     },
     "execution_count": 22,
     "metadata": {},
     "output_type": "execute_result"
    }
   ],
   "source": [
    "vars(times).keys()"
   ]
  },
  {
   "cell_type": "code",
   "execution_count": 23,
   "metadata": {
    "ExecuteTime": {
     "end_time": "2020-07-28T21:00:11.853747Z",
     "start_time": "2020-07-28T21:00:04.969978Z"
    }
   },
   "outputs": [
    {
     "name": "stdout",
     "output_type": "stream",
     "text": [
      "862 ns ± 76 ns per loop (mean ± std. dev. of 7 runs, 1000000 loops each)\n"
     ]
    }
   ],
   "source": [
    "%%timeit\n",
    "nums = []\n",
    "for x in range(10):\n",
    "    nums.append(x)"
   ]
  },
  {
   "cell_type": "markdown",
   "metadata": {},
   "source": [
    "**Code Profiling / line_profiler package**  \n",
    "Detailed statistics on frequency and duration of function calls / Line-by-line analysis  \n",
    "\n",
    "**%lprun**\n",
    "- -f: profile a function"
   ]
  },
  {
   "cell_type": "code",
   "execution_count": 2,
   "metadata": {
    "ExecuteTime": {
     "end_time": "2020-07-28T21:44:41.129784Z",
     "start_time": "2020-07-28T21:44:41.125004Z"
    }
   },
   "outputs": [],
   "source": [
    "%load_ext line_profiler\n",
    "# magic command for line-by-line times\n",
    "%lprun -f function_name function_call(arguments)"
   ]
  },
  {
   "cell_type": "markdown",
   "metadata": {},
   "source": [
    "**Code profiling for memory**   \n",
    "Using sys for the number of bytes:"
   ]
  },
  {
   "cell_type": "code",
   "execution_count": 1,
   "metadata": {
    "ExecuteTime": {
     "end_time": "2020-07-29T21:31:00.077189Z",
     "start_time": "2020-07-29T21:31:00.068214Z"
    }
   },
   "outputs": [
    {
     "data": {
      "text/plain": [
       "9112"
      ]
     },
     "execution_count": 1,
     "metadata": {},
     "output_type": "execute_result"
    }
   ],
   "source": [
    "import sys\n",
    "num_list = [*range(1000)]\n",
    "sys.getsizeof(num_list)"
   ]
  },
  {
   "cell_type": "markdown",
   "metadata": {},
   "source": [
    "Better way: using **memory_profiler** package\n",
    "- functions need to be defined in separate files\n",
    "- not as reliable as time profiling"
   ]
  },
  {
   "cell_type": "code",
   "execution_count": null,
   "metadata": {},
   "outputs": [],
   "source": [
    "%load_ext memory_profiler\n",
    "from module import function_name\n",
    "%mprun -f function_name function_call(arguments)"
   ]
  },
  {
   "cell_type": "markdown",
   "metadata": {},
   "source": [
    "## Gaining Efficiencies\n",
    "- Use NumPy + Broadcasting, list comprehensions and/or map, and holistic datatype conversion"
   ]
  },
  {
   "cell_type": "code",
   "execution_count": 3,
   "metadata": {
    "ExecuteTime": {
     "end_time": "2020-07-29T22:02:43.533561Z",
     "start_time": "2020-07-29T22:02:43.528575Z"
    }
   },
   "outputs": [
    {
     "data": {
      "text/plain": [
       "[('Jonh', 25), ('Mary', 65), ('Amanda', 40)]"
      ]
     },
     "execution_count": 3,
     "metadata": {},
     "output_type": "execute_result"
    }
   ],
   "source": [
    "# zip with unpacking\n",
    "names = ['Jonh', 'Mary', 'Amanda']\n",
    "ages = [25, 65, 40]\n",
    "\n",
    "[*zip(names, ages)]"
   ]
  },
  {
   "cell_type": "markdown",
   "metadata": {},
   "source": [
    "**collections** module\n",
    "- Counter: dict for counting hashable objects\n",
    "- defauldict: dict that calls a factory function to supply missing values"
   ]
  },
  {
   "cell_type": "code",
   "execution_count": 24,
   "metadata": {
    "ExecuteTime": {
     "end_time": "2020-07-30T00:18:28.832863Z",
     "start_time": "2020-07-30T00:18:28.826879Z"
    }
   },
   "outputs": [
    {
     "data": {
      "text/plain": [
       "Counter({'Grass': 2, 'Fire': 1, 'Water': 1})"
      ]
     },
     "execution_count": 24,
     "metadata": {},
     "output_type": "execute_result"
    }
   ],
   "source": [
    "# faster than using\n",
    "from collections import Counter\n",
    "\n",
    "objects = ['Grass', 'Grass', 'Fire', 'Water']\n",
    "type_counts = Counter(objects)\n",
    "type_counts"
   ]
  },
  {
   "cell_type": "code",
   "execution_count": 21,
   "metadata": {
    "ExecuteTime": {
     "end_time": "2020-07-29T22:08:05.186575Z",
     "start_time": "2020-07-29T22:08:05.181614Z"
    }
   },
   "outputs": [
    {
     "data": {
      "text/plain": [
       "'Not Available'"
      ]
     },
     "execution_count": 21,
     "metadata": {},
     "output_type": "execute_result"
    }
   ],
   "source": [
    "from collections import defaultdict\n",
    "\n",
    "elements = defaultdict(lambda:'Not Available')\n",
    "elements['John'] = 25\n",
    "elements['Mary']"
   ]
  },
  {
   "cell_type": "markdown",
   "metadata": {},
   "source": [
    "**itertools** module\n",
    "- Combination generators: product, permutations, combinations"
   ]
  },
  {
   "cell_type": "code",
   "execution_count": 27,
   "metadata": {
    "ExecuteTime": {
     "end_time": "2020-07-30T00:21:47.408364Z",
     "start_time": "2020-07-30T00:21:47.403377Z"
    }
   },
   "outputs": [
    {
     "data": {
      "text/plain": [
       "[('High', 'Medium'), ('High', 'Low'), ('Medium', 'Low')]"
      ]
     },
     "execution_count": 27,
     "metadata": {},
     "output_type": "execute_result"
    }
   ],
   "source": [
    "# combinations (order does not matter and no repeated elements)\n",
    "from itertools import combinations\n",
    "\n",
    "types = ['High', 'Medium', 'Low']\n",
    "\n",
    "comb_objs = combinations(types, 2)\n",
    "[*comb_objs]"
   ]
  },
  {
   "cell_type": "markdown",
   "metadata": {},
   "source": [
    "**Set Theory**  \n",
    "Python has built-in set datatype and methods\n",
    "- intersection(): elements in both sets\n",
    "- difference(): all elements in one set but not the other\n",
    "- symmetric_difference(): all elements in exactly one set\n",
    "- union(): duplicates are gathered once\n",
    "- membership checking with **in** operator (faster using sets)\n",
    "- sets: good way to find unique values"
   ]
  },
  {
   "cell_type": "code",
   "execution_count": 31,
   "metadata": {
    "ExecuteTime": {
     "end_time": "2020-07-30T00:39:29.432921Z",
     "start_time": "2020-07-30T00:39:29.427965Z"
    }
   },
   "outputs": [
    {
     "data": {
      "text/plain": [
       "True"
      ]
     },
     "execution_count": 31,
     "metadata": {},
     "output_type": "execute_result"
    }
   ],
   "source": [
    "# much faster than using loops\n",
    "list_a = [5, 10, 15, 20]\n",
    "list_b = [0, 10, 20]\n",
    "\n",
    "set_a = set(list_a)\n",
    "set_b = set(list_b)\n",
    "\n",
    "inter = set_a.intersection(set_b)\n",
    "10 in inter"
   ]
  },
  {
   "cell_type": "markdown",
   "metadata": {},
   "source": [
    "## Basic Pandas Optimizations"
   ]
  },
  {
   "cell_type": "code",
   "execution_count": 41,
   "metadata": {
    "ExecuteTime": {
     "end_time": "2020-07-30T01:41:32.711733Z",
     "start_time": "2020-07-30T01:41:32.695777Z"
    }
   },
   "outputs": [],
   "source": [
    "import pandas as pd\n",
    "from sklearn.datasets import load_boston\n",
    "\n",
    "boston = load_boston()\n",
    "boston_df = pd.DataFrame(boston['data'], columns=boston['feature_names'])"
   ]
  },
  {
   "cell_type": "markdown",
   "metadata": {},
   "source": [
    "**.iterrows()**  \n",
    "Not very good performance (better using vectorization)"
   ]
  },
  {
   "cell_type": "code",
   "execution_count": 54,
   "metadata": {
    "ExecuteTime": {
     "end_time": "2020-07-30T01:56:54.121666Z",
     "start_time": "2020-07-30T01:56:54.078163Z"
    }
   },
   "outputs": [],
   "source": [
    "tax_age = []\n",
    "\n",
    "for i, row in boston_df.iterrows():\n",
    "    tax_age.append(row['TAX']/row['AGE'])"
   ]
  },
  {
   "cell_type": "markdown",
   "metadata": {
    "ExecuteTime": {
     "end_time": "2020-07-30T01:56:42.213300Z",
     "start_time": "2020-07-30T01:56:42.207319Z"
    }
   },
   "source": [
    "**.itertuples()**    \n",
    "Better performance than .iterrrows()  \n",
    "Attention: named tuples do not support brackets. We must use dot notation like below:"
   ]
  },
  {
   "cell_type": "code",
   "execution_count": 52,
   "metadata": {
    "ExecuteTime": {
     "end_time": "2020-07-30T01:56:09.618441Z",
     "start_time": "2020-07-30T01:56:09.612759Z"
    }
   },
   "outputs": [],
   "source": [
    "tax_age = []\n",
    "\n",
    "for row_namedtuple in boston_df.itertuples():\n",
    "    tax_age.append(row_namedtuple.TAX/row_namedtuple.AGE)"
   ]
  },
  {
   "cell_type": "markdown",
   "metadata": {},
   "source": [
    "**.apply()**  \n",
    "Faster than but approaches above, but slower than vectorization\n",
    "Specify 0 for columns or 1 for rows  \n",
    "It can be slow if executed with a function that requires native Python:\n",
    "https://stackoverflow.com/questions/24870953/does-pandas-iterrows-have-performance-issues"
   ]
  },
  {
   "cell_type": "code",
   "execution_count": 60,
   "metadata": {
    "ExecuteTime": {
     "end_time": "2020-07-30T02:07:01.362342Z",
     "start_time": "2020-07-30T02:07:01.343419Z"
    }
   },
   "outputs": [
    {
     "data": {
      "text/plain": [
       "0      4.539877\n",
       "1      3.067174\n",
       "2      3.960720\n",
       "3      4.847162\n",
       "4      4.095941\n",
       "         ...   \n",
       "501    3.950796\n",
       "502    3.559322\n",
       "503    3.000000\n",
       "504    3.057111\n",
       "505    3.378713\n",
       "Length: 506, dtype: float64"
      ]
     },
     "execution_count": 60,
     "metadata": {},
     "output_type": "execute_result"
    }
   ],
   "source": [
    "boston_df.apply(lambda row: row['TAX']/row['AGE'], axis=1)"
   ]
  },
  {
   "cell_type": "markdown",
   "metadata": {},
   "source": [
    "**vectorized operations**  \n",
    "MUCH faster thant the other approaches"
   ]
  },
  {
   "cell_type": "code",
   "execution_count": 64,
   "metadata": {
    "ExecuteTime": {
     "end_time": "2020-07-30T02:07:05.183654Z",
     "start_time": "2020-07-30T02:07:05.174677Z"
    }
   },
   "outputs": [
    {
     "data": {
      "text/plain": [
       "0      4.539877\n",
       "1      3.067174\n",
       "2      3.960720\n",
       "3      4.847162\n",
       "4      4.095941\n",
       "         ...   \n",
       "501    3.950796\n",
       "502    3.559322\n",
       "503    3.000000\n",
       "504    3.057111\n",
       "505    3.378713\n",
       "Length: 506, dtype: float64"
      ]
     },
     "execution_count": 64,
     "metadata": {},
     "output_type": "execute_result"
    }
   ],
   "source": [
    "boston_df['TAX']/boston_df['AGE']"
   ]
  }
 ],
 "metadata": {
  "kernelspec": {
   "display_name": "Python [conda env:playground]",
   "language": "python",
   "name": "conda-env-playground-py"
  },
  "language_info": {
   "codemirror_mode": {
    "name": "ipython",
    "version": 3
   },
   "file_extension": ".py",
   "mimetype": "text/x-python",
   "name": "python",
   "nbconvert_exporter": "python",
   "pygments_lexer": "ipython3",
   "version": "3.7.3"
  },
  "toc": {
   "base_numbering": 1,
   "nav_menu": {},
   "number_sections": true,
   "sideBar": true,
   "skip_h1_title": false,
   "title_cell": "Table of Contents",
   "title_sidebar": "Contents",
   "toc_cell": false,
   "toc_position": {},
   "toc_section_display": true,
   "toc_window_display": false
  },
  "varInspector": {
   "cols": {
    "lenName": 16,
    "lenType": 16,
    "lenVar": 40
   },
   "kernels_config": {
    "python": {
     "delete_cmd_postfix": "",
     "delete_cmd_prefix": "del ",
     "library": "var_list.py",
     "varRefreshCmd": "print(var_dic_list())"
    },
    "r": {
     "delete_cmd_postfix": ") ",
     "delete_cmd_prefix": "rm(",
     "library": "var_list.r",
     "varRefreshCmd": "cat(var_dic_list()) "
    }
   },
   "types_to_exclude": [
    "module",
    "function",
    "builtin_function_or_method",
    "instance",
    "_Feature"
   ],
   "window_display": false
  }
 },
 "nbformat": 4,
 "nbformat_minor": 2
}
