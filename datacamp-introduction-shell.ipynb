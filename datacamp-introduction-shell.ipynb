{
 "cells": [
  {
   "cell_type": "markdown",
   "metadata": {},
   "source": [
    "# Introduction to Shell"
   ]
  },
  {
   "cell_type": "markdown",
   "metadata": {},
   "source": [
    "## Manipulating Files and Directories"
   ]
  },
  {
   "cell_type": "markdown",
   "metadata": {},
   "source": [
    "**pwd**: print working directory  \n",
    "**ls**: listing  \n",
    "- ls -R: recursive (all folders)\n",
    "- ls -F: used with -R, it shows the absolute path to the home directory \n",
    "\n",
    "**relative and absolute paths**: if it begins with /, it is absolute. Otherwise, ir is relative.  \n",
    "**cd**: change directory  \n",
    ".  ..  ~: current, parent, and home directory  \n",
    "**cp**: copy \n",
    "- cp original.txt duplicate.txt  \n",
    "- cp file1 file2 directory (copies all files to directory)  \n",
    "\n",
    "**mv**: move (same syntax as cp)\n",
    "- Can be used to rename files: mv name.txt mod_name.txt  \n",
    "- Works for directories as well\n",
    "\n",
    "**rm**: remove file  \n",
    "**rmdir**: remove directory (it must be empty)  \n",
    "**mkdir**: create directory  \n",
    "**/tmp**: directory for temporary files on the root directory / (not on your home directory)"
   ]
  },
  {
   "cell_type": "markdown",
   "metadata": {},
   "source": [
    "## Manipulating Data"
   ]
  },
  {
   "cell_type": "markdown",
   "metadata": {},
   "source": [
    "**cat**: prints contents of files onto the screen  \n",
    "**less**: display file one page at a time\n",
    "- Space bar to change pages\n",
    "- For multiple files: less file1 file2, :n (next) and :p (previous)\n",
    "- :q to quit  \n",
    "\n",
    "**head**: display first 10 lines\n",
    "- add command-line flag n for different number of lines: head -n 5 file\n",
    "\n",
    "**tail**: same syntax as head\n",
    "- display everything but the first six lines: flag -n +7 file\n",
    "\n",
    "**cut**: select columns from a file\n",
    "- -f: fields   -d: separator\n",
    "- cut -f 2-5, 8 -d , values (columns 2 to 5 and 8, separated by comma)\n",
    "\n",
    "**history**: list past commands with a serial number. Use !serial_number to run any of the past commands.\n",
    "\n",
    "**grep**: select lines according to what they contain.\n",
    "- Simplest use: grep pattern filename will print all lines that contain pattern\n",
    "- Some common flags: \n",
    "    - -c (print count of matching lines instead of the lines), \n",
    "    - -h (do not print the names of files when searching multiple files), \n",
    "    - -i (ignore case), \n",
    "    - -l (print the names of files that contain matches, not the matches), \n",
    "    - -n (print line numbers for matching lines), \n",
    "    - -v (invert the match, i.e. only show lines that don't match)\n",
    "\n",
    "**Help for a command**\n",
    "- man: manual (full documentation)\n",
    "- SYNOPSIS lists all the flags vaialable. Anything optional is shown in square brackets [...]. Either/or are separated by |. Things that can be repeated are shown by ... ."
   ]
  },
  {
   "cell_type": "markdown",
   "metadata": {},
   "source": [
    "## Combining Tools"
   ]
  },
  {
   "cell_type": "markdown",
   "metadata": {},
   "source": [
    "**Redirection operator >**  \n",
    "head -n folder/file.csv > file2.csv  \n",
    "\n",
    "**Pipe operator |**  \n",
    "Works like using > and intermediate files to chain commands, without the need for intermediate files.  \n",
    "cut -d , -f 2 seasonal/summer.csv | grep -v Tooth\n",
    "\n",
    "**wc**: word count\n",
    "- -c: characters in a file\n",
    "- -w: words in a file\n",
    "- -l: lines in a file\n",
    "- very useful with pipe: grep 2017-12 | wc -l\n",
    "\n",
    "Use **wildcards** to specify list of files  \n",
    "head -n 3 seasonal/s*.csv: gets summer and spring only\n",
    "- \\*: matches 0 or more characters\n",
    "- \\?: matches a single character\n",
    "- [...] matches any characters inside the square brackets\n",
    "- {...} matches any of the comma-separated patterns inside the curly brackets: {\\*.txt, \\*.csv}\n",
    "\n",
    "Use **sort** to order output.\n",
    "- -n: sort numerically\n",
    "- -r: reverse order\n",
    "- -b: ignores leading blanks\n",
    "- -f: case-insensitive\n",
    "- common use: sort -n and head to show the largest values\n",
    "\n",
    "**uniq** is often used with sort: it removes adjacent duplicates (it is designed to work with very large files). Use flag -c to display counts with this command.  \n",
    "cut -f 2 -d , file | grep -v Term | sort | uniq -c\n"
   ]
  },
  {
   "cell_type": "markdown",
   "metadata": {},
   "source": [
    "## Batch Processing"
   ]
  },
  {
   "cell_type": "markdown",
   "metadata": {},
   "source": [
    "**environment variables**  \n",
    "- HOME: user's home directory\n",
    "- PWD: present working directory\n",
    "- SHELL: which sell program is being used\n",
    "- USER: user's ID\n",
    "- **set** complete list of environment variables (the list is very long, so use it with grep to find specific commands)\n",
    "- $VAR to get the value of VAR\n",
    "\n",
    "**echo**  \n",
    "Print to the screen\n",
    "\n",
    "**shell variables**\n",
    "- assign withou any spaces: variable=expression (shell is literal about spaces). If a variable name has spaces on it, you can use quotes ' or double \" quotes to select it.\n",
    "- access with $, like environment variables\n",
    "\n",
    "**loops**  \n",
    "for filetype in gif jpg png; do echo \\\\$filetype; done  \n",
    "tip: use wildcards  \n",
    "files=seasonal/*.csv  \n",
    "for f in \\\\$files;do echo \\\\$f;done  (notice how we use \\\\$ twice)\n"
   ]
  },
  {
   "cell_type": "markdown",
   "metadata": {},
   "source": [
    "## Creating New Tools\n",
    "**nano** text editor\n",
    "- nano filename (open or create filename)\n",
    "- Ctrl + K: delete a line\n",
    "- Ctrl + U: un-delete a line\n",
    "- Ctrl + O: save the file ('O' stands for output)\n",
    "- Ctrl + X: exit the editor\n",
    "\n",
    "Tip: redirect lists of commands to files using > (this could be useful for storing procedures, creating scripts, etc)\n",
    "\n",
    "**.sh files and bash command**  \n",
    "bash headers.sh (run headers.sh file)  \n",
    "bash file.sh > output.out  \n",
    "\n",
    "**bash parameters**  \n",
    "- bash script.sh filename will replace \\\\$@ inside script.sh  \n",
    "- we can also pass multiple parameters: cut -d , -f \\\\$2 \\\\$1 can be used with the call bash script.sh filename 1 (two parameters are passed in this case)\n",
    "\n",
    "**loops**  \n",
    "\\# Print the first and last data records of each file.  \n",
    "for filename in \\\\$@  \n",
    "do  \n",
    "&emsp;head -n 2 \\\\$filename | tail -n 1  \n",
    "&emsp;tail -n 1 \\\\$filename  \n",
    "done  "
   ]
  }
 ],
 "metadata": {
  "kernelspec": {
   "display_name": "Python [conda env:dl]",
   "language": "python",
   "name": "conda-env-dl-py"
  },
  "language_info": {
   "codemirror_mode": {
    "name": "ipython",
    "version": 3
   },
   "file_extension": ".py",
   "mimetype": "text/x-python",
   "name": "python",
   "nbconvert_exporter": "python",
   "pygments_lexer": "ipython3",
   "version": "3.7.3"
  },
  "toc": {
   "base_numbering": 1,
   "nav_menu": {},
   "number_sections": true,
   "sideBar": true,
   "skip_h1_title": false,
   "title_cell": "Table of Contents",
   "title_sidebar": "Contents",
   "toc_cell": false,
   "toc_position": {},
   "toc_section_display": true,
   "toc_window_display": true
  },
  "varInspector": {
   "cols": {
    "lenName": 16,
    "lenType": 16,
    "lenVar": 40
   },
   "kernels_config": {
    "python": {
     "delete_cmd_postfix": "",
     "delete_cmd_prefix": "del ",
     "library": "var_list.py",
     "varRefreshCmd": "print(var_dic_list())"
    },
    "r": {
     "delete_cmd_postfix": ") ",
     "delete_cmd_prefix": "rm(",
     "library": "var_list.r",
     "varRefreshCmd": "cat(var_dic_list()) "
    }
   },
   "types_to_exclude": [
    "module",
    "function",
    "builtin_function_or_method",
    "instance",
    "_Feature"
   ],
   "window_display": false
  }
 },
 "nbformat": 4,
 "nbformat_minor": 2
}
